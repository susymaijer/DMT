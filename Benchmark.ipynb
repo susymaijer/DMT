{
 "cells": [
  {
   "cell_type": "code",
   "execution_count": 61,
   "metadata": {},
   "outputs": [],
   "source": [
    "import pandas as pd\n",
    "import numpy as np\n",
    "from matplotlib import pyplot as plt\n",
    "import seaborn as sns \n",
    "from sklearn.metrics import mean_squared_error"
   ]
  },
  {
   "cell_type": "markdown",
   "metadata": {},
   "source": [
    "Get benchmark performance"
   ]
  },
  {
   "cell_type": "code",
   "execution_count": 62,
   "metadata": {},
   "outputs": [
    {
     "data": {
      "text/html": [
       "<div>\n",
       "<style scoped>\n",
       "    .dataframe tbody tr th:only-of-type {\n",
       "        vertical-align: middle;\n",
       "    }\n",
       "\n",
       "    .dataframe tbody tr th {\n",
       "        vertical-align: top;\n",
       "    }\n",
       "\n",
       "    .dataframe thead th {\n",
       "        text-align: right;\n",
       "    }\n",
       "</style>\n",
       "<table border=\"1\" class=\"dataframe\">\n",
       "  <thead>\n",
       "    <tr style=\"text-align: right;\">\n",
       "      <th></th>\n",
       "      <th>mse</th>\n",
       "    </tr>\n",
       "    <tr>\n",
       "      <th>id</th>\n",
       "      <th></th>\n",
       "    </tr>\n",
       "  </thead>\n",
       "  <tbody>\n",
       "    <tr>\n",
       "      <th>AS14.01</th>\n",
       "      <td>0.320932</td>\n",
       "    </tr>\n",
       "    <tr>\n",
       "      <th>AS14.02</th>\n",
       "      <td>0.940653</td>\n",
       "    </tr>\n",
       "    <tr>\n",
       "      <th>AS14.03</th>\n",
       "      <td>0.183846</td>\n",
       "    </tr>\n",
       "    <tr>\n",
       "      <th>AS14.05</th>\n",
       "      <td>0.543088</td>\n",
       "    </tr>\n",
       "    <tr>\n",
       "      <th>AS14.06</th>\n",
       "      <td>0.576570</td>\n",
       "    </tr>\n",
       "    <tr>\n",
       "      <th>AS14.07</th>\n",
       "      <td>2.344444</td>\n",
       "    </tr>\n",
       "    <tr>\n",
       "      <th>AS14.08</th>\n",
       "      <td>0.406184</td>\n",
       "    </tr>\n",
       "    <tr>\n",
       "      <th>AS14.09</th>\n",
       "      <td>0.620049</td>\n",
       "    </tr>\n",
       "    <tr>\n",
       "      <th>AS14.12</th>\n",
       "      <td>0.463077</td>\n",
       "    </tr>\n",
       "    <tr>\n",
       "      <th>AS14.13</th>\n",
       "      <td>1.040000</td>\n",
       "    </tr>\n",
       "    <tr>\n",
       "      <th>AS14.14</th>\n",
       "      <td>0.492114</td>\n",
       "    </tr>\n",
       "    <tr>\n",
       "      <th>AS14.15</th>\n",
       "      <td>0.185985</td>\n",
       "    </tr>\n",
       "    <tr>\n",
       "      <th>AS14.16</th>\n",
       "      <td>0.420065</td>\n",
       "    </tr>\n",
       "    <tr>\n",
       "      <th>AS14.17</th>\n",
       "      <td>0.236032</td>\n",
       "    </tr>\n",
       "    <tr>\n",
       "      <th>AS14.19</th>\n",
       "      <td>0.478926</td>\n",
       "    </tr>\n",
       "    <tr>\n",
       "      <th>AS14.20</th>\n",
       "      <td>0.235169</td>\n",
       "    </tr>\n",
       "    <tr>\n",
       "      <th>AS14.23</th>\n",
       "      <td>0.339527</td>\n",
       "    </tr>\n",
       "    <tr>\n",
       "      <th>AS14.24</th>\n",
       "      <td>0.465157</td>\n",
       "    </tr>\n",
       "    <tr>\n",
       "      <th>AS14.25</th>\n",
       "      <td>0.541587</td>\n",
       "    </tr>\n",
       "    <tr>\n",
       "      <th>AS14.26</th>\n",
       "      <td>0.648182</td>\n",
       "    </tr>\n",
       "    <tr>\n",
       "      <th>AS14.27</th>\n",
       "      <td>0.648958</td>\n",
       "    </tr>\n",
       "    <tr>\n",
       "      <th>AS14.28</th>\n",
       "      <td>0.800772</td>\n",
       "    </tr>\n",
       "    <tr>\n",
       "      <th>AS14.29</th>\n",
       "      <td>0.481652</td>\n",
       "    </tr>\n",
       "    <tr>\n",
       "      <th>AS14.30</th>\n",
       "      <td>0.191353</td>\n",
       "    </tr>\n",
       "    <tr>\n",
       "      <th>AS14.31</th>\n",
       "      <td>0.219370</td>\n",
       "    </tr>\n",
       "    <tr>\n",
       "      <th>AS14.32</th>\n",
       "      <td>0.609635</td>\n",
       "    </tr>\n",
       "    <tr>\n",
       "      <th>AS14.33</th>\n",
       "      <td>1.072424</td>\n",
       "    </tr>\n",
       "  </tbody>\n",
       "</table>\n",
       "</div>"
      ],
      "text/plain": [
       "              mse\n",
       "id               \n",
       "AS14.01  0.320932\n",
       "AS14.02  0.940653\n",
       "AS14.03  0.183846\n",
       "AS14.05  0.543088\n",
       "AS14.06  0.576570\n",
       "AS14.07  2.344444\n",
       "AS14.08  0.406184\n",
       "AS14.09  0.620049\n",
       "AS14.12  0.463077\n",
       "AS14.13  1.040000\n",
       "AS14.14  0.492114\n",
       "AS14.15  0.185985\n",
       "AS14.16  0.420065\n",
       "AS14.17  0.236032\n",
       "AS14.19  0.478926\n",
       "AS14.20  0.235169\n",
       "AS14.23  0.339527\n",
       "AS14.24  0.465157\n",
       "AS14.25  0.541587\n",
       "AS14.26  0.648182\n",
       "AS14.27  0.648958\n",
       "AS14.28  0.800772\n",
       "AS14.29  0.481652\n",
       "AS14.30  0.191353\n",
       "AS14.31  0.219370\n",
       "AS14.32  0.609635\n",
       "AS14.33  1.072424"
      ]
     },
     "execution_count": 62,
     "metadata": {},
     "output_type": "execute_result"
    }
   ],
   "source": [
    "df = pd.read_csv('data/data_arima.csv', index_col=1)[['mood', 'benchmark']] ## todo change: do data that RF uses\n",
    "df = df[~df.mood.isna() & ~df.benchmark.isna()] ## todo: remove after using data that RF uses\n",
    "benchmark = df.groupby('id').apply(lambda x: mean_squared_error(x['mood'], x['benchmark'])).to_frame('mse')\n",
    "benchmark"
   ]
  },
  {
   "cell_type": "markdown",
   "metadata": {},
   "source": [
    "Compare the results from:\n",
    "- Random forest\n",
    "- Arima\n",
    "- LSTM\n",
    "- Benchmark"
   ]
  },
  {
   "cell_type": "code",
   "execution_count": 77,
   "metadata": {},
   "outputs": [
    {
     "name": "stdout",
     "output_type": "stream",
     "text": [
      "Mean MSE of arima is \t\t0.30789154208311365\n",
      "Std of MSE of arima is \t\t0.2923561063440708\n",
      "\n",
      "Mean MSE of benchmark is \t0.574287111192899\n",
      "Std of MSE of benchmark is \t0.4308188003510414\n"
     ]
    }
   ],
   "source": [
    "arima = pd.read_csv('results/arima_final.csv',index_col=0)\n",
    "arima.index.rename('id', inplace=True)\n",
    "#rf = \n",
    "#lstm = \n",
    "\n",
    "print(f'Mean MSE of arima is \\t\\t{arima[\"mse\"].mean()} with std of ')\n",
    "print(f'Mean/std MSE of benchmark is \\t{benchmark[\"mse\"].mean()}')\n",
    "print(f'Std of MSE of benchmark is \\t{benchmark[\"mse\"].std()}')"
   ]
  },
  {
   "cell_type": "code",
   "execution_count": 71,
   "metadata": {},
   "outputs": [
    {
     "data": {
      "text/plain": [
       "<matplotlib.axes._subplots.AxesSubplot at 0xd206400>"
      ]
     },
     "execution_count": 71,
     "metadata": {},
     "output_type": "execute_result"
    },
    {
     "data": {
      "image/png": "[encoded data removed]",
      "text/plain": [
       "<Figure size 432x288 with 1 Axes>"
      ]
     },
     "metadata": {
      "needs_background": "light"
     },
     "output_type": "display_data"
    }
   ],
   "source": [
    "amt_persons = len(benchmark)\n",
    "sns.lineplot(x=range(0, amt_persons), y= arima['mse'], label=\"ARIMA\")\n",
    "sns.lineplot(x=range(0, amt_persons), y= benchmark['mse'], label=\"Benchmark\")"
   ]
  },
  {
   "cell_type": "code",
   "execution_count": 73,
   "metadata": {},
   "outputs": [
    {
     "data": {
      "text/plain": [
       "<matplotlib.axes._subplots.AxesSubplot at 0xd29dbe0>"
      ]
     },
     "execution_count": 73,
     "metadata": {},
     "output_type": "execute_result"
    },
    {
     "data": {
      "image/png": "[encoded data removed]",
      "text/plain": [
       "<Figure size 432x288 with 1 Axes>"
      ]
     },
     "metadata": {
      "needs_background": "light"
     },
     "output_type": "display_data"
    }
   ],
   "source": [
    "sns.distplot(arima)\n",
    "sns.distplot(benchmark)"
   ]
  },
  {
   "cell_type": "code",
   "execution_count": null,
   "metadata": {},
   "outputs": [],
   "source": []
  }
 ],
 "metadata": {
  "kernelspec": {
   "display_name": "Python 3",
   "language": "python",
   "name": "python3"
  },
  "language_info": {
   "codemirror_mode": {
    "name": "ipython",
    "version": 3
   },
   "file_extension": ".py",
   "mimetype": "text/x-python",
   "name": "python",
   "nbconvert_exporter": "python",
   "pygments_lexer": "ipython3",
   "version": "3.8.3"
  }
 },
 "nbformat": 4,
 "nbformat_minor": 4
}
