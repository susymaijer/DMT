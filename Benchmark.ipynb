{
 "cells": [
  {
   "cell_type": "code",
   "execution_count": 1,
   "metadata": {},
   "outputs": [],
   "source": [
    "import pandas as pd\n",
    "import numpy as np\n",
    "from matplotlib import pyplot as plt\n",
    "import seaborn as sns \n",
    "from sklearn.metrics import mean_squared_error, r2_score"
   ]
  },
  {
   "cell_type": "markdown",
   "metadata": {},
   "source": [
    "### Make benchmark performance model"
   ]
  },
  {
   "cell_type": "code",
   "execution_count": 2,
   "metadata": {},
   "outputs": [
    {
     "data": {
      "text/html": [
       "<div>\n",
       "<style scoped>\n",
       "    .dataframe tbody tr th:only-of-type {\n",
       "        vertical-align: middle;\n",
       "    }\n",
       "\n",
       "    .dataframe tbody tr th {\n",
       "        vertical-align: top;\n",
       "    }\n",
       "\n",
       "    .dataframe thead th {\n",
       "        text-align: right;\n",
       "    }\n",
       "</style>\n",
       "<table border=\"1\" class=\"dataframe\">\n",
       "  <thead>\n",
       "    <tr style=\"text-align: right;\">\n",
       "      <th></th>\n",
       "      <th>id</th>\n",
       "      <th>mood</th>\n",
       "      <th>time</th>\n",
       "    </tr>\n",
       "  </thead>\n",
       "  <tbody>\n",
       "    <tr>\n",
       "      <th>0</th>\n",
       "      <td>AS14.01</td>\n",
       "      <td>NaN</td>\n",
       "      <td>2014-02-17</td>\n",
       "    </tr>\n",
       "    <tr>\n",
       "      <th>1</th>\n",
       "      <td>AS14.01</td>\n",
       "      <td>NaN</td>\n",
       "      <td>2014-02-18</td>\n",
       "    </tr>\n",
       "    <tr>\n",
       "      <th>2</th>\n",
       "      <td>AS14.01</td>\n",
       "      <td>NaN</td>\n",
       "      <td>2014-02-19</td>\n",
       "    </tr>\n",
       "    <tr>\n",
       "      <th>3</th>\n",
       "      <td>AS14.01</td>\n",
       "      <td>NaN</td>\n",
       "      <td>2014-02-20</td>\n",
       "    </tr>\n",
       "  </tbody>\n",
       "</table>\n",
       "</div>"
      ],
      "text/plain": [
       "        id  mood       time\n",
       "0  AS14.01   NaN 2014-02-17\n",
       "1  AS14.01   NaN 2014-02-18\n",
       "2  AS14.01   NaN 2014-02-19\n",
       "3  AS14.01   NaN 2014-02-20"
      ]
     },
     "execution_count": 2,
     "metadata": {},
     "output_type": "execute_result"
    }
   ],
   "source": [
    "df = pd.read_csv('data/data_arima.csv', index_col=0)[['id', 'mood', 'time']]\n",
    "df['time'] = pd.to_datetime(df['time'])\n",
    "df.head(n=4)"
   ]
  },
  {
   "cell_type": "code",
   "execution_count": 3,
   "metadata": {},
   "outputs": [
    {
     "data": {
      "text/html": [
       "<div>\n",
       "<style scoped>\n",
       "    .dataframe tbody tr th:only-of-type {\n",
       "        vertical-align: middle;\n",
       "    }\n",
       "\n",
       "    .dataframe tbody tr th {\n",
       "        vertical-align: top;\n",
       "    }\n",
       "\n",
       "    .dataframe thead th {\n",
       "        text-align: right;\n",
       "    }\n",
       "</style>\n",
       "<table border=\"1\" class=\"dataframe\">\n",
       "  <thead>\n",
       "    <tr style=\"text-align: right;\">\n",
       "      <th></th>\n",
       "      <th>id</th>\n",
       "      <th>mood</th>\n",
       "      <th>time</th>\n",
       "      <th>moodpreviousday</th>\n",
       "    </tr>\n",
       "  </thead>\n",
       "  <tbody>\n",
       "    <tr>\n",
       "      <th>0</th>\n",
       "      <td>AS14.01</td>\n",
       "      <td>NaN</td>\n",
       "      <td>2014-02-17</td>\n",
       "      <td>NaN</td>\n",
       "    </tr>\n",
       "    <tr>\n",
       "      <th>1</th>\n",
       "      <td>AS14.01</td>\n",
       "      <td>NaN</td>\n",
       "      <td>2014-02-18</td>\n",
       "      <td>NaN</td>\n",
       "    </tr>\n",
       "    <tr>\n",
       "      <th>2</th>\n",
       "      <td>AS14.01</td>\n",
       "      <td>NaN</td>\n",
       "      <td>2014-02-19</td>\n",
       "      <td>NaN</td>\n",
       "    </tr>\n",
       "    <tr>\n",
       "      <th>3</th>\n",
       "      <td>AS14.01</td>\n",
       "      <td>NaN</td>\n",
       "      <td>2014-02-20</td>\n",
       "      <td>NaN</td>\n",
       "    </tr>\n",
       "    <tr>\n",
       "      <th>4</th>\n",
       "      <td>AS14.01</td>\n",
       "      <td>NaN</td>\n",
       "      <td>2014-02-21</td>\n",
       "      <td>NaN</td>\n",
       "    </tr>\n",
       "    <tr>\n",
       "      <th>5</th>\n",
       "      <td>AS14.01</td>\n",
       "      <td>NaN</td>\n",
       "      <td>2014-02-22</td>\n",
       "      <td>NaN</td>\n",
       "    </tr>\n",
       "    <tr>\n",
       "      <th>6</th>\n",
       "      <td>AS14.01</td>\n",
       "      <td>NaN</td>\n",
       "      <td>2014-02-25</td>\n",
       "      <td>NaN</td>\n",
       "    </tr>\n",
       "    <tr>\n",
       "      <th>7</th>\n",
       "      <td>AS14.01</td>\n",
       "      <td>6.250000</td>\n",
       "      <td>2014-02-26</td>\n",
       "      <td>NaN</td>\n",
       "    </tr>\n",
       "    <tr>\n",
       "      <th>8</th>\n",
       "      <td>AS14.01</td>\n",
       "      <td>6.333333</td>\n",
       "      <td>2014-02-27</td>\n",
       "      <td>6.250000</td>\n",
       "    </tr>\n",
       "    <tr>\n",
       "      <th>9</th>\n",
       "      <td>AS14.01</td>\n",
       "      <td>NaN</td>\n",
       "      <td>2014-02-28</td>\n",
       "      <td>6.333333</td>\n",
       "    </tr>\n",
       "  </tbody>\n",
       "</table>\n",
       "</div>"
      ],
      "text/plain": [
       "        id      mood       time  moodpreviousday\n",
       "0  AS14.01       NaN 2014-02-17              NaN\n",
       "1  AS14.01       NaN 2014-02-18              NaN\n",
       "2  AS14.01       NaN 2014-02-19              NaN\n",
       "3  AS14.01       NaN 2014-02-20              NaN\n",
       "4  AS14.01       NaN 2014-02-21              NaN\n",
       "5  AS14.01       NaN 2014-02-22              NaN\n",
       "6  AS14.01       NaN 2014-02-25              NaN\n",
       "7  AS14.01  6.250000 2014-02-26              NaN\n",
       "8  AS14.01  6.333333 2014-02-27         6.250000\n",
       "9  AS14.01       NaN 2014-02-28         6.333333"
      ]
     },
     "execution_count": 3,
     "metadata": {},
     "output_type": "execute_result"
    }
   ],
   "source": [
    "# add column with mood of next day\n",
    "df[\"moodpreviousday\"] = df['mood'].copy().shift(1) \n",
    "df.head(n=10)"
   ]
  },
  {
   "cell_type": "code",
   "execution_count": 4,
   "metadata": {},
   "outputs": [
    {
     "name": "stdout",
     "output_type": "stream",
     "text": [
      "         id      mood       time  moodpreviousday\n",
      "8   AS14.01  6.333333 2014-02-27             6.25\n",
      "27  AS14.01  6.400000 2014-03-22             6.20\n",
      "28  AS14.01  6.800000 2014-03-23             6.40\n",
      "29  AS14.01  6.000000 2014-03-24             6.80\n"
     ]
    }
   ],
   "source": [
    "df = df[~df.moodpreviousday.isna()]\n",
    "df = df[~df.mood.isna()]\n",
    "print(df.head(n=4))"
   ]
  },
  {
   "cell_type": "code",
   "execution_count": 5,
   "metadata": {},
   "outputs": [],
   "source": [
    "# benchmarking\n",
    "benchmark = df.groupby('id').apply(lambda x: mean_squared_error(x.mood, x.moodpreviousday)).to_frame('mse')\n",
    "benchmark['r2'] = df.groupby('id').apply(lambda x: r2_score(x.mood, x.moodpreviousday))\n",
    "benchmark['corr'] = df.apply(lambda x: abs(x.mood - x.moodpreviousday) < 0.5, axis=1)\n",
    "benchmark['corr'] = df.groupby('id').apply(lambda x: x.sum() / x.count())\n",
    "benchmark\n",
    "benchmark.to_csv('results/benchmark.csv')"
   ]
  }
 ],
 "metadata": {
  "kernelspec": {
   "display_name": "Python 3",
   "language": "python",
   "name": "python3"
  },
  "language_info": {
   "codemirror_mode": {
    "name": "ipython",
    "version": 3
   },
   "file_extension": ".py",
   "mimetype": "text/x-python",
   "name": "python",
   "nbconvert_exporter": "python",
   "pygments_lexer": "ipython3",
   "version": "3.8.3"
  }
 },
 "nbformat": 4,
 "nbformat_minor": 4
}
