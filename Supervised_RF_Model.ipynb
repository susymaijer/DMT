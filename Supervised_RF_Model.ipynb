{
 "cells": [
  {
   "cell_type": "code",
   "execution_count": 1,
   "id": "cardiac-malaysia",
   "metadata": {},
   "outputs": [],
   "source": [
    "import pandas as pd \n",
    "import numpy as np \n",
    "import  seaborn as sns\n",
    "import matplotlib.pyplot as plt\n",
    "from sklearn.preprocessing import StandardScaler\n",
    "from sklearn.model_selection import train_test_split, RandomizedSearchCV\n",
    "from sklearn.ensemble import RandomForestRegressor \n",
    "from sklearn.metrics import mean_squared_error, r2_score\n",
    "from datetime import datetime\n",
    "import warnings\n",
    "warnings.filterwarnings('ignore')"
   ]
  },
  {
   "cell_type": "markdown",
   "id": "operational-detective",
   "metadata": {},
   "source": [
    "### Read dataframe"
   ]
  },
  {
   "cell_type": "code",
   "execution_count": 2,
   "id": "bigger-bathroom",
   "metadata": {},
   "outputs": [
    {
     "data": {
      "text/html": [
       "<div>\n",
       "<style scoped>\n",
       "    .dataframe tbody tr th:only-of-type {\n",
       "        vertical-align: middle;\n",
       "    }\n",
       "\n",
       "    .dataframe tbody tr th {\n",
       "        vertical-align: top;\n",
       "    }\n",
       "\n",
       "    .dataframe thead th {\n",
       "        text-align: right;\n",
       "    }\n",
       "</style>\n",
       "<table border=\"1\" class=\"dataframe\">\n",
       "  <thead>\n",
       "    <tr style=\"text-align: right;\">\n",
       "      <th></th>\n",
       "      <th>time</th>\n",
       "      <th>screen</th>\n",
       "      <th>activity</th>\n",
       "      <th>total_app_time</th>\n",
       "      <th>circumplex.arousal</th>\n",
       "      <th>circumplex.valence</th>\n",
       "      <th>call_sms</th>\n",
       "      <th>mood</th>\n",
       "      <th>Day_name</th>\n",
       "      <th>is_weekday</th>\n",
       "      <th>moodmean_5days</th>\n",
       "      <th>moodpreviousday</th>\n",
       "      <th>moodnextday</th>\n",
       "      <th>Friday</th>\n",
       "      <th>Monday</th>\n",
       "      <th>Saturday</th>\n",
       "      <th>Sunday</th>\n",
       "      <th>Thursday</th>\n",
       "      <th>Tuesday</th>\n",
       "      <th>Wednesday</th>\n",
       "    </tr>\n",
       "    <tr>\n",
       "      <th>id</th>\n",
       "      <th></th>\n",
       "      <th></th>\n",
       "      <th></th>\n",
       "      <th></th>\n",
       "      <th></th>\n",
       "      <th></th>\n",
       "      <th></th>\n",
       "      <th></th>\n",
       "      <th></th>\n",
       "      <th></th>\n",
       "      <th></th>\n",
       "      <th></th>\n",
       "      <th></th>\n",
       "      <th></th>\n",
       "      <th></th>\n",
       "      <th></th>\n",
       "      <th></th>\n",
       "      <th></th>\n",
       "      <th></th>\n",
       "      <th></th>\n",
       "    </tr>\n",
       "  </thead>\n",
       "  <tbody>\n",
       "    <tr>\n",
       "      <th>AS14.01</th>\n",
       "      <td>2014-02-26</td>\n",
       "      <td>12088.324244</td>\n",
       "      <td>0.092498</td>\n",
       "      <td>11327.579489</td>\n",
       "      <td>-0.25</td>\n",
       "      <td>0.750000</td>\n",
       "      <td>3.0</td>\n",
       "      <td>6.250000</td>\n",
       "      <td>Wednesday</td>\n",
       "      <td>1</td>\n",
       "      <td>6.991076</td>\n",
       "      <td>6.990055</td>\n",
       "      <td>6.333333</td>\n",
       "      <td>0</td>\n",
       "      <td>0</td>\n",
       "      <td>0</td>\n",
       "      <td>0</td>\n",
       "      <td>0</td>\n",
       "      <td>0</td>\n",
       "      <td>1</td>\n",
       "    </tr>\n",
       "    <tr>\n",
       "      <th>AS14.01</th>\n",
       "      <td>2014-02-27</td>\n",
       "      <td>12088.324244</td>\n",
       "      <td>0.092498</td>\n",
       "      <td>11327.579489</td>\n",
       "      <td>0.00</td>\n",
       "      <td>0.333333</td>\n",
       "      <td>0.0</td>\n",
       "      <td>6.333333</td>\n",
       "      <td>Thursday</td>\n",
       "      <td>1</td>\n",
       "      <td>6.991076</td>\n",
       "      <td>6.250000</td>\n",
       "      <td>6.200000</td>\n",
       "      <td>0</td>\n",
       "      <td>0</td>\n",
       "      <td>0</td>\n",
       "      <td>0</td>\n",
       "      <td>1</td>\n",
       "      <td>0</td>\n",
       "      <td>0</td>\n",
       "    </tr>\n",
       "  </tbody>\n",
       "</table>\n",
       "</div>"
      ],
      "text/plain": [
       "               time        screen  activity  total_app_time  \\\n",
       "id                                                            \n",
       "AS14.01  2014-02-26  12088.324244  0.092498    11327.579489   \n",
       "AS14.01  2014-02-27  12088.324244  0.092498    11327.579489   \n",
       "\n",
       "         circumplex.arousal  circumplex.valence  call_sms      mood  \\\n",
       "id                                                                    \n",
       "AS14.01               -0.25            0.750000       3.0  6.250000   \n",
       "AS14.01                0.00            0.333333       0.0  6.333333   \n",
       "\n",
       "          Day_name  is_weekday  moodmean_5days  moodpreviousday  moodnextday  \\\n",
       "id                                                                             \n",
       "AS14.01  Wednesday           1        6.991076         6.990055     6.333333   \n",
       "AS14.01   Thursday           1        6.991076         6.250000     6.200000   \n",
       "\n",
       "         Friday  Monday  Saturday  Sunday  Thursday  Tuesday  Wednesday  \n",
       "id                                                                       \n",
       "AS14.01       0       0         0       0         0        0          1  \n",
       "AS14.01       0       0         0       0         1        0          0  "
      ]
     },
     "execution_count": 2,
     "metadata": {},
     "output_type": "execute_result"
    }
   ],
   "source": [
    "# read preprocessed dataframe \n",
    "df = pd.read_csv('cleandata_mood.csv', sep = \"\\t\", index_col=0)\n",
    "df = df.fillna(df.mean()) #i had missing value replace your df here \n",
    "df.head(n=2)"
   ]
  },
  {
   "cell_type": "markdown",
   "id": "intermediate-flour",
   "metadata": {},
   "source": [
    "#### Define targets  & hyperparameters"
   ]
  },
  {
   "cell_type": "code",
   "execution_count": 3,
   "id": "separated-myanmar",
   "metadata": {},
   "outputs": [],
   "source": [
    "# list of columns you want to drop from x matrix ( this is just example) always call df as df \n",
    "dropcols = ['time', 'Day_name', 'moodpreviousday', 'mood','is_weekday','moodnextday'] \n",
    "target = 'moodnextday' # target you want to predict \n",
    "test_size = 0.2 # 20 % data as test set "
   ]
  },
  {
   "cell_type": "code",
   "execution_count": 4,
   "id": "limited-summit",
   "metadata": {},
   "outputs": [
    {
     "name": "stdout",
     "output_type": "stream",
     "text": [
      "{'n_estimators': [10, 20, 30, 40, 50, 60, 70, 80, 90, 100], 'max_depth': [2, 4], 'max_features': ['auto', 'sqrt']}\n"
     ]
    }
   ],
   "source": [
    "# Define your hyperparameters\n",
    "n_estimaters = [int(x) for x in np.linspace(start = 10 , stop = 100 , num = 10)]\n",
    "max_depth = [2,4]\n",
    "max_features = ['auto', 'sqrt']\n",
    "\n",
    "#set parameter grid for hyper parameter tuning \n",
    "param_grid = {\"n_estimators\" : n_estimaters,\n",
    "             \"max_depth\" : max_depth,\n",
    "             \"max_features\" : max_features}\n",
    "print(param_grid)"
   ]
  },
  {
   "cell_type": "markdown",
   "id": "registered-pastor",
   "metadata": {},
   "source": [
    "#### Define all the required function "
   ]
  },
  {
   "cell_type": "code",
   "execution_count": 5,
   "id": "popular-johnston",
   "metadata": {},
   "outputs": [],
   "source": [
    "\n",
    "# these function is access within rfmodel but you can use it separatetly\n",
    "#train test split \n",
    "def get_train_test(df, dropcols, target, test_size):\n",
    "    \"\"\"this function will take raw dataframe \n",
    "    and gives you train and test for model building \"\"\"\n",
    "    X = df.drop(dropcols, axis=1)\n",
    "    y = df[target]\n",
    "    X_train, X_test, y_train, y_test = train_test_split(X, y,\n",
    "                                                        test_size=test_size,\n",
    "                                                        random_state=10)\n",
    "    return X_train, X_test, y_train, y_test \n",
    "\n",
    "#parameter tuning \n",
    "\n",
    "def param_tuning(X_train, X_test, y_train, y_test):\n",
    "    \"\"\" this function will return best parameters\"\"\"\n",
    "    rfr = RandomForestRegressor() # initialize model with no parameters \n",
    "    rf_tune = RandomizedSearchCV(rfr, param_distributions=param_grid,\n",
    "                              cv = 5, verbose =2 , n_jobs=4)\n",
    "    rf_tune.fit(X_train, y_train)\n",
    "    print(f'Train Accuracy - : {rf_tune.score(X_train, y_train):.3f}')\n",
    "    print(f'Test Accuracy - : {rf_tune.score(X_test, y_test):.3f}')\n",
    "    return rf_tune.best_params_\n",
    "#how to run \n",
    "#best_param = param_tuning(X_train, X_test, y_train, y_test)\n",
    "\n",
    "# final model you should run this command only\n",
    "def rfmodel():\n",
    "    '''run rf model and hyperparameter'''\n",
    "    X_train, X_test, y_train, y_test = get_train_test(df=df,\n",
    "                                                      dropcols =dropcols,\n",
    "                                                      target = target,\n",
    "                                                      test_size = test_size)\n",
    "    best_params = param_tuning(X_train, X_test, y_train, y_test)\n",
    "    \n",
    "    #fit best model \n",
    "    n_estimator = best_params['n_estimators']\n",
    "    max_feature = best_params['max_features']\n",
    "    max_dept = best_params['max_depth']\n",
    "    bestmodel = RandomForestRegressor(n_estimators=n_estimator,\n",
    "                                      max_features=max_feature,\n",
    "                                      max_depth = max_dept,\n",
    "                                      random_state = 10)\n",
    "    bestmodel.fit(X_train, y_train)\n",
    "    y_pred = bestmodel.predict(X_test)\n",
    "    #get performance stats \n",
    "    mse = mean_squared_error(y_test, y_pred)\n",
    "    r2 = r2_score(y_test, y_pred)\n",
    "    #get feature importance \n",
    "    feat_importance = pd.Series(bestmodel.feature_importances_, \n",
    "                                 index=X_train.columns)\n",
    "    #feat_importance.nlargest(X_train.columns).plot(kind='barh', color = 'darkblue')\n",
    "    \n",
    "    return [bestmodel, mse, r2, feat_importance] # this return list of factors\n",
    "\n",
    " # how to run results = rfmodel()   # access model results[0], access mse = results[1]"
   ]
  },
  {
   "cell_type": "code",
   "execution_count": 6,
   "id": "stable-pickup",
   "metadata": {},
   "outputs": [
    {
     "name": "stdout",
     "output_type": "stream",
     "text": [
      "Fitting 5 folds for each of 10 candidates, totalling 50 fits\n",
      "Train Accuracy - : 0.258\n",
      "Test Accuracy - : 0.234\n"
     ]
    }
   ],
   "source": [
    "results = rfmodel()"
   ]
  },
  {
   "cell_type": "code",
   "execution_count": 7,
   "id": "durable-decade",
   "metadata": {},
   "outputs": [
    {
     "data": {
      "text/plain": [
       "[RandomForestRegressor(max_depth=2, n_estimators=50, random_state=10),\n",
       " 0.4898879188289417,\n",
       " 0.2380673275183366,\n",
       " screen                0.003310\n",
       " activity              0.023988\n",
       " total_app_time        0.002554\n",
       " circumplex.arousal    0.010162\n",
       " circumplex.valence    0.000000\n",
       " call_sms              0.006620\n",
       " moodmean_5days        0.949576\n",
       " Friday                0.003789\n",
       " Monday                0.000000\n",
       " Saturday              0.000000\n",
       " Sunday                0.000000\n",
       " Thursday              0.000000\n",
       " Tuesday               0.000000\n",
       " Wednesday             0.000000\n",
       " dtype: float64]"
      ]
     },
     "execution_count": 7,
     "metadata": {},
     "output_type": "execute_result"
    }
   ],
   "source": [
    "results"
   ]
  },
  {
   "cell_type": "code",
   "execution_count": 8,
   "id": "strange-february",
   "metadata": {},
   "outputs": [
    {
     "data": {
      "text/plain": [
       "<AxesSubplot:>"
      ]
     },
     "execution_count": 8,
     "metadata": {},
     "output_type": "execute_result"
    },
    {
     "data": {
      "image/png": "[encoded data removed]",
      "text/plain": [
       "<Figure size 432x288 with 1 Axes>"
      ]
     },
     "metadata": {
      "needs_background": "light"
     },
     "output_type": "display_data"
    }
   ],
   "source": [
    "# visualize top 7 features  ( 3 is third place in list where feature importance stored)\n",
    "results[3].nlargest(7).plot(kind='barh', color = 'darkblue')"
   ]
  },
  {
   "cell_type": "markdown",
   "id": "close-waters",
   "metadata": {},
   "source": [
    "#### how to access value from results\n",
    " - model = results[0]\n",
    " - mse = results[1]\n",
    " - r2 = results[2]\n",
    " - impfeatures = results[3]"
   ]
  },
  {
   "cell_type": "code",
   "execution_count": null,
   "id": "adapted-script",
   "metadata": {},
   "outputs": [],
   "source": []
  }
 ],
 "metadata": {
  "kernelspec": {
   "display_name": "Python 3",
   "language": "python",
   "name": "python3"
  },
  "language_info": {
   "codemirror_mode": {
    "name": "ipython",
    "version": 3
   },
   "file_extension": ".py",
   "mimetype": "text/x-python",
   "name": "python",
   "nbconvert_exporter": "python",
   "pygments_lexer": "ipython3",
   "version": "3.8.5"
  }
 },
 "nbformat": 4,
 "nbformat_minor": 5
}
