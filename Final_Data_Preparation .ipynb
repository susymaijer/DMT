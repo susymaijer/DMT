{
 "cells": [
  {
   "cell_type": "code",
   "execution_count": 1,
   "metadata": {},
   "outputs": [],
   "source": [
    "import pandas as pd\n",
    "import numpy as np\n",
    "import matplotlib.pyplot as plt\n",
    "import seaborn as sns \n",
    "import datetime as dt \n",
    "plt.rcParams['figure.figsize'] = [10, 6]\n",
    "import warnings\n",
    "warnings.filterwarnings('ignore')"
   ]
  },
  {
   "cell_type": "markdown",
   "metadata": {},
   "source": [
    "# 1 Read and Explore Data "
   ]
  },
  {
   "cell_type": "code",
   "execution_count": 2,
   "metadata": {},
   "outputs": [
    {
     "data": {
      "text/html": [
       "<div>\n",
       "<style scoped>\n",
       "    .dataframe tbody tr th:only-of-type {\n",
       "        vertical-align: middle;\n",
       "    }\n",
       "\n",
       "    .dataframe tbody tr th {\n",
       "        vertical-align: top;\n",
       "    }\n",
       "\n",
       "    .dataframe thead th {\n",
       "        text-align: right;\n",
       "    }\n",
       "</style>\n",
       "<table border=\"1\" class=\"dataframe\">\n",
       "  <thead>\n",
       "    <tr style=\"text-align: right;\">\n",
       "      <th></th>\n",
       "      <th>id</th>\n",
       "      <th>time</th>\n",
       "      <th>variable</th>\n",
       "      <th>value</th>\n",
       "    </tr>\n",
       "  </thead>\n",
       "  <tbody>\n",
       "    <tr>\n",
       "      <th>1</th>\n",
       "      <td>AS14.01</td>\n",
       "      <td>2014-02-26</td>\n",
       "      <td>mood</td>\n",
       "      <td>6.0</td>\n",
       "    </tr>\n",
       "    <tr>\n",
       "      <th>2</th>\n",
       "      <td>AS14.01</td>\n",
       "      <td>2014-02-26</td>\n",
       "      <td>mood</td>\n",
       "      <td>6.0</td>\n",
       "    </tr>\n",
       "    <tr>\n",
       "      <th>3</th>\n",
       "      <td>AS14.01</td>\n",
       "      <td>2014-02-26</td>\n",
       "      <td>mood</td>\n",
       "      <td>6.0</td>\n",
       "    </tr>\n",
       "  </tbody>\n",
       "</table>\n",
       "</div>"
      ],
      "text/plain": [
       "        id       time variable  value\n",
       "1  AS14.01 2014-02-26     mood    6.0\n",
       "2  AS14.01 2014-02-26     mood    6.0\n",
       "3  AS14.01 2014-02-26     mood    6.0"
      ]
     },
     "execution_count": 2,
     "metadata": {},
     "output_type": "execute_result"
    }
   ],
   "source": [
    "#read raw data \n",
    "df = pd.read_csv('dataset_mood_smartphone.csv', index_col=0)\n",
    "#normalize time ( just keep date part)\n",
    "df['time'] = pd.to_datetime(df['time'])\n",
    "df['time'] = df['time'].dt.normalize()\n",
    "df.head(n=3)"
   ]
  },
  {
   "cell_type": "code",
   "execution_count": 3,
   "metadata": {},
   "outputs": [
    {
     "data": {
      "text/html": [
       "<div>\n",
       "<style scoped>\n",
       "    .dataframe tbody tr th:only-of-type {\n",
       "        vertical-align: middle;\n",
       "    }\n",
       "\n",
       "    .dataframe tbody tr th {\n",
       "        vertical-align: top;\n",
       "    }\n",
       "\n",
       "    .dataframe thead tr th {\n",
       "        text-align: left;\n",
       "    }\n",
       "\n",
       "    .dataframe thead tr:last-of-type th {\n",
       "        text-align: right;\n",
       "    }\n",
       "</style>\n",
       "<table border=\"1\" class=\"dataframe\">\n",
       "  <thead>\n",
       "    <tr>\n",
       "      <th></th>\n",
       "      <th colspan=\"8\" halign=\"left\">value</th>\n",
       "    </tr>\n",
       "    <tr>\n",
       "      <th></th>\n",
       "      <th>count</th>\n",
       "      <th>mean</th>\n",
       "      <th>std</th>\n",
       "      <th>min</th>\n",
       "      <th>25%</th>\n",
       "      <th>50%</th>\n",
       "      <th>75%</th>\n",
       "      <th>max</th>\n",
       "    </tr>\n",
       "    <tr>\n",
       "      <th>variable</th>\n",
       "      <th></th>\n",
       "      <th></th>\n",
       "      <th></th>\n",
       "      <th></th>\n",
       "      <th></th>\n",
       "      <th></th>\n",
       "      <th></th>\n",
       "      <th></th>\n",
       "    </tr>\n",
       "  </thead>\n",
       "  <tbody>\n",
       "    <tr>\n",
       "      <th>activity</th>\n",
       "      <td>22965.0</td>\n",
       "      <td>0.115958</td>\n",
       "      <td>0.186946</td>\n",
       "      <td>0.000</td>\n",
       "      <td>0.00000</td>\n",
       "      <td>0.021739</td>\n",
       "      <td>0.158333</td>\n",
       "      <td>1.000</td>\n",
       "    </tr>\n",
       "    <tr>\n",
       "      <th>appCat.builtin</th>\n",
       "      <td>91288.0</td>\n",
       "      <td>18.538262</td>\n",
       "      <td>415.989243</td>\n",
       "      <td>-82798.871</td>\n",
       "      <td>2.02000</td>\n",
       "      <td>4.038000</td>\n",
       "      <td>9.922000</td>\n",
       "      <td>33960.246</td>\n",
       "    </tr>\n",
       "    <tr>\n",
       "      <th>appCat.communication</th>\n",
       "      <td>74276.0</td>\n",
       "      <td>43.343792</td>\n",
       "      <td>128.912750</td>\n",
       "      <td>0.006</td>\n",
       "      <td>5.21800</td>\n",
       "      <td>16.225500</td>\n",
       "      <td>45.475750</td>\n",
       "      <td>9830.777</td>\n",
       "    </tr>\n",
       "    <tr>\n",
       "      <th>appCat.entertainment</th>\n",
       "      <td>27125.0</td>\n",
       "      <td>37.576480</td>\n",
       "      <td>262.960476</td>\n",
       "      <td>-0.011</td>\n",
       "      <td>1.33400</td>\n",
       "      <td>3.391000</td>\n",
       "      <td>14.922000</td>\n",
       "      <td>32148.677</td>\n",
       "    </tr>\n",
       "    <tr>\n",
       "      <th>appCat.finance</th>\n",
       "      <td>939.0</td>\n",
       "      <td>21.755251</td>\n",
       "      <td>39.218361</td>\n",
       "      <td>0.131</td>\n",
       "      <td>4.07200</td>\n",
       "      <td>8.026000</td>\n",
       "      <td>20.155000</td>\n",
       "      <td>355.513</td>\n",
       "    </tr>\n",
       "    <tr>\n",
       "      <th>appCat.game</th>\n",
       "      <td>813.0</td>\n",
       "      <td>128.391615</td>\n",
       "      <td>327.145246</td>\n",
       "      <td>1.003</td>\n",
       "      <td>14.14800</td>\n",
       "      <td>43.168000</td>\n",
       "      <td>123.625000</td>\n",
       "      <td>5491.793</td>\n",
       "    </tr>\n",
       "    <tr>\n",
       "      <th>appCat.office</th>\n",
       "      <td>5642.0</td>\n",
       "      <td>22.578892</td>\n",
       "      <td>449.601382</td>\n",
       "      <td>0.003</td>\n",
       "      <td>2.00400</td>\n",
       "      <td>3.106000</td>\n",
       "      <td>8.043750</td>\n",
       "      <td>32708.818</td>\n",
       "    </tr>\n",
       "    <tr>\n",
       "      <th>appCat.other</th>\n",
       "      <td>7650.0</td>\n",
       "      <td>25.810839</td>\n",
       "      <td>112.781355</td>\n",
       "      <td>0.014</td>\n",
       "      <td>7.01900</td>\n",
       "      <td>10.028000</td>\n",
       "      <td>16.829250</td>\n",
       "      <td>3892.038</td>\n",
       "    </tr>\n",
       "    <tr>\n",
       "      <th>appCat.social</th>\n",
       "      <td>19145.0</td>\n",
       "      <td>72.401906</td>\n",
       "      <td>261.551846</td>\n",
       "      <td>0.094</td>\n",
       "      <td>9.03000</td>\n",
       "      <td>28.466000</td>\n",
       "      <td>75.372000</td>\n",
       "      <td>30000.906</td>\n",
       "    </tr>\n",
       "    <tr>\n",
       "      <th>appCat.travel</th>\n",
       "      <td>2846.0</td>\n",
       "      <td>45.730850</td>\n",
       "      <td>246.109307</td>\n",
       "      <td>0.080</td>\n",
       "      <td>5.08650</td>\n",
       "      <td>18.144000</td>\n",
       "      <td>47.227250</td>\n",
       "      <td>10452.615</td>\n",
       "    </tr>\n",
       "    <tr>\n",
       "      <th>appCat.unknown</th>\n",
       "      <td>939.0</td>\n",
       "      <td>45.553006</td>\n",
       "      <td>119.400405</td>\n",
       "      <td>0.111</td>\n",
       "      <td>5.01800</td>\n",
       "      <td>17.190000</td>\n",
       "      <td>44.430500</td>\n",
       "      <td>2239.937</td>\n",
       "    </tr>\n",
       "    <tr>\n",
       "      <th>appCat.utilities</th>\n",
       "      <td>2487.0</td>\n",
       "      <td>18.537552</td>\n",
       "      <td>60.959134</td>\n",
       "      <td>0.246</td>\n",
       "      <td>3.15850</td>\n",
       "      <td>8.030000</td>\n",
       "      <td>19.331000</td>\n",
       "      <td>1802.649</td>\n",
       "    </tr>\n",
       "    <tr>\n",
       "      <th>appCat.weather</th>\n",
       "      <td>255.0</td>\n",
       "      <td>20.148714</td>\n",
       "      <td>24.943431</td>\n",
       "      <td>1.003</td>\n",
       "      <td>8.68400</td>\n",
       "      <td>15.117000</td>\n",
       "      <td>25.349000</td>\n",
       "      <td>344.863</td>\n",
       "    </tr>\n",
       "    <tr>\n",
       "      <th>call</th>\n",
       "      <td>5239.0</td>\n",
       "      <td>1.000000</td>\n",
       "      <td>0.000000</td>\n",
       "      <td>1.000</td>\n",
       "      <td>1.00000</td>\n",
       "      <td>1.000000</td>\n",
       "      <td>1.000000</td>\n",
       "      <td>1.000</td>\n",
       "    </tr>\n",
       "    <tr>\n",
       "      <th>circumplex.arousal</th>\n",
       "      <td>5597.0</td>\n",
       "      <td>-0.098624</td>\n",
       "      <td>1.051868</td>\n",
       "      <td>-2.000</td>\n",
       "      <td>-1.00000</td>\n",
       "      <td>0.000000</td>\n",
       "      <td>1.000000</td>\n",
       "      <td>2.000</td>\n",
       "    </tr>\n",
       "    <tr>\n",
       "      <th>circumplex.valence</th>\n",
       "      <td>5487.0</td>\n",
       "      <td>0.687808</td>\n",
       "      <td>0.671298</td>\n",
       "      <td>-2.000</td>\n",
       "      <td>0.00000</td>\n",
       "      <td>1.000000</td>\n",
       "      <td>1.000000</td>\n",
       "      <td>2.000</td>\n",
       "    </tr>\n",
       "    <tr>\n",
       "      <th>mood</th>\n",
       "      <td>5641.0</td>\n",
       "      <td>6.992555</td>\n",
       "      <td>1.032769</td>\n",
       "      <td>1.000</td>\n",
       "      <td>7.00000</td>\n",
       "      <td>7.000000</td>\n",
       "      <td>8.000000</td>\n",
       "      <td>10.000</td>\n",
       "    </tr>\n",
       "    <tr>\n",
       "      <th>screen</th>\n",
       "      <td>96578.0</td>\n",
       "      <td>75.335206</td>\n",
       "      <td>253.822497</td>\n",
       "      <td>0.035</td>\n",
       "      <td>5.32225</td>\n",
       "      <td>20.044500</td>\n",
       "      <td>62.540250</td>\n",
       "      <td>9867.007</td>\n",
       "    </tr>\n",
       "    <tr>\n",
       "      <th>sms</th>\n",
       "      <td>1798.0</td>\n",
       "      <td>1.000000</td>\n",
       "      <td>0.000000</td>\n",
       "      <td>1.000</td>\n",
       "      <td>1.00000</td>\n",
       "      <td>1.000000</td>\n",
       "      <td>1.000000</td>\n",
       "      <td>1.000</td>\n",
       "    </tr>\n",
       "  </tbody>\n",
       "</table>\n",
       "</div>"
      ],
      "text/plain": [
       "                        value                                               \\\n",
       "                        count        mean         std        min       25%   \n",
       "variable                                                                     \n",
       "activity              22965.0    0.115958    0.186946      0.000   0.00000   \n",
       "appCat.builtin        91288.0   18.538262  415.989243 -82798.871   2.02000   \n",
       "appCat.communication  74276.0   43.343792  128.912750      0.006   5.21800   \n",
       "appCat.entertainment  27125.0   37.576480  262.960476     -0.011   1.33400   \n",
       "appCat.finance          939.0   21.755251   39.218361      0.131   4.07200   \n",
       "appCat.game             813.0  128.391615  327.145246      1.003  14.14800   \n",
       "appCat.office          5642.0   22.578892  449.601382      0.003   2.00400   \n",
       "appCat.other           7650.0   25.810839  112.781355      0.014   7.01900   \n",
       "appCat.social         19145.0   72.401906  261.551846      0.094   9.03000   \n",
       "appCat.travel          2846.0   45.730850  246.109307      0.080   5.08650   \n",
       "appCat.unknown          939.0   45.553006  119.400405      0.111   5.01800   \n",
       "appCat.utilities       2487.0   18.537552   60.959134      0.246   3.15850   \n",
       "appCat.weather          255.0   20.148714   24.943431      1.003   8.68400   \n",
       "call                   5239.0    1.000000    0.000000      1.000   1.00000   \n",
       "circumplex.arousal     5597.0   -0.098624    1.051868     -2.000  -1.00000   \n",
       "circumplex.valence     5487.0    0.687808    0.671298     -2.000   0.00000   \n",
       "mood                   5641.0    6.992555    1.032769      1.000   7.00000   \n",
       "screen                96578.0   75.335206  253.822497      0.035   5.32225   \n",
       "sms                    1798.0    1.000000    0.000000      1.000   1.00000   \n",
       "\n",
       "                                                        \n",
       "                            50%         75%        max  \n",
       "variable                                                \n",
       "activity               0.021739    0.158333      1.000  \n",
       "appCat.builtin         4.038000    9.922000  33960.246  \n",
       "appCat.communication  16.225500   45.475750   9830.777  \n",
       "appCat.entertainment   3.391000   14.922000  32148.677  \n",
       "appCat.finance         8.026000   20.155000    355.513  \n",
       "appCat.game           43.168000  123.625000   5491.793  \n",
       "appCat.office          3.106000    8.043750  32708.818  \n",
       "appCat.other          10.028000   16.829250   3892.038  \n",
       "appCat.social         28.466000   75.372000  30000.906  \n",
       "appCat.travel         18.144000   47.227250  10452.615  \n",
       "appCat.unknown        17.190000   44.430500   2239.937  \n",
       "appCat.utilities       8.030000   19.331000   1802.649  \n",
       "appCat.weather        15.117000   25.349000    344.863  \n",
       "call                   1.000000    1.000000      1.000  \n",
       "circumplex.arousal     0.000000    1.000000      2.000  \n",
       "circumplex.valence     1.000000    1.000000      2.000  \n",
       "mood                   7.000000    8.000000     10.000  \n",
       "screen                20.044500   62.540250   9867.007  \n",
       "sms                    1.000000    1.000000      1.000  "
      ]
     },
     "execution_count": 3,
     "metadata": {},
     "output_type": "execute_result"
    }
   ],
   "source": [
    "# describe data and see if we observe any weird values\n",
    "df.drop(['id', 'time'], axis=1).groupby(['variable']).describe()"
   ]
  },
  {
   "cell_type": "code",
   "execution_count": 4,
   "metadata": {},
   "outputs": [],
   "source": [
    " # this looks wrong value as time can not be negative \n",
    "df.loc[df.value==-82798.871000, 'value'] = pd.np.nan"
   ]
  },
  {
   "cell_type": "code",
   "execution_count": 5,
   "metadata": {},
   "outputs": [
    {
     "name": "stdout",
     "output_type": "stream",
     "text": [
      "Total no of days data recorded:  113\n"
     ]
    }
   ],
   "source": [
    "print( 'Total no of days data recorded: ', len(pd.date_range(df['time'].min(), df['time'].max())))"
   ]
  },
  {
   "cell_type": "code",
   "execution_count": 6,
   "metadata": {},
   "outputs": [
    {
     "name": "stdout",
     "output_type": "stream",
     "text": [
      "(1973, 19)\n"
     ]
    },
    {
     "data": {
      "text/html": [
       "<div>\n",
       "<style scoped>\n",
       "    .dataframe tbody tr th:only-of-type {\n",
       "        vertical-align: middle;\n",
       "    }\n",
       "\n",
       "    .dataframe tbody tr th {\n",
       "        vertical-align: top;\n",
       "    }\n",
       "\n",
       "    .dataframe thead th {\n",
       "        text-align: right;\n",
       "    }\n",
       "</style>\n",
       "<table border=\"1\" class=\"dataframe\">\n",
       "  <thead>\n",
       "    <tr style=\"text-align: right;\">\n",
       "      <th></th>\n",
       "      <th>variable</th>\n",
       "      <th>activity</th>\n",
       "      <th>appCat.builtin</th>\n",
       "      <th>appCat.communication</th>\n",
       "      <th>appCat.entertainment</th>\n",
       "      <th>appCat.finance</th>\n",
       "      <th>appCat.game</th>\n",
       "      <th>appCat.office</th>\n",
       "      <th>appCat.other</th>\n",
       "      <th>appCat.social</th>\n",
       "      <th>appCat.travel</th>\n",
       "      <th>appCat.unknown</th>\n",
       "      <th>appCat.utilities</th>\n",
       "      <th>appCat.weather</th>\n",
       "      <th>call</th>\n",
       "      <th>circumplex.arousal</th>\n",
       "      <th>circumplex.valence</th>\n",
       "      <th>mood</th>\n",
       "      <th>screen</th>\n",
       "      <th>sms</th>\n",
       "    </tr>\n",
       "    <tr>\n",
       "      <th>id</th>\n",
       "      <th>time</th>\n",
       "      <th></th>\n",
       "      <th></th>\n",
       "      <th></th>\n",
       "      <th></th>\n",
       "      <th></th>\n",
       "      <th></th>\n",
       "      <th></th>\n",
       "      <th></th>\n",
       "      <th></th>\n",
       "      <th></th>\n",
       "      <th></th>\n",
       "      <th></th>\n",
       "      <th></th>\n",
       "      <th></th>\n",
       "      <th></th>\n",
       "      <th></th>\n",
       "      <th></th>\n",
       "      <th></th>\n",
       "      <th></th>\n",
       "    </tr>\n",
       "  </thead>\n",
       "  <tbody>\n",
       "    <tr>\n",
       "      <th rowspan=\"2\" valign=\"top\">AS14.01</th>\n",
       "      <th>2014-02-17</th>\n",
       "      <td>NaN</td>\n",
       "      <td>NaN</td>\n",
       "      <td>NaN</td>\n",
       "      <td>NaN</td>\n",
       "      <td>NaN</td>\n",
       "      <td>NaN</td>\n",
       "      <td>NaN</td>\n",
       "      <td>NaN</td>\n",
       "      <td>NaN</td>\n",
       "      <td>NaN</td>\n",
       "      <td>NaN</td>\n",
       "      <td>NaN</td>\n",
       "      <td>NaN</td>\n",
       "      <td>1.0</td>\n",
       "      <td>NaN</td>\n",
       "      <td>NaN</td>\n",
       "      <td>NaN</td>\n",
       "      <td>NaN</td>\n",
       "      <td>NaN</td>\n",
       "    </tr>\n",
       "    <tr>\n",
       "      <th>2014-02-18</th>\n",
       "      <td>NaN</td>\n",
       "      <td>NaN</td>\n",
       "      <td>NaN</td>\n",
       "      <td>NaN</td>\n",
       "      <td>NaN</td>\n",
       "      <td>NaN</td>\n",
       "      <td>NaN</td>\n",
       "      <td>NaN</td>\n",
       "      <td>NaN</td>\n",
       "      <td>NaN</td>\n",
       "      <td>NaN</td>\n",
       "      <td>NaN</td>\n",
       "      <td>NaN</td>\n",
       "      <td>1.0</td>\n",
       "      <td>NaN</td>\n",
       "      <td>NaN</td>\n",
       "      <td>NaN</td>\n",
       "      <td>NaN</td>\n",
       "      <td>NaN</td>\n",
       "    </tr>\n",
       "  </tbody>\n",
       "</table>\n",
       "</div>"
      ],
      "text/plain": [
       "variable            activity  appCat.builtin  appCat.communication  \\\n",
       "id      time                                                         \n",
       "AS14.01 2014-02-17       NaN             NaN                   NaN   \n",
       "        2014-02-18       NaN             NaN                   NaN   \n",
       "\n",
       "variable            appCat.entertainment  appCat.finance  appCat.game  \\\n",
       "id      time                                                            \n",
       "AS14.01 2014-02-17                   NaN             NaN          NaN   \n",
       "        2014-02-18                   NaN             NaN          NaN   \n",
       "\n",
       "variable            appCat.office  appCat.other  appCat.social  appCat.travel  \\\n",
       "id      time                                                                    \n",
       "AS14.01 2014-02-17            NaN           NaN            NaN            NaN   \n",
       "        2014-02-18            NaN           NaN            NaN            NaN   \n",
       "\n",
       "variable            appCat.unknown  appCat.utilities  appCat.weather  call  \\\n",
       "id      time                                                                 \n",
       "AS14.01 2014-02-17             NaN               NaN             NaN   1.0   \n",
       "        2014-02-18             NaN               NaN             NaN   1.0   \n",
       "\n",
       "variable            circumplex.arousal  circumplex.valence  mood  screen  sms  \n",
       "id      time                                                                   \n",
       "AS14.01 2014-02-17                 NaN                 NaN   NaN     NaN  NaN  \n",
       "        2014-02-18                 NaN                 NaN   NaN     NaN  NaN  "
      ]
     },
     "execution_count": 6,
     "metadata": {},
     "output_type": "execute_result"
    }
   ],
   "source": [
    "#convert data ( long table to matrix )\n",
    "#multiindex using 'id' and time \n",
    "df2 = df.pivot_table(index=['id', 'time'], columns='variable', values='value')\n",
    "print(df2.shape)\n",
    "df2.head(n=2)\n"
   ]
  },
  {
   "cell_type": "code",
   "execution_count": 7,
   "metadata": {},
   "outputs": [
    {
     "data": {
      "text/plain": [
       "Text(0, 0.5, 'Missing value %')"
      ]
     },
     "execution_count": 7,
     "metadata": {},
     "output_type": "execute_result"
    },
    {
     "data": {
      "image/png": "[encoded data removed]",
      "text/plain": [
       "<Figure size 720x432 with 1 Axes>"
      ]
     },
     "metadata": {
      "needs_background": "light"
     },
     "output_type": "display_data"
    }
   ],
   "source": [
    "# missing value before removal of mood missing rows\n",
    "(df2.isnull().sum()/df2.shape[0] *100).sort_values().plot(kind='bar', color='darkred')\n",
    "plt.title('Missing value percentage per variable')\n",
    "plt.ylabel('Missing value %')"
   ]
  },
  {
   "cell_type": "code",
   "execution_count": 8,
   "metadata": {},
   "outputs": [
    {
     "data": {
      "image/png": "[encoded data removed]",
      "text/plain": [
       "<Figure size 720x432 with 1 Axes>"
      ]
     },
     "metadata": {
      "needs_background": "light"
     },
     "output_type": "display_data"
    }
   ],
   "source": [
    "# remove rows where mood is missing as mood is our predictor\n",
    "df2 = df2[~df2.mood.isnull()]\n",
    "(df2.isnull().sum()/df2.shape[0] *100).sort_values().plot(kind='bar', color = 'seagreen')\n",
    "plt.title('Missing value percentage per variable')\n",
    "plt.ylabel('Missing value %')\n",
    "plt.savefig('figures/missing_value_percentage.png', dpi=300)"
   ]
  },
  {
   "cell_type": "code",
   "execution_count": 9,
   "metadata": {},
   "outputs": [
    {
     "data": {
      "text/plain": [
       "Text(0.5, 1.0, 'Mood over time (averaged over all participants)')"
      ]
     },
     "execution_count": 9,
     "metadata": {},
     "output_type": "execute_result"
    },
    {
     "data": {
      "image/png": "[encoded data removed]",
      "text/plain": [
       "<Figure size 720x432 with 1 Axes>"
      ]
     },
     "metadata": {
      "needs_background": "light"
     },
     "output_type": "display_data"
    }
   ],
   "source": [
    "# see missing value pattern over date over all participant \n",
    "sns.lineplot(x= 'time', y = 'mood', data= df2.reset_index())\n",
    "plt.title('Mood over time (averaged over all participants)')\n"
   ]
  },
  {
   "cell_type": "markdown",
   "metadata": {},
   "source": [
    "# 2 Data Preprocessing\n",
    "\n",
    "we have following set of variables\n",
    "- variable which are measuring time ( its additive feature so we should sum them for same date per person)\n",
    "- range variable such as arousal, valence activity  ( we should calculate mean for them per day per person)\n",
    "- event variable we should count them - also sum variable as  value is given 0, 1  ( this is also additive  0 for no , 1  for yes) \n"
   ]
  },
  {
   "cell_type": "code",
   "execution_count": 10,
   "metadata": {},
   "outputs": [
    {
     "data": {
      "text/html": [
       "<div>\n",
       "<style scoped>\n",
       "    .dataframe tbody tr th:only-of-type {\n",
       "        vertical-align: middle;\n",
       "    }\n",
       "\n",
       "    .dataframe tbody tr th {\n",
       "        vertical-align: top;\n",
       "    }\n",
       "\n",
       "    .dataframe thead th {\n",
       "        text-align: right;\n",
       "    }\n",
       "</style>\n",
       "<table border=\"1\" class=\"dataframe\">\n",
       "  <thead>\n",
       "    <tr style=\"text-align: right;\">\n",
       "      <th>variable</th>\n",
       "      <th>id</th>\n",
       "      <th>time</th>\n",
       "      <th>appCat.builtin</th>\n",
       "      <th>appCat.communication</th>\n",
       "      <th>appCat.entertainment</th>\n",
       "      <th>appCat.finance</th>\n",
       "      <th>appCat.game</th>\n",
       "      <th>appCat.office</th>\n",
       "      <th>appCat.other</th>\n",
       "      <th>appCat.social</th>\n",
       "      <th>...</th>\n",
       "      <th>appCat.unknown</th>\n",
       "      <th>appCat.utilities</th>\n",
       "      <th>appCat.weather</th>\n",
       "      <th>call</th>\n",
       "      <th>screen</th>\n",
       "      <th>sms</th>\n",
       "      <th>activity</th>\n",
       "      <th>circumplex.arousal</th>\n",
       "      <th>circumplex.valence</th>\n",
       "      <th>mood</th>\n",
       "    </tr>\n",
       "  </thead>\n",
       "  <tbody>\n",
       "    <tr>\n",
       "      <th>0</th>\n",
       "      <td>AS14.01</td>\n",
       "      <td>2014-02-26</td>\n",
       "      <td>NaN</td>\n",
       "      <td>NaN</td>\n",
       "      <td>NaN</td>\n",
       "      <td>NaN</td>\n",
       "      <td>NaN</td>\n",
       "      <td>NaN</td>\n",
       "      <td>NaN</td>\n",
       "      <td>NaN</td>\n",
       "      <td>...</td>\n",
       "      <td>NaN</td>\n",
       "      <td>NaN</td>\n",
       "      <td>NaN</td>\n",
       "      <td>1.0</td>\n",
       "      <td>NaN</td>\n",
       "      <td>2.0</td>\n",
       "      <td>NaN</td>\n",
       "      <td>-0.25</td>\n",
       "      <td>0.750000</td>\n",
       "      <td>6.250000</td>\n",
       "    </tr>\n",
       "    <tr>\n",
       "      <th>1</th>\n",
       "      <td>AS14.01</td>\n",
       "      <td>2014-02-27</td>\n",
       "      <td>NaN</td>\n",
       "      <td>NaN</td>\n",
       "      <td>NaN</td>\n",
       "      <td>NaN</td>\n",
       "      <td>NaN</td>\n",
       "      <td>NaN</td>\n",
       "      <td>NaN</td>\n",
       "      <td>NaN</td>\n",
       "      <td>...</td>\n",
       "      <td>NaN</td>\n",
       "      <td>NaN</td>\n",
       "      <td>NaN</td>\n",
       "      <td>NaN</td>\n",
       "      <td>NaN</td>\n",
       "      <td>NaN</td>\n",
       "      <td>NaN</td>\n",
       "      <td>0.00</td>\n",
       "      <td>0.333333</td>\n",
       "      <td>6.333333</td>\n",
       "    </tr>\n",
       "    <tr>\n",
       "      <th>2</th>\n",
       "      <td>AS14.01</td>\n",
       "      <td>2014-03-21</td>\n",
       "      <td>3139.218</td>\n",
       "      <td>6280.89</td>\n",
       "      <td>1007.456</td>\n",
       "      <td>49.544</td>\n",
       "      <td>NaN</td>\n",
       "      <td>172.206</td>\n",
       "      <td>239.751</td>\n",
       "      <td>4508.5</td>\n",
       "      <td>...</td>\n",
       "      <td>NaN</td>\n",
       "      <td>598.754</td>\n",
       "      <td>NaN</td>\n",
       "      <td>6.0</td>\n",
       "      <td>17978.907</td>\n",
       "      <td>NaN</td>\n",
       "      <td>0.13405</td>\n",
       "      <td>0.20</td>\n",
       "      <td>0.200000</td>\n",
       "      <td>6.200000</td>\n",
       "    </tr>\n",
       "  </tbody>\n",
       "</table>\n",
       "<p>3 rows × 21 columns</p>\n",
       "</div>"
      ],
      "text/plain": [
       "variable       id       time  appCat.builtin  appCat.communication  \\\n",
       "0         AS14.01 2014-02-26             NaN                   NaN   \n",
       "1         AS14.01 2014-02-27             NaN                   NaN   \n",
       "2         AS14.01 2014-03-21        3139.218               6280.89   \n",
       "\n",
       "variable  appCat.entertainment  appCat.finance  appCat.game  appCat.office  \\\n",
       "0                          NaN             NaN          NaN            NaN   \n",
       "1                          NaN             NaN          NaN            NaN   \n",
       "2                     1007.456          49.544          NaN        172.206   \n",
       "\n",
       "variable  appCat.other  appCat.social  ...  appCat.unknown  appCat.utilities  \\\n",
       "0                  NaN            NaN  ...             NaN               NaN   \n",
       "1                  NaN            NaN  ...             NaN               NaN   \n",
       "2              239.751         4508.5  ...             NaN           598.754   \n",
       "\n",
       "variable  appCat.weather  call     screen  sms  activity  circumplex.arousal  \\\n",
       "0                    NaN   1.0        NaN  2.0       NaN               -0.25   \n",
       "1                    NaN   NaN        NaN  NaN       NaN                0.00   \n",
       "2                    NaN   6.0  17978.907  NaN   0.13405                0.20   \n",
       "\n",
       "variable  circumplex.valence      mood  \n",
       "0                   0.750000  6.250000  \n",
       "1                   0.333333  6.333333  \n",
       "2                   0.200000  6.200000  \n",
       "\n",
       "[3 rows x 21 columns]"
      ]
     },
     "execution_count": 10,
     "metadata": {},
     "output_type": "execute_result"
    }
   ],
   "source": [
    "#Data engineering \n",
    "#attribute for which we need mean \n",
    "meanattribute = ['mood','activity', 'circumplex.valence', 'circumplex.arousal']\n",
    "#rest attribute we will use sum \n",
    "sumdf = df[~df.variable.isin(meanattribute)]\n",
    "meandf = df[df.variable.isin(meanattribute)]\n",
    "sumdf2 = sumdf.pivot_table(index=['id', 'time'], columns='variable', values='value', aggfunc=np.sum) # sum var\n",
    "meandf2 = meandf.pivot_table(index=['id', 'time'], columns='variable', values='value', aggfunc=np.mean) # mean var \n",
    "sumdf2.reset_index(inplace=True)\n",
    "meandf.reset_index(inplace=True)\n",
    "mergedf = sumdf2.join(meandf2, how='outer', on = ['id', 'time'])\n",
    "# export data with missing mood (used by arima)\n",
    "mergedf = mergedf.sort_values(['id', 'time'], ascending = True)\n",
    "mergedf = mergedf.reset_index().drop(['index'], axis= 1)\n",
    "mergedf.to_csv('data/data_arima.csv')\n",
    "# remove rows for which mood is missing \n",
    "mergedf = mergedf[~mergedf.mood.isna()]\n",
    "mergedf = mergedf.reset_index().drop(['index'], axis= 1)\n",
    "mergedf.head(n=3)"
   ]
  },
  {
   "cell_type": "code",
   "execution_count": 14,
   "metadata": {},
   "outputs": [
    {
     "data": {
      "image/png": "[encoded data removed]",
      "text/plain": [
       "<Figure size 720x432 with 2 Axes>"
      ]
     },
     "metadata": {
      "needs_background": "light"
     },
     "output_type": "display_data"
    }
   ],
   "source": [
    "#count missing value percentage per individual for each variable \n",
    "missingdf = mergedf.groupby(['id']).apply(lambda x: x.isnull().sum()/len(x)*100)\n",
    "sns.heatmap(missingdf)\n",
    "missingdf.head(n=3)\n",
    "plt.savefig('figures/missingvaluepercentagepervariableheatmap.png', dpi=300)"
   ]
  },
  {
   "cell_type": "code",
   "execution_count": 12,
   "metadata": {},
   "outputs": [
    {
     "data": {
      "text/plain": [
       "variable\n",
       "appCat.finance    82.829189\n",
       "appCat.game       82.717038\n",
       "appCat.office     77.400873\n",
       "appCat.unknown    79.882491\n",
       "appCat.weather    90.141521\n",
       "dtype: float64"
      ]
     },
     "execution_count": 12,
     "metadata": {},
     "output_type": "execute_result"
    }
   ],
   "source": [
    "#drop columns which contains a lot of missing values\n",
    "dropcols = missingdf.mean() #>=70 # so we will drop columns where we have > 70 % missing data ( rest we can add)\n",
    "dropcols = dropcols[dropcols>70]\n",
    "dropcols"
   ]
  },
  {
   "cell_type": "code",
   "execution_count": 13,
   "metadata": {},
   "outputs": [],
   "source": [
    "# remove discard columns from analysis\n",
    "mergedf = mergedf.drop(dropcols.index, axis=1)"
   ]
  },
  {
   "cell_type": "markdown",
   "metadata": {},
   "source": [
    "#### missing value imputation by median ( we do not use this for modeling)"
   ]
  },
  {
   "cell_type": "code",
   "execution_count": 36,
   "metadata": {},
   "outputs": [],
   "source": [
    "#process 1 where we imput each column value with median ( as range varies a lot) # we dont use it for supervised modeling\n",
    "# replace with median as you can see values are very far off ( for eg screen time may range from 100 to 15000 for same individual)\n",
    "imputdf = mergedf.fillna(mergedf.groupby('id').transform('median'))\n"
   ]
  },
  {
   "cell_type": "code",
   "execution_count": 41,
   "metadata": {},
   "outputs": [
    {
     "data": {
      "text/plain": [
       "variable\n",
       "id                       0\n",
       "time                     0\n",
       "appCat.builtin           0\n",
       "appCat.communication     0\n",
       "appCat.entertainment     0\n",
       "appCat.other             0\n",
       "appCat.social            0\n",
       "appCat.travel            0\n",
       "appCat.utilities        45\n",
       "call                     0\n",
       "screen                   0\n",
       "sms                      0\n",
       "activity                 0\n",
       "circumplex.arousal       0\n",
       "circumplex.valence       0\n",
       "mood                     0\n",
       "dtype: int64"
      ]
     },
     "execution_count": 41,
     "metadata": {},
     "output_type": "execute_result"
    }
   ],
   "source": [
    "# utilities column still contains missing value which shows that one individual have not provided data for that \n",
    "# so we will replace that with average mean of utilities (global mean)\n",
    "imputdf.isnull().sum()"
   ]
  },
  {
   "cell_type": "code",
   "execution_count": 42,
   "metadata": {},
   "outputs": [],
   "source": [
    "imputdf.loc[imputdf['appCat.utilities'].isnull(), 'appCat.utilities'] = imputdf['appCat.utilities'].mean()"
   ]
  },
  {
   "cell_type": "markdown",
   "metadata": {},
   "source": [
    "#### Feature selection based on data from median imputed "
   ]
  },
  {
   "cell_type": "code",
   "execution_count": 56,
   "metadata": {},
   "outputs": [
    {
     "name": "stdout",
     "output_type": "stream",
     "text": [
      "[0.03412158 0.04572742 0.05043405 0.03136254 0.04060129 0.04994962\n",
      " 0.03538634 0.03760499 0.04041171 0.03818289 0.04755227 0.05303484\n",
      " 0.49563046]\n"
     ]
    },
    {
     "data": {
      "image/png": "[encoded data removed]",
      "text/plain": [
       "<Figure size 720x432 with 1 Axes>"
      ]
     },
     "metadata": {
      "needs_background": "light"
     },
     "output_type": "display_data"
    }
   ],
   "source": [
    "from sklearn.ensemble import ExtraTreesRegressor\n",
    "X = imputdf.drop(['id', 'time','mood'], axis=1)\n",
    "y = imputdf.mood\n",
    "model = ExtraTreesClassifier()\n",
    "model.fit(X,y)\n",
    "print(model.feature_importances_) #use inbuilt class feature_importances of tree based classifiers\n",
    "#plot graph of feature importances for better visualization\n",
    "feat_importances = pd.Series(model.feature_importances_, index=X.columns)\n",
    "feat_importances.nlargest(13).plot(kind='barh')\n",
    "plt.title('Feature Importance ( Median imputed data)')\n",
    "plt.show()\n"
   ]
  },
  {
   "cell_type": "markdown",
   "metadata": {},
   "source": [
    "#### Preprocessing 2 ( we used this for modeling )"
   ]
  },
  {
   "cell_type": "code",
   "execution_count": 107,
   "metadata": {},
   "outputs": [],
   "source": [
    "#process2 sum the app category to one feature \n",
    "data = mergedf.copy()\n",
    "data['total_app_time'] = data.filter(regex='app', axis=1).sum(axis=1)\n",
    "#sum call and sms together\n",
    "data['call_sms'] = data[['call', 'sms']].sum(axis=1)\n",
    "# select column we need in final data frame\n",
    "data = data[['id', 'time', 'screen','activity', 'total_app_time','circumplex.arousal','circumplex.valence' ,'call_sms', 'mood']]"
   ]
  },
  {
   "cell_type": "code",
   "execution_count": 108,
   "metadata": {},
   "outputs": [
    {
     "data": {
      "text/html": [
       "<div>\n",
       "<style scoped>\n",
       "    .dataframe tbody tr th:only-of-type {\n",
       "        vertical-align: middle;\n",
       "    }\n",
       "\n",
       "    .dataframe tbody tr th {\n",
       "        vertical-align: top;\n",
       "    }\n",
       "\n",
       "    .dataframe thead th {\n",
       "        text-align: right;\n",
       "    }\n",
       "</style>\n",
       "<table border=\"1\" class=\"dataframe\">\n",
       "  <thead>\n",
       "    <tr style=\"text-align: right;\">\n",
       "      <th>variable</th>\n",
       "      <th>id</th>\n",
       "      <th>time</th>\n",
       "      <th>screen</th>\n",
       "      <th>activity</th>\n",
       "      <th>total_app_time</th>\n",
       "      <th>circumplex.arousal</th>\n",
       "      <th>circumplex.valence</th>\n",
       "      <th>call_sms</th>\n",
       "      <th>mood</th>\n",
       "    </tr>\n",
       "  </thead>\n",
       "  <tbody>\n",
       "    <tr>\n",
       "      <th>0</th>\n",
       "      <td>AS14.01</td>\n",
       "      <td>2014-02-26</td>\n",
       "      <td>12088.324244</td>\n",
       "      <td>0.092498</td>\n",
       "      <td>11327.579489</td>\n",
       "      <td>-0.25</td>\n",
       "      <td>0.750000</td>\n",
       "      <td>3.0</td>\n",
       "      <td>6.250000</td>\n",
       "    </tr>\n",
       "    <tr>\n",
       "      <th>1</th>\n",
       "      <td>AS14.01</td>\n",
       "      <td>2014-02-27</td>\n",
       "      <td>12088.324244</td>\n",
       "      <td>0.092498</td>\n",
       "      <td>11327.579489</td>\n",
       "      <td>0.00</td>\n",
       "      <td>0.333333</td>\n",
       "      <td>0.0</td>\n",
       "      <td>6.333333</td>\n",
       "    </tr>\n",
       "    <tr>\n",
       "      <th>2</th>\n",
       "      <td>AS14.01</td>\n",
       "      <td>2014-03-21</td>\n",
       "      <td>17978.907000</td>\n",
       "      <td>0.134050</td>\n",
       "      <td>16690.014000</td>\n",
       "      <td>0.20</td>\n",
       "      <td>0.200000</td>\n",
       "      <td>6.0</td>\n",
       "      <td>6.200000</td>\n",
       "    </tr>\n",
       "  </tbody>\n",
       "</table>\n",
       "</div>"
      ],
      "text/plain": [
       "variable       id       time        screen  activity  total_app_time  \\\n",
       "0         AS14.01 2014-02-26  12088.324244  0.092498    11327.579489   \n",
       "1         AS14.01 2014-02-27  12088.324244  0.092498    11327.579489   \n",
       "2         AS14.01 2014-03-21  17978.907000  0.134050    16690.014000   \n",
       "\n",
       "variable  circumplex.arousal  circumplex.valence  call_sms      mood  \n",
       "0                      -0.25            0.750000       3.0  6.250000  \n",
       "1                       0.00            0.333333       0.0  6.333333  \n",
       "2                       0.20            0.200000       6.0  6.200000  "
      ]
     },
     "execution_count": 108,
     "metadata": {},
     "output_type": "execute_result"
    }
   ],
   "source": [
    "# total app and screen time are correlated so we should make total_app_time as missing where  we have value 0 and replace that with mean\n",
    "data.loc[data.total_app_time==0, 'total_app_time'] = pd.np.nan\n",
    "# imput missing value \n",
    "data = pd.concat([data[['id']] , data.groupby(\"id\").transform(lambda x: x.fillna(x.mean()))], axis=1)\n",
    "# after imputation \n",
    "data.head(n=3)"
   ]
  },
  {
   "cell_type": "code",
   "execution_count": 109,
   "metadata": {},
   "outputs": [
    {
     "data": {
      "text/plain": [
       "<AxesSubplot:xlabel='variable', ylabel='variable'>"
      ]
     },
     "execution_count": 109,
     "metadata": {},
     "output_type": "execute_result"
    },
    {
     "data": {
      "image/png": "[encoded data removed]",
      "text/plain": [
       "<Figure size 720x432 with 2 Axes>"
      ]
     },
     "metadata": {
      "needs_background": "light"
     },
     "output_type": "display_data"
    }
   ],
   "source": [
    "# calculate correlation between features\n",
    "sns.heatmap(data.corr(), annot = True)"
   ]
  },
  {
   "cell_type": "markdown",
   "metadata": {},
   "source": [
    "####  feature selection for processing aproach 2"
   ]
  },
  {
   "cell_type": "code",
   "execution_count": 110,
   "metadata": {},
   "outputs": [
    {
     "name": "stdout",
     "output_type": "stream",
     "text": [
      "[0.10001511 0.11179115 0.09301596 0.1041584  0.50865009 0.08236929]\n"
     ]
    },
    {
     "data": {
      "image/png": "[encoded data removed]",
      "text/plain": [
       "<Figure size 720x432 with 1 Axes>"
      ]
     },
     "metadata": {
      "needs_background": "light"
     },
     "output_type": "display_data"
    }
   ],
   "source": [
    "# feature selection for processing approach 2 data \n",
    "from sklearn.ensemble import ExtraTreesRegressor\n",
    "X = data.drop(['id', 'time','mood'], axis=1)\n",
    "y = data.mood\n",
    "model = ExtraTreesRegressor()\n",
    "model.fit(X,y)\n",
    "print(model.feature_importances_) #use inbuilt class feature_importances of tree based classifiers\n",
    "#plot graph of feature importances for better visualization\n",
    "feat_importances = pd.Series(model.feature_importances_, index=X.columns)\n",
    "feat_importances.nlargest(6).plot(kind='barh', color = 'darkblue')\n",
    "plt.title('Feature Importance')\n",
    "plt.show()\n"
   ]
  },
  {
   "cell_type": "markdown",
   "metadata": {},
   "source": [
    "### Feature Engineering "
   ]
  },
  {
   "cell_type": "code",
   "execution_count": 112,
   "metadata": {},
   "outputs": [],
   "source": [
    "# add day name as features \n",
    "data['Day_name'] = data['time'].dt.day_name()\n",
    "data['is_weekday'] = np.where(data['Day_name'].isin(['Sunday','Saturday']),0,1)\n",
    "#add rolling mean of mood as faetures \n",
    "data['moodmean_5days'] = data['mood'].rolling(5).mean()\n",
    "data['moodpreviousday'] = data['mood'].shift(1)\n",
    "data['moodnextday'] = data['mood'].shift(-1)\n",
    "Dayname = pd.get_dummies(data['Day_name'])\n",
    "data = pd.concat([data, Dayname], axis=1) # concat this data \n"
   ]
  },
  {
   "cell_type": "code",
   "execution_count": 113,
   "metadata": {},
   "outputs": [],
   "source": [
    "finaldf = data.copy() # i will do averagin etc for feature part "
   ]
  },
  {
   "cell_type": "code",
   "execution_count": 114,
   "metadata": {},
   "outputs": [
    {
     "data": {
      "image/png": "[encoded data removed]",
      "text/plain": [
       "<Figure size 720x432 with 1 Axes>"
      ]
     },
     "metadata": {
      "needs_background": "light"
     },
     "output_type": "display_data"
    }
   ],
   "source": [
    "# feature selection for processing approach 2 data  after feature engineering \n",
    "from sklearn.ensemble import ExtraTreesRegressor\n",
    "data = data.fillna(data.mean())\n",
    "#Dayname = pd.get_dummies(data['Day_name'])\n",
    "#data = pd.concat([data, Dayname], axis=1)\n",
    "X = data.drop(['id', 'time','moodnextday', 'Day_name'], axis=1)\n",
    "y = data.moodnextday\n",
    "model = ExtraTreesRegressor()\n",
    "model.fit(X,y)\n",
    "#print(model.feature_importances_) #use inbuilt class feature_importances of tree based classifiers\n",
    "#plot graph of feature importances for better visualization\n",
    "feat_importances = pd.Series(model.feature_importances_, index=X.columns)\n",
    "feat_importances.nlargest(17).plot(kind='barh', color = 'darkblue')\n",
    "plt.title('Feature Importance')\n",
    "plt.show()\n"
   ]
  },
  {
   "cell_type": "markdown",
   "metadata": {},
   "source": [
    "##### Final data "
   ]
  },
  {
   "cell_type": "code",
   "execution_count": 115,
   "metadata": {},
   "outputs": [
    {
     "data": {
      "text/html": [
       "<div>\n",
       "<style scoped>\n",
       "    .dataframe tbody tr th:only-of-type {\n",
       "        vertical-align: middle;\n",
       "    }\n",
       "\n",
       "    .dataframe tbody tr th {\n",
       "        vertical-align: top;\n",
       "    }\n",
       "\n",
       "    .dataframe thead th {\n",
       "        text-align: right;\n",
       "    }\n",
       "</style>\n",
       "<table border=\"1\" class=\"dataframe\">\n",
       "  <thead>\n",
       "    <tr style=\"text-align: right;\">\n",
       "      <th></th>\n",
       "      <th>id</th>\n",
       "      <th>time</th>\n",
       "      <th>screen</th>\n",
       "      <th>activity</th>\n",
       "      <th>total_app_time</th>\n",
       "      <th>circumplex.arousal</th>\n",
       "      <th>circumplex.valence</th>\n",
       "      <th>call_sms</th>\n",
       "      <th>mood</th>\n",
       "      <th>Day_name</th>\n",
       "      <th>...</th>\n",
       "      <th>moodmean_5days</th>\n",
       "      <th>moodpreviousday</th>\n",
       "      <th>moodnextday</th>\n",
       "      <th>Friday</th>\n",
       "      <th>Monday</th>\n",
       "      <th>Saturday</th>\n",
       "      <th>Sunday</th>\n",
       "      <th>Thursday</th>\n",
       "      <th>Tuesday</th>\n",
       "      <th>Wednesday</th>\n",
       "    </tr>\n",
       "  </thead>\n",
       "  <tbody>\n",
       "    <tr>\n",
       "      <th>0</th>\n",
       "      <td>AS14.01</td>\n",
       "      <td>2014-02-26</td>\n",
       "      <td>12088.324244</td>\n",
       "      <td>0.092498</td>\n",
       "      <td>11327.579489</td>\n",
       "      <td>-0.25</td>\n",
       "      <td>0.750000</td>\n",
       "      <td>3.0</td>\n",
       "      <td>6.250000</td>\n",
       "      <td>Wednesday</td>\n",
       "      <td>...</td>\n",
       "      <td>NaN</td>\n",
       "      <td>NaN</td>\n",
       "      <td>6.333333</td>\n",
       "      <td>0</td>\n",
       "      <td>0</td>\n",
       "      <td>0</td>\n",
       "      <td>0</td>\n",
       "      <td>0</td>\n",
       "      <td>0</td>\n",
       "      <td>1</td>\n",
       "    </tr>\n",
       "    <tr>\n",
       "      <th>1</th>\n",
       "      <td>AS14.01</td>\n",
       "      <td>2014-02-27</td>\n",
       "      <td>12088.324244</td>\n",
       "      <td>0.092498</td>\n",
       "      <td>11327.579489</td>\n",
       "      <td>0.00</td>\n",
       "      <td>0.333333</td>\n",
       "      <td>0.0</td>\n",
       "      <td>6.333333</td>\n",
       "      <td>Thursday</td>\n",
       "      <td>...</td>\n",
       "      <td>NaN</td>\n",
       "      <td>6.25</td>\n",
       "      <td>6.200000</td>\n",
       "      <td>0</td>\n",
       "      <td>0</td>\n",
       "      <td>0</td>\n",
       "      <td>0</td>\n",
       "      <td>1</td>\n",
       "      <td>0</td>\n",
       "      <td>0</td>\n",
       "    </tr>\n",
       "  </tbody>\n",
       "</table>\n",
       "<p>2 rows × 21 columns</p>\n",
       "</div>"
      ],
      "text/plain": [
       "        id       time        screen  activity  total_app_time  \\\n",
       "0  AS14.01 2014-02-26  12088.324244  0.092498    11327.579489   \n",
       "1  AS14.01 2014-02-27  12088.324244  0.092498    11327.579489   \n",
       "\n",
       "   circumplex.arousal  circumplex.valence  call_sms      mood   Day_name  ...  \\\n",
       "0               -0.25            0.750000       3.0  6.250000  Wednesday  ...   \n",
       "1                0.00            0.333333       0.0  6.333333   Thursday  ...   \n",
       "\n",
       "   moodmean_5days  moodpreviousday  moodnextday  Friday  Monday  Saturday  \\\n",
       "0             NaN              NaN     6.333333       0       0         0   \n",
       "1             NaN             6.25     6.200000       0       0         0   \n",
       "\n",
       "   Sunday  Thursday  Tuesday  Wednesday  \n",
       "0       0         0        0          1  \n",
       "1       0         1        0          0  \n",
       "\n",
       "[2 rows x 21 columns]"
      ]
     },
     "execution_count": 115,
     "metadata": {},
     "output_type": "execute_result"
    }
   ],
   "source": [
    "finaldf.head(n=2)"
   ]
  },
  {
   "cell_type": "code",
   "execution_count": 116,
   "metadata": {},
   "outputs": [],
   "source": [
    "finaldf.to_csv('cleandata_mood.csv', sep = \"\\t\", index= False)"
   ]
  },
  {
   "cell_type": "markdown",
   "metadata": {},
   "source": [
    "#### Some info for report \n"
   ]
  },
  {
   "cell_type": "raw",
   "metadata": {},
   "source": [
    "Data Description:\n",
    "    19 features \n",
    "    27 individuals\n",
    "    103 days data available ( after removing mood)\n",
    "    35 days where data is available for most participant (April 1 to may 5)\n",
    "    46 days average \n",
    "Data Preprocessing: \n",
    "    the data contains a large % of missing value specially application use data ( upto 90%)\n",
    "    Also we noticed that the time on particular date are not consistent withing and between participants so we summarized data per date\n",
    "    application data are measuring time spent : so we summed up per participant per date \n",
    "    while some attribute such as mood, valence arousal and activity are range so we average them per date per participants \n",
    "    call and sms are count values which can be 0 or 1 so we summed them per date \n",
    "    because most of the appdata are time spend and cntain missing value we decided to sum per day per participant and create a variable total time spent\n",
    "    # however some of the app data we decided to remove as it contains very large  % of missing data \n",
    "    such as dropcols = ['appCat.finance','appCat.weather', 'appCat.unknown' ]\n",
    "    ['appCat.finance', 'appCat.game', 'appCat.office', 'appCat.travel',\n",
    "       'appCat.unknown', 'appCat.utilities', 'appCat.weather']\n",
    "    we remove them as we thought they might add biases \n",
    "    we applied two approach for missing value imputation ( by median per participants)\n",
    "Feature engineering:\n",
    "    create total_app_time : summ of time spennd on all app per day per participant \n",
    "    missing value imputed by mean of per participant \n",
    "    is_weekday \n",
    "    average mood rolling 5 days \n",
    "\n",
    "# for random forest \n",
    "hyperparamter : trees [10, 100, 10 ]\n",
    "max_depth = [2, 3,5]\n",
    "#RandomizedSearchCV \n",
    "#global model \n",
    "#per person model "
   ]
  }
 ],
 "metadata": {
  "kernelspec": {
   "display_name": "Python 3",
   "language": "python",
   "name": "python3"
  },
  "language_info": {
   "codemirror_mode": {
    "name": "ipython",
    "version": 3
   },
   "file_extension": ".py",
   "mimetype": "text/x-python",
   "name": "python",
   "nbconvert_exporter": "python",
   "pygments_lexer": "ipython3",
   "version": "3.8.3"
  }
 },
 "nbformat": 4,
 "nbformat_minor": 5
}
