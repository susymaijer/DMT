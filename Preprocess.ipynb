{
 "cells": [
  {
   "cell_type": "code",
   "execution_count": 7,
   "metadata": {},
   "outputs": [],
   "source": [
    "import pandas as pd\n",
    "import numpy as np\n",
    "import random\n",
    "import matplotlib.pyplot as plt\n",
    "import seaborn as sns \n",
    "import math\n",
    "import gc"
   ]
  },
  {
   "cell_type": "markdown",
   "metadata": {},
   "source": [
    "TODO things to try:\n",
    "- instead of taking 10%, split data by prop_country_id (idea from #3)\n",
    "- bounding numerical variables, i.e normalising\n",
    "- now i just drop all columns with missing data, but the following is better:\n",
    "  - #2 does something with matching/mismatching historical data and the given hotel data\n",
    "  - #2 sets missing values of competitors to 0\n",
    "  - #1 imputes everything with negative value (??? don't know what he means. probably worst case scenario? or -1?)\n",
    "- normalise price w.r.t search_id or prop_id or search_desintation id, as this can differ really greatly\n",
    "- original distance i now put mean for 40K missing values, but we should look at whole search query and take max or mean or something."
   ]
  },
  {
   "cell_type": "code",
   "execution_count": null,
   "metadata": {},
   "outputs": [],
   "source": []
  },
  {
   "cell_type": "code",
   "execution_count": null,
   "metadata": {},
   "outputs": [],
   "source": []
  },
  {
   "cell_type": "markdown",
   "metadata": {},
   "source": [
    "First, we randomly get 10% of the data as it is so big. According to the #1 winner of the competition, this is still enough data to get a really good performance. Also, the #3 has this approach mentioned in their powerpoint."
   ]
  },
  {
   "cell_type": "code",
   "execution_count": 2,
   "metadata": {},
   "outputs": [],
   "source": [
    "train = pd.read_csv(\"data/training_set_VU_DM.csv\")\n",
    "test = pd.read_csv(\"data/test_set_VU_DM.csv\")"
   ]
  },
  {
   "cell_type": "code",
   "execution_count": 3,
   "metadata": {},
   "outputs": [
    {
     "name": "stdout",
     "output_type": "stream",
     "text": [
      "There are 199795 searches in the training set and 4958347 data points\n",
      "There are 199795 searches in the smaller training set and 4958347 data points\n"
     ]
    }
   ],
   "source": [
    "search_ids = train.srch_id.unique()\n",
    "print(f'There are {len(search_ids)} searches in the training set and {len(train)} data points')\n",
    "df = train\n",
    "#df = train[train.srch_id.isin(random.sample(list(search_ids), int(0.1 * len(search_ids))))]\n",
    "print(f'There are {len(df.srch_id.unique())} searches in the smaller training set and {len(df)} data points')"
   ]
  },
  {
   "cell_type": "code",
   "execution_count": 4,
   "metadata": {},
   "outputs": [
    {
     "name": "stdout",
     "output_type": "stream",
     "text": [
      "There are 199549 searches in the test set and 4959183 data points\n"
     ]
    }
   ],
   "source": [
    "search_ids_test = test.srch_id.unique()\n",
    "print(f'There are {len(search_ids_test)} searches in the test set and {len(test)} data points')"
   ]
  },
  {
   "cell_type": "markdown",
   "metadata": {},
   "source": [
    "Next, we downsample the smaller training set as the data is very imbalanced. We take 5 negatives for every positive instance."
   ]
  },
  {
   "cell_type": "code",
   "execution_count": 5,
   "metadata": {},
   "outputs": [
    {
     "data": {
      "image/png": "[encoded data removed]",
      "text/plain": [
       "<Figure size 432x288 with 1 Axes>"
      ]
     },
     "metadata": {
      "needs_background": "light"
     },
     "output_type": "display_data"
    },
    {
     "data": {
      "image/png": "[encoded data removed]",
      "text/plain": [
       "<Figure size 432x288 with 1 Axes>"
      ]
     },
     "metadata": {
      "needs_background": "light"
     },
     "output_type": "display_data"
    }
   ],
   "source": [
    "plt.hist(df.booking_bool)\n",
    "plt.show()\n",
    "\n",
    "plt.hist(df.click_bool)\n",
    "plt.show()"
   ]
  },
  {
   "cell_type": "code",
   "execution_count": 6,
   "metadata": {},
   "outputs": [
    {
     "name": "stdout",
     "output_type": "stream",
     "text": [
      "On average, there are 1.1105332966290449 clicks/bookings per search\n"
     ]
    }
   ],
   "source": [
    "keep = df[(df.booking_bool==1) | (df.click_bool==1)] # we want to keep all clicked and/or booked\n",
    "avg_keep = keep.groupby('srch_id').size().mean() # average amount of clicks/bools per search\n",
    "print(f'On average, there are {avg_keep} clicks/bookings per search')\n",
    "\n",
    "majority = df[(df.booking_bool==0) & (df.click_bool==0)] # not clicked AND not booked\n",
    "majority_keep = majority.groupby('srch_id').head(int(5*avg_keep)).reset_index(drop=True) # we take 5 negatives for every positive"
   ]
  },
  {
   "cell_type": "code",
   "execution_count": 8,
   "metadata": {},
   "outputs": [
    {
     "data": {
      "text/plain": [
       "6498"
      ]
     },
     "execution_count": 8,
     "metadata": {},
     "output_type": "execute_result"
    }
   ],
   "source": [
    "del df\n",
    "gc.collect()"
   ]
  },
  {
   "cell_type": "code",
   "execution_count": 9,
   "metadata": {},
   "outputs": [],
   "source": [
    "downsampled = pd.concat([keep, majority_keep], ignore_index=True).sort_values('srch_id')"
   ]
  },
  {
   "cell_type": "code",
   "execution_count": 10,
   "metadata": {},
   "outputs": [
    {
     "data": {
      "text/html": [
       "<div>\n",
       "<style scoped>\n",
       "    .dataframe tbody tr th:only-of-type {\n",
       "        vertical-align: middle;\n",
       "    }\n",
       "\n",
       "    .dataframe tbody tr th {\n",
       "        vertical-align: top;\n",
       "    }\n",
       "\n",
       "    .dataframe thead th {\n",
       "        text-align: right;\n",
       "    }\n",
       "</style>\n",
       "<table border=\"1\" class=\"dataframe\">\n",
       "  <thead>\n",
       "    <tr style=\"text-align: right;\">\n",
       "      <th></th>\n",
       "      <th>srch_id</th>\n",
       "      <th>date_time</th>\n",
       "      <th>site_id</th>\n",
       "      <th>visitor_location_country_id</th>\n",
       "      <th>visitor_hist_starrating</th>\n",
       "      <th>visitor_hist_adr_usd</th>\n",
       "      <th>prop_country_id</th>\n",
       "      <th>prop_id</th>\n",
       "      <th>prop_starrating</th>\n",
       "      <th>prop_review_score</th>\n",
       "      <th>...</th>\n",
       "      <th>comp6_rate_percent_diff</th>\n",
       "      <th>comp7_rate</th>\n",
       "      <th>comp7_inv</th>\n",
       "      <th>comp7_rate_percent_diff</th>\n",
       "      <th>comp8_rate</th>\n",
       "      <th>comp8_inv</th>\n",
       "      <th>comp8_rate_percent_diff</th>\n",
       "      <th>click_bool</th>\n",
       "      <th>gross_bookings_usd</th>\n",
       "      <th>booking_bool</th>\n",
       "    </tr>\n",
       "  </thead>\n",
       "  <tbody>\n",
       "    <tr>\n",
       "      <th>0</th>\n",
       "      <td>1</td>\n",
       "      <td>2013-04-04 08:32:15</td>\n",
       "      <td>12</td>\n",
       "      <td>187</td>\n",
       "      <td>NaN</td>\n",
       "      <td>NaN</td>\n",
       "      <td>219</td>\n",
       "      <td>68914</td>\n",
       "      <td>2</td>\n",
       "      <td>3.0</td>\n",
       "      <td>...</td>\n",
       "      <td>NaN</td>\n",
       "      <td>NaN</td>\n",
       "      <td>NaN</td>\n",
       "      <td>NaN</td>\n",
       "      <td>0.0</td>\n",
       "      <td>0.0</td>\n",
       "      <td>11.0</td>\n",
       "      <td>1</td>\n",
       "      <td>114.29</td>\n",
       "      <td>1</td>\n",
       "    </tr>\n",
       "    <tr>\n",
       "      <th>221881</th>\n",
       "      <td>1</td>\n",
       "      <td>2013-04-04 08:32:15</td>\n",
       "      <td>12</td>\n",
       "      <td>187</td>\n",
       "      <td>NaN</td>\n",
       "      <td>NaN</td>\n",
       "      <td>219</td>\n",
       "      <td>21315</td>\n",
       "      <td>3</td>\n",
       "      <td>4.5</td>\n",
       "      <td>...</td>\n",
       "      <td>NaN</td>\n",
       "      <td>NaN</td>\n",
       "      <td>NaN</td>\n",
       "      <td>NaN</td>\n",
       "      <td>0.0</td>\n",
       "      <td>0.0</td>\n",
       "      <td>NaN</td>\n",
       "      <td>0</td>\n",
       "      <td>NaN</td>\n",
       "      <td>0</td>\n",
       "    </tr>\n",
       "  </tbody>\n",
       "</table>\n",
       "<p>2 rows × 54 columns</p>\n",
       "</div>"
      ],
      "text/plain": [
       "        srch_id            date_time  site_id  visitor_location_country_id  \\\n",
       "0             1  2013-04-04 08:32:15       12                          187   \n",
       "221881        1  2013-04-04 08:32:15       12                          187   \n",
       "\n",
       "        visitor_hist_starrating  visitor_hist_adr_usd  prop_country_id  \\\n",
       "0                           NaN                   NaN              219   \n",
       "221881                      NaN                   NaN              219   \n",
       "\n",
       "        prop_id  prop_starrating  prop_review_score  ...  \\\n",
       "0         68914                2                3.0  ...   \n",
       "221881    21315                3                4.5  ...   \n",
       "\n",
       "        comp6_rate_percent_diff  comp7_rate  comp7_inv  \\\n",
       "0                           NaN         NaN        NaN   \n",
       "221881                      NaN         NaN        NaN   \n",
       "\n",
       "        comp7_rate_percent_diff  comp8_rate  comp8_inv  \\\n",
       "0                           NaN         0.0        0.0   \n",
       "221881                      NaN         0.0        0.0   \n",
       "\n",
       "        comp8_rate_percent_diff  click_bool  gross_bookings_usd  booking_bool  \n",
       "0                          11.0           1              114.29             1  \n",
       "221881                      NaN           0                 NaN             0  \n",
       "\n",
       "[2 rows x 54 columns]"
      ]
     },
     "execution_count": 10,
     "metadata": {},
     "output_type": "execute_result"
    }
   ],
   "source": [
    "downsampled.head(n=2)"
   ]
  },
  {
   "cell_type": "code",
   "execution_count": 11,
   "metadata": {},
   "outputs": [
    {
     "data": {
      "image/png": "[encoded data removed]",
      "text/plain": [
       "<Figure size 432x288 with 1 Axes>"
      ]
     },
     "metadata": {
      "needs_background": "light"
     },
     "output_type": "display_data"
    },
    {
     "data": {
      "image/png": "[encoded data removed]",
      "text/plain": [
       "<Figure size 432x288 with 1 Axes>"
      ]
     },
     "metadata": {
      "needs_background": "light"
     },
     "output_type": "display_data"
    }
   ],
   "source": [
    "plt.hist(downsampled.booking_bool)\n",
    "plt.show()\n",
    "\n",
    "plt.hist(downsampled.click_bool)\n",
    "plt.show()"
   ]
  },
  {
   "cell_type": "code",
   "execution_count": 12,
   "metadata": {},
   "outputs": [],
   "source": [
    "downsampled.to_csv(\"data/training_set_VU_DM_small_downsampled.csv\", index=False)"
   ]
  },
  {
   "cell_type": "markdown",
   "metadata": {},
   "source": [
    "Missing value imputation"
   ]
  },
  {
   "cell_type": "code",
   "execution_count": 13,
   "metadata": {},
   "outputs": [
    {
     "data": {
      "image/png": "[encoded data removed]",
      "text/plain": [
       "<Figure size 1440x720 with 1 Axes>"
      ]
     },
     "metadata": {
      "needs_background": "light"
     },
     "output_type": "display_data"
    }
   ],
   "source": [
    "df = downsampled\n",
    "del downsampled\n",
    "gc.collect()\n",
    "\n",
    "def plot_missing(data):\n",
    "    missing = (data.isna().sum()/data.shape[0]*100) # missing percentages\n",
    "\n",
    "    # plot missing \n",
    "    plt.figure(figsize=(20,10))\n",
    "    missing.sort_values().plot(kind='bar')\n",
    "    plt.title('Missing value % per Variables')\n",
    "    \n",
    "    return missing\n",
    "\n",
    "missing = plot_missing(df)"
   ]
  },
  {
   "cell_type": "code",
   "execution_count": 14,
   "metadata": {},
   "outputs": [
    {
     "name": "stdout",
     "output_type": "stream",
     "text": [
      "visitor_hist_starrating      94.799632\n",
      "visitor_hist_adr_usd         94.773805\n",
      "srch_query_affinity_score    93.741841\n",
      "comp1_rate                   97.707489\n",
      "comp1_inv                    97.519291\n",
      "comp1_rate_percent_diff      98.195586\n",
      "comp2_rate                   61.178491\n",
      "comp2_inv                    58.962559\n",
      "comp2_rate_percent_diff      89.042156\n",
      "comp3_rate                   70.525466\n",
      "comp3_inv                    68.186974\n",
      "comp3_rate_percent_diff      90.551606\n",
      "comp4_rate                   93.637625\n",
      "comp4_inv                    92.895691\n",
      "comp4_rate_percent_diff      97.290295\n",
      "comp5_rate                   57.278730\n",
      "comp5_inv                    54.425244\n",
      "comp5_rate_percent_diff      83.699324\n",
      "comp6_rate                   95.176111\n",
      "comp6_inv                    94.750198\n",
      "comp6_rate_percent_diff      98.094495\n",
      "comp7_rate                   93.621010\n",
      "comp7_inv                    92.747304\n",
      "comp7_rate_percent_diff      97.198992\n",
      "comp8_rate                   63.628191\n",
      "comp8_inv                    62.129927\n",
      "comp8_rate_percent_diff      88.111366\n",
      "gross_bookings_usd           88.616819\n",
      "dtype: float64\n"
     ]
    }
   ],
   "source": [
    "discard = missing[missing>50]\n",
    "print(discard)\n",
    "df.drop(discard.index, axis=1, inplace=True)\n",
    "test.drop(discard.index[:-1], axis=1, inplace=True) # test set doesnt have all columns so we do this in meanwhile"
   ]
  },
  {
   "cell_type": "code",
   "execution_count": 15,
   "metadata": {},
   "outputs": [
    {
     "data": {
      "image/png": "[encoded data removed]",
      "text/plain": [
       "<Figure size 1440x720 with 1 Axes>"
      ]
     },
     "metadata": {
      "needs_background": "light"
     },
     "output_type": "display_data"
    }
   ],
   "source": [
    "missing = plot_missing(df)"
   ]
  },
  {
   "cell_type": "code",
   "execution_count": 16,
   "metadata": {},
   "outputs": [],
   "source": [
    "def impute(impute):\n",
    "\n",
    "    # hotel properties: impute with worst case scenario. Stolen from #2 and #3\n",
    "    impute[['prop_review_score', 'prop_location_score2']] = impute[['prop_review_score','prop_location_score2']].fillna(0)\n",
    "\n",
    "    # set missing original distances to max() for each searchquery\n",
    "    impute.fillna(impute.groupby('srch_id').transform('max').squeeze(), inplace=True)\n",
    "    impute.orig_destination_distance.fillna(impute.orig_destination_distance.mean(), inplace=True) \n",
    "    # TODO just to remove nans, we should def not do this\n",
    "    # TODO negative\n",
    "\n",
    "impute(df)\n",
    "impute(test)"
   ]
  },
  {
   "cell_type": "code",
   "execution_count": 17,
   "metadata": {},
   "outputs": [
    {
     "data": {
      "text/html": [
       "<div>\n",
       "<style scoped>\n",
       "    .dataframe tbody tr th:only-of-type {\n",
       "        vertical-align: middle;\n",
       "    }\n",
       "\n",
       "    .dataframe tbody tr th {\n",
       "        vertical-align: top;\n",
       "    }\n",
       "\n",
       "    .dataframe thead th {\n",
       "        text-align: right;\n",
       "    }\n",
       "</style>\n",
       "<table border=\"1\" class=\"dataframe\">\n",
       "  <thead>\n",
       "    <tr style=\"text-align: right;\">\n",
       "      <th></th>\n",
       "      <th>srch_id</th>\n",
       "      <th>site_id</th>\n",
       "      <th>visitor_location_country_id</th>\n",
       "      <th>prop_country_id</th>\n",
       "      <th>prop_id</th>\n",
       "      <th>prop_starrating</th>\n",
       "      <th>prop_review_score</th>\n",
       "      <th>prop_brand_bool</th>\n",
       "      <th>prop_location_score1</th>\n",
       "      <th>prop_location_score2</th>\n",
       "      <th>...</th>\n",
       "      <th>srch_length_of_stay</th>\n",
       "      <th>srch_booking_window</th>\n",
       "      <th>srch_adults_count</th>\n",
       "      <th>srch_children_count</th>\n",
       "      <th>srch_room_count</th>\n",
       "      <th>srch_saturday_night_bool</th>\n",
       "      <th>orig_destination_distance</th>\n",
       "      <th>random_bool</th>\n",
       "      <th>click_bool</th>\n",
       "      <th>booking_bool</th>\n",
       "    </tr>\n",
       "  </thead>\n",
       "  <tbody>\n",
       "    <tr>\n",
       "      <th>count</th>\n",
       "      <td>1.215741e+06</td>\n",
       "      <td>1.215741e+06</td>\n",
       "      <td>1.215741e+06</td>\n",
       "      <td>1.215741e+06</td>\n",
       "      <td>1.215741e+06</td>\n",
       "      <td>1.215741e+06</td>\n",
       "      <td>1.215741e+06</td>\n",
       "      <td>1.215741e+06</td>\n",
       "      <td>1.215741e+06</td>\n",
       "      <td>1.215741e+06</td>\n",
       "      <td>...</td>\n",
       "      <td>1.215741e+06</td>\n",
       "      <td>1.215741e+06</td>\n",
       "      <td>1.215741e+06</td>\n",
       "      <td>1.215741e+06</td>\n",
       "      <td>1.215741e+06</td>\n",
       "      <td>1.215741e+06</td>\n",
       "      <td>1.215741e+06</td>\n",
       "      <td>1.215741e+06</td>\n",
       "      <td>1.215741e+06</td>\n",
       "      <td>1.215741e+06</td>\n",
       "    </tr>\n",
       "    <tr>\n",
       "      <th>mean</th>\n",
       "      <td>1.664831e+05</td>\n",
       "      <td>1.014520e+01</td>\n",
       "      <td>1.741140e+02</td>\n",
       "      <td>1.724701e+02</td>\n",
       "      <td>3.066708e+04</td>\n",
       "      <td>3.164178e+00</td>\n",
       "      <td>3.755097e+00</td>\n",
       "      <td>6.249769e-01</td>\n",
       "      <td>2.791237e+00</td>\n",
       "      <td>1.132527e-01</td>\n",
       "      <td>...</td>\n",
       "      <td>2.395495e+00</td>\n",
       "      <td>3.787740e+01</td>\n",
       "      <td>1.983881e+00</td>\n",
       "      <td>3.741307e-01</td>\n",
       "      <td>1.125592e+00</td>\n",
       "      <td>5.054950e-01</td>\n",
       "      <td>1.308012e+03</td>\n",
       "      <td>3.045789e-01</td>\n",
       "      <td>1.825052e-01</td>\n",
       "      <td>1.138318e-01</td>\n",
       "    </tr>\n",
       "    <tr>\n",
       "      <th>std</th>\n",
       "      <td>9.610404e+04</td>\n",
       "      <td>7.740706e+00</td>\n",
       "      <td>6.640507e+01</td>\n",
       "      <td>6.892698e+01</td>\n",
       "      <td>3.267118e+04</td>\n",
       "      <td>1.087588e+00</td>\n",
       "      <td>1.082293e+00</td>\n",
       "      <td>4.841291e-01</td>\n",
       "      <td>1.537666e+00</td>\n",
       "      <td>1.628331e-01</td>\n",
       "      <td>...</td>\n",
       "      <td>2.085796e+00</td>\n",
       "      <td>5.289630e+01</td>\n",
       "      <td>8.818054e-01</td>\n",
       "      <td>7.547385e-01</td>\n",
       "      <td>4.379008e-01</td>\n",
       "      <td>4.999700e-01</td>\n",
       "      <td>1.660763e+03</td>\n",
       "      <td>4.602290e-01</td>\n",
       "      <td>3.862605e-01</td>\n",
       "      <td>3.176070e-01</td>\n",
       "    </tr>\n",
       "    <tr>\n",
       "      <th>min</th>\n",
       "      <td>1.000000e+00</td>\n",
       "      <td>1.000000e+00</td>\n",
       "      <td>1.000000e+00</td>\n",
       "      <td>1.000000e+00</td>\n",
       "      <td>1.000000e+00</td>\n",
       "      <td>0.000000e+00</td>\n",
       "      <td>0.000000e+00</td>\n",
       "      <td>0.000000e+00</td>\n",
       "      <td>0.000000e+00</td>\n",
       "      <td>0.000000e+00</td>\n",
       "      <td>...</td>\n",
       "      <td>1.000000e+00</td>\n",
       "      <td>0.000000e+00</td>\n",
       "      <td>1.000000e+00</td>\n",
       "      <td>0.000000e+00</td>\n",
       "      <td>1.000000e+00</td>\n",
       "      <td>0.000000e+00</td>\n",
       "      <td>1.000000e-02</td>\n",
       "      <td>0.000000e+00</td>\n",
       "      <td>0.000000e+00</td>\n",
       "      <td>0.000000e+00</td>\n",
       "    </tr>\n",
       "    <tr>\n",
       "      <th>25%</th>\n",
       "      <td>8.309900e+04</td>\n",
       "      <td>5.000000e+00</td>\n",
       "      <td>1.000000e+02</td>\n",
       "      <td>1.000000e+02</td>\n",
       "      <td>8.685000e+03</td>\n",
       "      <td>3.000000e+00</td>\n",
       "      <td>3.500000e+00</td>\n",
       "      <td>0.000000e+00</td>\n",
       "      <td>1.610000e+00</td>\n",
       "      <td>1.600000e-03</td>\n",
       "      <td>...</td>\n",
       "      <td>1.000000e+00</td>\n",
       "      <td>4.000000e+00</td>\n",
       "      <td>2.000000e+00</td>\n",
       "      <td>0.000000e+00</td>\n",
       "      <td>1.000000e+00</td>\n",
       "      <td>0.000000e+00</td>\n",
       "      <td>2.293600e+02</td>\n",
       "      <td>0.000000e+00</td>\n",
       "      <td>0.000000e+00</td>\n",
       "      <td>0.000000e+00</td>\n",
       "    </tr>\n",
       "    <tr>\n",
       "      <th>50%</th>\n",
       "      <td>1.666200e+05</td>\n",
       "      <td>5.000000e+00</td>\n",
       "      <td>2.190000e+02</td>\n",
       "      <td>2.190000e+02</td>\n",
       "      <td>1.838000e+04</td>\n",
       "      <td>3.000000e+00</td>\n",
       "      <td>4.000000e+00</td>\n",
       "      <td>1.000000e+00</td>\n",
       "      <td>2.710000e+00</td>\n",
       "      <td>4.250000e-02</td>\n",
       "      <td>...</td>\n",
       "      <td>2.000000e+00</td>\n",
       "      <td>1.700000e+01</td>\n",
       "      <td>2.000000e+00</td>\n",
       "      <td>0.000000e+00</td>\n",
       "      <td>1.000000e+00</td>\n",
       "      <td>1.000000e+00</td>\n",
       "      <td>1.308012e+03</td>\n",
       "      <td>0.000000e+00</td>\n",
       "      <td>0.000000e+00</td>\n",
       "      <td>0.000000e+00</td>\n",
       "    </tr>\n",
       "    <tr>\n",
       "      <th>75%</th>\n",
       "      <td>2.498680e+05</td>\n",
       "      <td>1.400000e+01</td>\n",
       "      <td>2.190000e+02</td>\n",
       "      <td>2.190000e+02</td>\n",
       "      <td>3.844000e+04</td>\n",
       "      <td>4.000000e+00</td>\n",
       "      <td>4.500000e+00</td>\n",
       "      <td>1.000000e+00</td>\n",
       "      <td>3.950000e+00</td>\n",
       "      <td>1.572000e-01</td>\n",
       "      <td>...</td>\n",
       "      <td>3.000000e+00</td>\n",
       "      <td>4.900000e+01</td>\n",
       "      <td>2.000000e+00</td>\n",
       "      <td>0.000000e+00</td>\n",
       "      <td>1.000000e+00</td>\n",
       "      <td>1.000000e+00</td>\n",
       "      <td>1.308012e+03</td>\n",
       "      <td>1.000000e+00</td>\n",
       "      <td>0.000000e+00</td>\n",
       "      <td>0.000000e+00</td>\n",
       "    </tr>\n",
       "    <tr>\n",
       "      <th>max</th>\n",
       "      <td>3.327850e+05</td>\n",
       "      <td>3.400000e+01</td>\n",
       "      <td>2.310000e+02</td>\n",
       "      <td>2.300000e+02</td>\n",
       "      <td>1.408210e+05</td>\n",
       "      <td>5.000000e+00</td>\n",
       "      <td>5.000000e+00</td>\n",
       "      <td>1.000000e+00</td>\n",
       "      <td>6.980000e+00</td>\n",
       "      <td>1.000000e+00</td>\n",
       "      <td>...</td>\n",
       "      <td>5.700000e+01</td>\n",
       "      <td>4.920000e+02</td>\n",
       "      <td>9.000000e+00</td>\n",
       "      <td>9.000000e+00</td>\n",
       "      <td>8.000000e+00</td>\n",
       "      <td>1.000000e+00</td>\n",
       "      <td>1.164495e+04</td>\n",
       "      <td>1.000000e+00</td>\n",
       "      <td>1.000000e+00</td>\n",
       "      <td>1.000000e+00</td>\n",
       "    </tr>\n",
       "  </tbody>\n",
       "</table>\n",
       "<p>8 rows × 25 columns</p>\n",
       "</div>"
      ],
      "text/plain": [
       "            srch_id       site_id  visitor_location_country_id  \\\n",
       "count  1.215741e+06  1.215741e+06                 1.215741e+06   \n",
       "mean   1.664831e+05  1.014520e+01                 1.741140e+02   \n",
       "std    9.610404e+04  7.740706e+00                 6.640507e+01   \n",
       "min    1.000000e+00  1.000000e+00                 1.000000e+00   \n",
       "25%    8.309900e+04  5.000000e+00                 1.000000e+02   \n",
       "50%    1.666200e+05  5.000000e+00                 2.190000e+02   \n",
       "75%    2.498680e+05  1.400000e+01                 2.190000e+02   \n",
       "max    3.327850e+05  3.400000e+01                 2.310000e+02   \n",
       "\n",
       "       prop_country_id       prop_id  prop_starrating  prop_review_score  \\\n",
       "count     1.215741e+06  1.215741e+06     1.215741e+06       1.215741e+06   \n",
       "mean      1.724701e+02  3.066708e+04     3.164178e+00       3.755097e+00   \n",
       "std       6.892698e+01  3.267118e+04     1.087588e+00       1.082293e+00   \n",
       "min       1.000000e+00  1.000000e+00     0.000000e+00       0.000000e+00   \n",
       "25%       1.000000e+02  8.685000e+03     3.000000e+00       3.500000e+00   \n",
       "50%       2.190000e+02  1.838000e+04     3.000000e+00       4.000000e+00   \n",
       "75%       2.190000e+02  3.844000e+04     4.000000e+00       4.500000e+00   \n",
       "max       2.300000e+02  1.408210e+05     5.000000e+00       5.000000e+00   \n",
       "\n",
       "       prop_brand_bool  prop_location_score1  prop_location_score2  ...  \\\n",
       "count     1.215741e+06          1.215741e+06          1.215741e+06  ...   \n",
       "mean      6.249769e-01          2.791237e+00          1.132527e-01  ...   \n",
       "std       4.841291e-01          1.537666e+00          1.628331e-01  ...   \n",
       "min       0.000000e+00          0.000000e+00          0.000000e+00  ...   \n",
       "25%       0.000000e+00          1.610000e+00          1.600000e-03  ...   \n",
       "50%       1.000000e+00          2.710000e+00          4.250000e-02  ...   \n",
       "75%       1.000000e+00          3.950000e+00          1.572000e-01  ...   \n",
       "max       1.000000e+00          6.980000e+00          1.000000e+00  ...   \n",
       "\n",
       "       srch_length_of_stay  srch_booking_window  srch_adults_count  \\\n",
       "count         1.215741e+06         1.215741e+06       1.215741e+06   \n",
       "mean          2.395495e+00         3.787740e+01       1.983881e+00   \n",
       "std           2.085796e+00         5.289630e+01       8.818054e-01   \n",
       "min           1.000000e+00         0.000000e+00       1.000000e+00   \n",
       "25%           1.000000e+00         4.000000e+00       2.000000e+00   \n",
       "50%           2.000000e+00         1.700000e+01       2.000000e+00   \n",
       "75%           3.000000e+00         4.900000e+01       2.000000e+00   \n",
       "max           5.700000e+01         4.920000e+02       9.000000e+00   \n",
       "\n",
       "       srch_children_count  srch_room_count  srch_saturday_night_bool  \\\n",
       "count         1.215741e+06     1.215741e+06              1.215741e+06   \n",
       "mean          3.741307e-01     1.125592e+00              5.054950e-01   \n",
       "std           7.547385e-01     4.379008e-01              4.999700e-01   \n",
       "min           0.000000e+00     1.000000e+00              0.000000e+00   \n",
       "25%           0.000000e+00     1.000000e+00              0.000000e+00   \n",
       "50%           0.000000e+00     1.000000e+00              1.000000e+00   \n",
       "75%           0.000000e+00     1.000000e+00              1.000000e+00   \n",
       "max           9.000000e+00     8.000000e+00              1.000000e+00   \n",
       "\n",
       "       orig_destination_distance   random_bool    click_bool  booking_bool  \n",
       "count               1.215741e+06  1.215741e+06  1.215741e+06  1.215741e+06  \n",
       "mean                1.308012e+03  3.045789e-01  1.825052e-01  1.138318e-01  \n",
       "std                 1.660763e+03  4.602290e-01  3.862605e-01  3.176070e-01  \n",
       "min                 1.000000e-02  0.000000e+00  0.000000e+00  0.000000e+00  \n",
       "25%                 2.293600e+02  0.000000e+00  0.000000e+00  0.000000e+00  \n",
       "50%                 1.308012e+03  0.000000e+00  0.000000e+00  0.000000e+00  \n",
       "75%                 1.308012e+03  1.000000e+00  0.000000e+00  0.000000e+00  \n",
       "max                 1.164495e+04  1.000000e+00  1.000000e+00  1.000000e+00  \n",
       "\n",
       "[8 rows x 25 columns]"
      ]
     },
     "execution_count": 17,
     "metadata": {},
     "output_type": "execute_result"
    }
   ],
   "source": [
    "df.describe()"
   ]
  },
  {
   "cell_type": "markdown",
   "metadata": {},
   "source": [
    "Create new target, i.e relevance"
   ]
  },
  {
   "cell_type": "code",
   "execution_count": 18,
   "metadata": {},
   "outputs": [],
   "source": [
    "df['target'] = np.where(df.click_bool == 1, 1,0)\n",
    "df['target'] = np.where(df.booking_bool == 1, 5, df.target)"
   ]
  },
  {
   "cell_type": "code",
   "execution_count": 19,
   "metadata": {},
   "outputs": [
    {
     "data": {
      "text/html": [
       "<div>\n",
       "<style scoped>\n",
       "    .dataframe tbody tr th:only-of-type {\n",
       "        vertical-align: middle;\n",
       "    }\n",
       "\n",
       "    .dataframe tbody tr th {\n",
       "        vertical-align: top;\n",
       "    }\n",
       "\n",
       "    .dataframe thead th {\n",
       "        text-align: right;\n",
       "    }\n",
       "</style>\n",
       "<table border=\"1\" class=\"dataframe\">\n",
       "  <thead>\n",
       "    <tr style=\"text-align: right;\">\n",
       "      <th></th>\n",
       "      <th>target</th>\n",
       "      <th>click_bool</th>\n",
       "      <th>booking_bool</th>\n",
       "    </tr>\n",
       "  </thead>\n",
       "  <tbody>\n",
       "    <tr>\n",
       "      <th>0</th>\n",
       "      <td>5</td>\n",
       "      <td>1</td>\n",
       "      <td>1</td>\n",
       "    </tr>\n",
       "    <tr>\n",
       "      <th>221881</th>\n",
       "      <td>0</td>\n",
       "      <td>0</td>\n",
       "      <td>0</td>\n",
       "    </tr>\n",
       "    <tr>\n",
       "      <th>221882</th>\n",
       "      <td>0</td>\n",
       "      <td>0</td>\n",
       "      <td>0</td>\n",
       "    </tr>\n",
       "    <tr>\n",
       "      <th>221883</th>\n",
       "      <td>0</td>\n",
       "      <td>0</td>\n",
       "      <td>0</td>\n",
       "    </tr>\n",
       "    <tr>\n",
       "      <th>221880</th>\n",
       "      <td>0</td>\n",
       "      <td>0</td>\n",
       "      <td>0</td>\n",
       "    </tr>\n",
       "    <tr>\n",
       "      <th>221879</th>\n",
       "      <td>0</td>\n",
       "      <td>0</td>\n",
       "      <td>0</td>\n",
       "    </tr>\n",
       "    <tr>\n",
       "      <th>1</th>\n",
       "      <td>1</td>\n",
       "      <td>1</td>\n",
       "      <td>0</td>\n",
       "    </tr>\n",
       "    <tr>\n",
       "      <th>221884</th>\n",
       "      <td>0</td>\n",
       "      <td>0</td>\n",
       "      <td>0</td>\n",
       "    </tr>\n",
       "    <tr>\n",
       "      <th>221885</th>\n",
       "      <td>0</td>\n",
       "      <td>0</td>\n",
       "      <td>0</td>\n",
       "    </tr>\n",
       "    <tr>\n",
       "      <th>221886</th>\n",
       "      <td>0</td>\n",
       "      <td>0</td>\n",
       "      <td>0</td>\n",
       "    </tr>\n",
       "    <tr>\n",
       "      <th>221887</th>\n",
       "      <td>0</td>\n",
       "      <td>0</td>\n",
       "      <td>0</td>\n",
       "    </tr>\n",
       "    <tr>\n",
       "      <th>221888</th>\n",
       "      <td>0</td>\n",
       "      <td>0</td>\n",
       "      <td>0</td>\n",
       "    </tr>\n",
       "    <tr>\n",
       "      <th>221889</th>\n",
       "      <td>0</td>\n",
       "      <td>0</td>\n",
       "      <td>0</td>\n",
       "    </tr>\n",
       "    <tr>\n",
       "      <th>2</th>\n",
       "      <td>5</td>\n",
       "      <td>1</td>\n",
       "      <td>1</td>\n",
       "    </tr>\n",
       "    <tr>\n",
       "      <th>221890</th>\n",
       "      <td>0</td>\n",
       "      <td>0</td>\n",
       "      <td>0</td>\n",
       "    </tr>\n",
       "    <tr>\n",
       "      <th>221891</th>\n",
       "      <td>0</td>\n",
       "      <td>0</td>\n",
       "      <td>0</td>\n",
       "    </tr>\n",
       "    <tr>\n",
       "      <th>221892</th>\n",
       "      <td>0</td>\n",
       "      <td>0</td>\n",
       "      <td>0</td>\n",
       "    </tr>\n",
       "    <tr>\n",
       "      <th>221897</th>\n",
       "      <td>0</td>\n",
       "      <td>0</td>\n",
       "      <td>0</td>\n",
       "    </tr>\n",
       "    <tr>\n",
       "      <th>221895</th>\n",
       "      <td>0</td>\n",
       "      <td>0</td>\n",
       "      <td>0</td>\n",
       "    </tr>\n",
       "    <tr>\n",
       "      <th>221894</th>\n",
       "      <td>0</td>\n",
       "      <td>0</td>\n",
       "      <td>0</td>\n",
       "    </tr>\n",
       "  </tbody>\n",
       "</table>\n",
       "</div>"
      ],
      "text/plain": [
       "        target  click_bool  booking_bool\n",
       "0            5           1             1\n",
       "221881       0           0             0\n",
       "221882       0           0             0\n",
       "221883       0           0             0\n",
       "221880       0           0             0\n",
       "221879       0           0             0\n",
       "1            1           1             0\n",
       "221884       0           0             0\n",
       "221885       0           0             0\n",
       "221886       0           0             0\n",
       "221887       0           0             0\n",
       "221888       0           0             0\n",
       "221889       0           0             0\n",
       "2            5           1             1\n",
       "221890       0           0             0\n",
       "221891       0           0             0\n",
       "221892       0           0             0\n",
       "221897       0           0             0\n",
       "221895       0           0             0\n",
       "221894       0           0             0"
      ]
     },
     "execution_count": 19,
     "metadata": {},
     "output_type": "execute_result"
    }
   ],
   "source": [
    "df.loc[:,['target', 'click_bool', 'booking_bool']].head(n=20)"
   ]
  },
  {
   "cell_type": "code",
   "execution_count": null,
   "metadata": {},
   "outputs": [],
   "source": [
    "df.to_csv(\"data/dummy/train.csv\", index=False)\n",
    "test.to_csv(\"data/dummy/test.csv\", index=False)"
   ]
  },
  {
   "cell_type": "code",
   "execution_count": null,
   "metadata": {},
   "outputs": [],
   "source": []
  }
 ],
 "metadata": {
  "kernelspec": {
   "display_name": "Python 3",
   "language": "python",
   "name": "python3"
  },
  "language_info": {
   "codemirror_mode": {
    "name": "ipython",
    "version": 3
   },
   "file_extension": ".py",
   "mimetype": "text/x-python",
   "name": "python",
   "nbconvert_exporter": "python",
   "pygments_lexer": "ipython3",
   "version": "3.8.5"
  }
 },
 "nbformat": 4,
 "nbformat_minor": 4
}
