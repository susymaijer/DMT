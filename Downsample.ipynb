{
 "cells": [
  {
   "cell_type": "code",
   "execution_count": 2,
   "metadata": {},
   "outputs": [],
   "source": [
    "import pandas as pd\n",
    "import numpy as np\n",
    "import random\n",
    "import matplotlib.pyplot as plt\n",
    "import seaborn as sns \n",
    "import math\n",
    "import gc"
   ]
  },
  {
   "cell_type": "code",
   "execution_count": 2,
   "metadata": {},
   "outputs": [],
   "source": [
    "train = pd.read_csv(\"data/training_set_VU_DM.csv\")"
   ]
  },
  {
   "cell_type": "code",
   "execution_count": 3,
   "metadata": {},
   "outputs": [
    {
     "name": "stdout",
     "output_type": "stream",
     "text": [
      "There are 199795 searches in the training set and 4958347 data points\n",
      "There are 199795 searches in the smaller training set and 4958347 data points\n"
     ]
    }
   ],
   "source": [
    "search_ids = train.srch_id.unique()\n",
    "print(f'There are {len(search_ids)} searches in the training set and {len(train)} data points')\n",
    "df = train\n",
    "#df = train[train.srch_id.isin(random.sample(list(search_ids), int(0.1 * len(search_ids))))]\n",
    "print(f'There are {len(df.srch_id.unique())} searches in the smaller training set and {len(df)} data points')"
   ]
  },
  {
   "cell_type": "markdown",
   "metadata": {},
   "source": [
    "Next, we downsample the smaller training set as the data is very imbalanced. We take 5 negatives for every positive instance."
   ]
  },
  {
   "cell_type": "code",
   "execution_count": 5,
   "metadata": {},
   "outputs": [
    {
     "data": {
      "image/png": "[encoded data removed]",
      "text/plain": [
       "<Figure size 432x288 with 1 Axes>"
      ]
     },
     "metadata": {
      "needs_background": "light"
     },
     "output_type": "display_data"
    },
    {
     "data": {
      "image/png": "[encoded data removed]",
      "text/plain": [
       "<Figure size 432x288 with 1 Axes>"
      ]
     },
     "metadata": {
      "needs_background": "light"
     },
     "output_type": "display_data"
    }
   ],
   "source": [
    "plt.hist(df.booking_bool)\n",
    "plt.show()\n",
    "\n",
    "plt.hist(df.click_bool)\n",
    "plt.show()"
   ]
  },
  {
   "cell_type": "code",
   "execution_count": 6,
   "metadata": {},
   "outputs": [
    {
     "name": "stdout",
     "output_type": "stream",
     "text": [
      "On average, there are 1.1105332966290449 clicks/bookings per search\n"
     ]
    }
   ],
   "source": [
    "keep = df[(df.booking_bool==1) | (df.click_bool==1)] # keep all clicked and/or booked\n",
    "avg_keep = keep.groupby('srch_id').size().mean() # average amount of clicks/bools per search\n",
    "print(f'On average, there are {avg_keep} clicks/bookings per search')\n",
    "\n",
    "majority = df[(df.booking_bool==0) & (df.click_bool==0)] # not clicked AND not booked\n",
    "majority_keep = majority.groupby('srch_id').head(int(5*avg_keep)).reset_index(drop=True) # we take 5 negatives for every positive"
   ]
  },
  {
   "cell_type": "code",
   "execution_count": 7,
   "metadata": {},
   "outputs": [
    {
     "data": {
      "text/plain": [
       "6478"
      ]
     },
     "execution_count": 7,
     "metadata": {},
     "output_type": "execute_result"
    }
   ],
   "source": [
    "df = pd.concat([keep, majority_keep], ignore_index=True).sort_values('srch_id')\n",
    "del keep\n",
    "del majority_keep\n",
    "gc.collect()"
   ]
  },
  {
   "cell_type": "code",
   "execution_count": 8,
   "metadata": {},
   "outputs": [
    {
     "data": {
      "image/png": "[encoded data removed]",
      "text/plain": [
       "<Figure size 432x288 with 1 Axes>"
      ]
     },
     "metadata": {
      "needs_background": "light"
     },
     "output_type": "display_data"
    },
    {
     "data": {
      "image/png": "[encoded data removed]",
      "text/plain": [
       "<Figure size 432x288 with 1 Axes>"
      ]
     },
     "metadata": {
      "needs_background": "light"
     },
     "output_type": "display_data"
    }
   ],
   "source": [
    "plt.hist(df.booking_bool)\n",
    "plt.show()\n",
    "\n",
    "plt.hist(df.click_bool)\n",
    "plt.show()"
   ]
  },
  {
   "cell_type": "code",
   "execution_count": 9,
   "metadata": {},
   "outputs": [],
   "source": [
    "df.to_csv(\"data/training_set_VU_DM_small_downsampled.csv\", index=False)"
   ]
  }
 ],
 "metadata": {
  "kernelspec": {
   "display_name": "Python 3",
   "language": "python",
   "name": "python3"
  },
  "language_info": {
   "codemirror_mode": {
    "name": "ipython",
    "version": 3
   },
   "file_extension": ".py",
   "mimetype": "text/x-python",
   "name": "python",
   "nbconvert_exporter": "python",
   "pygments_lexer": "ipython3",
   "version": "3.8.5"
  }
 },
 "nbformat": 4,
 "nbformat_minor": 4
}
