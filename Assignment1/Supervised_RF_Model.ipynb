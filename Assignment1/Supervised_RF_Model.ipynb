{
 "cells": [
  {
   "cell_type": "code",
   "execution_count": 1,
   "metadata": {},
   "outputs": [],
   "source": [
    "import pandas as pd \n",
    "import numpy as np \n",
    "import  seaborn as sns\n",
    "import matplotlib.pyplot as plt\n",
    "from sklearn.preprocessing import StandardScaler\n",
    "from sklearn.model_selection import train_test_split, RandomizedSearchCV\n",
    "from sklearn.ensemble import RandomForestRegressor \n",
    "from sklearn.metrics import mean_squared_error, r2_score\n",
    "from datetime import datetime\n",
    "import warnings\n",
    "warnings.filterwarnings('ignore')"
   ]
  },
  {
   "cell_type": "markdown",
   "metadata": {},
   "source": [
    "### Read dataframe"
   ]
  },
  {
   "cell_type": "code",
   "execution_count": 2,
   "metadata": {},
   "outputs": [
    {
     "data": {
      "text/html": [
       "<div>\n",
       "<style scoped>\n",
       "    .dataframe tbody tr th:only-of-type {\n",
       "        vertical-align: middle;\n",
       "    }\n",
       "\n",
       "    .dataframe tbody tr th {\n",
       "        vertical-align: top;\n",
       "    }\n",
       "\n",
       "    .dataframe thead th {\n",
       "        text-align: right;\n",
       "    }\n",
       "</style>\n",
       "<table border=\"1\" class=\"dataframe\">\n",
       "  <thead>\n",
       "    <tr style=\"text-align: right;\">\n",
       "      <th></th>\n",
       "      <th>time</th>\n",
       "      <th>mood_next_day</th>\n",
       "      <th>screen</th>\n",
       "      <th>activity</th>\n",
       "      <th>total_app_time</th>\n",
       "      <th>circumplex.arousal</th>\n",
       "      <th>circumplex.valence</th>\n",
       "      <th>call_sms</th>\n",
       "      <th>mood</th>\n",
       "      <th>Day_name</th>\n",
       "      <th>is_weekday</th>\n",
       "      <th>Friday</th>\n",
       "      <th>Monday</th>\n",
       "      <th>Saturday</th>\n",
       "      <th>Sunday</th>\n",
       "      <th>Thursday</th>\n",
       "      <th>Tuesday</th>\n",
       "      <th>Wednesday</th>\n",
       "    </tr>\n",
       "    <tr>\n",
       "      <th>id</th>\n",
       "      <th></th>\n",
       "      <th></th>\n",
       "      <th></th>\n",
       "      <th></th>\n",
       "      <th></th>\n",
       "      <th></th>\n",
       "      <th></th>\n",
       "      <th></th>\n",
       "      <th></th>\n",
       "      <th></th>\n",
       "      <th></th>\n",
       "      <th></th>\n",
       "      <th></th>\n",
       "      <th></th>\n",
       "      <th></th>\n",
       "      <th></th>\n",
       "      <th></th>\n",
       "      <th></th>\n",
       "    </tr>\n",
       "  </thead>\n",
       "  <tbody>\n",
       "    <tr>\n",
       "      <th>AS14.01</th>\n",
       "      <td>2014-02-17</td>\n",
       "      <td>6.990323</td>\n",
       "      <td>6027.93992</td>\n",
       "      <td>0.120003</td>\n",
       "      <td>0.0</td>\n",
       "      <td>-0.103851</td>\n",
       "      <td>0.687112</td>\n",
       "      <td>2.0</td>\n",
       "      <td>6.990063</td>\n",
       "      <td>Monday</td>\n",
       "      <td>1</td>\n",
       "      <td>0</td>\n",
       "      <td>1</td>\n",
       "      <td>0</td>\n",
       "      <td>0</td>\n",
       "      <td>0</td>\n",
       "      <td>0</td>\n",
       "      <td>0</td>\n",
       "    </tr>\n",
       "    <tr>\n",
       "      <th>AS14.01</th>\n",
       "      <td>2014-02-18</td>\n",
       "      <td>6.990323</td>\n",
       "      <td>6027.93992</td>\n",
       "      <td>0.120003</td>\n",
       "      <td>0.0</td>\n",
       "      <td>-0.103851</td>\n",
       "      <td>0.687112</td>\n",
       "      <td>1.0</td>\n",
       "      <td>6.990063</td>\n",
       "      <td>Tuesday</td>\n",
       "      <td>1</td>\n",
       "      <td>0</td>\n",
       "      <td>0</td>\n",
       "      <td>0</td>\n",
       "      <td>0</td>\n",
       "      <td>0</td>\n",
       "      <td>1</td>\n",
       "      <td>0</td>\n",
       "    </tr>\n",
       "  </tbody>\n",
       "</table>\n",
       "</div>"
      ],
      "text/plain": [
       "               time  mood_next_day      screen  activity  total_app_time  \\\n",
       "id                                                                         \n",
       "AS14.01  2014-02-17       6.990323  6027.93992  0.120003             0.0   \n",
       "AS14.01  2014-02-18       6.990323  6027.93992  0.120003             0.0   \n",
       "\n",
       "         circumplex.arousal  circumplex.valence  call_sms      mood Day_name  \\\n",
       "id                                                                             \n",
       "AS14.01           -0.103851            0.687112       2.0  6.990063   Monday   \n",
       "AS14.01           -0.103851            0.687112       1.0  6.990063  Tuesday   \n",
       "\n",
       "         is_weekday  Friday  Monday  Saturday  Sunday  Thursday  Tuesday  \\\n",
       "id                                                                         \n",
       "AS14.01           1       0       1         0       0         0        0   \n",
       "AS14.01           1       0       0         0       0         0        1   \n",
       "\n",
       "         Wednesday  \n",
       "id                  \n",
       "AS14.01          0  \n",
       "AS14.01          0  "
      ]
     },
     "execution_count": 2,
     "metadata": {},
     "output_type": "execute_result"
    }
   ],
   "source": [
    "# read preprocessed dataframe \n",
    "df = pd.read_csv('cleandata_mood.csv', sep = \"\\t\", index_col=0)\n",
    "df = df.fillna(df.mean()) #i had missing value replace your df here \n",
    "df.head(n=2)"
   ]
  },
  {
   "cell_type": "markdown",
   "metadata": {},
   "source": [
    "#### Define targets  & hyperparameters"
   ]
  },
  {
   "cell_type": "code",
   "execution_count": 3,
   "metadata": {},
   "outputs": [],
   "source": [
    "# list of columns you want to drop from x matrix ( this is just example) always call df as df \n",
    "dropcols = ['time', 'Day_name', 'mood','is_weekday','mood_next_day'] \n",
    "target = 'mood_next_day' # target you want to predict \n",
    "test_size = 0.2 # 20 % data as test set "
   ]
  },
  {
   "cell_type": "code",
   "execution_count": 4,
   "metadata": {},
   "outputs": [
    {
     "name": "stdout",
     "output_type": "stream",
     "text": [
      "{'n_estimators': [10, 20, 30, 40, 50, 60, 70, 80, 90, 100], 'max_depth': [2, 4], 'max_features': ['auto', 'sqrt']}\n"
     ]
    }
   ],
   "source": [
    "# Define your hyperparameters\n",
    "n_estimaters = [int(x) for x in np.linspace(start = 10 , stop = 100 , num = 10)]\n",
    "max_depth = [2,4]\n",
    "max_features = ['auto', 'sqrt']\n",
    "\n",
    "#set parameter grid for hyper parameter tuning \n",
    "param_grid = {\"n_estimators\" : n_estimaters,\n",
    "             \"max_depth\" : max_depth,\n",
    "             \"max_features\" : max_features}\n",
    "print(param_grid)"
   ]
  },
  {
   "cell_type": "markdown",
   "metadata": {},
   "source": [
    "#### Define all the required function "
   ]
  },
  {
   "cell_type": "code",
   "execution_count": 5,
   "metadata": {},
   "outputs": [],
   "source": [
    "\n",
    "# these function is access within rfmodel but you can use it separatetly\n",
    "#train test split \n",
    "def get_train_test(df, dropcols, target, test_size):\n",
    "    \"\"\"this function will take raw dataframe \n",
    "    and gives you train and test for model building \"\"\"\n",
    "    X = df.drop(dropcols, axis=1)\n",
    "    y = df[target]\n",
    "    X_train, X_test, y_train, y_test = train_test_split(X, y,\n",
    "                                                        test_size=test_size,\n",
    "                                                        random_state=10)\n",
    "    return X_train, X_test, y_train, y_test \n",
    "\n",
    "#parameter tuning \n",
    "\n",
    "def param_tuning(X_train, X_test, y_train, y_test):\n",
    "    \"\"\" this function will return best parameters\"\"\"\n",
    "    rfr = RandomForestRegressor() # initialize model with no parameters \n",
    "    rf_tune = RandomizedSearchCV(rfr, param_distributions=param_grid,\n",
    "                              cv = 5, verbose =2 , n_jobs=4)\n",
    "    rf_tune.fit(X_train, y_train)\n",
    "    print(f'Train Accuracy - : {rf_tune.score(X_train, y_train):.3f}')\n",
    "    print(f'Test Accuracy - : {rf_tune.score(X_test, y_test):.3f}')\n",
    "    return rf_tune.best_params_\n",
    "#how to run \n",
    "#best_param = param_tuning(X_train, X_test, y_train, y_test)\n",
    "\n",
    "# final model you should run this command only\n",
    "def rfmodel():\n",
    "    '''run rf model and hyperparameter'''\n",
    "    X_train, X_test, y_train, y_test = get_train_test(df=df,\n",
    "                                                      dropcols =dropcols,\n",
    "                                                      target = target,\n",
    "                                                      test_size = test_size)\n",
    "    best_params = param_tuning(X_train, X_test, y_train, y_test)\n",
    "    \n",
    "    #fit best model \n",
    "    n_estimator = best_params['n_estimators']\n",
    "    max_feature = best_params['max_features']\n",
    "    max_dept = best_params['max_depth']\n",
    "    bestmodel = RandomForestRegressor(n_estimators=n_estimator,\n",
    "                                      max_features=max_feature,\n",
    "                                      max_depth = max_dept,\n",
    "                                      random_state = 10)\n",
    "    bestmodel.fit(X_train, y_train)\n",
    "    y_pred = bestmodel.predict(X_test)\n",
    "    #get performance stats \n",
    "    mse = mean_squared_error(y_test, y_pred)\n",
    "    r2 = r2_score(y_test, y_pred)\n",
    "    #get feature importance \n",
    "    feat_importance = pd.Series(bestmodel.feature_importances_, \n",
    "                                 index=X_train.columns)\n",
    "    #feat_importance.nlargest(X_train.columns).plot(kind='barh', color = 'darkblue')\n",
    "    \n",
    "    return [bestmodel, mse, r2, feat_importance] # this return list of factors\n",
    "\n",
    " # how to run results = rfmodel()   # access model results[0], access mse = results[1]"
   ]
  },
  {
   "cell_type": "code",
   "execution_count": 6,
   "metadata": {},
   "outputs": [
    {
     "name": "stdout",
     "output_type": "stream",
     "text": [
      "Fitting 5 folds for each of 10 candidates, totalling 50 fits\n"
     ]
    },
    {
     "name": "stderr",
     "output_type": "stream",
     "text": [
      "[Parallel(n_jobs=4)]: Using backend LokyBackend with 4 concurrent workers.\n",
      "[Parallel(n_jobs=4)]: Done  33 tasks      | elapsed:    6.2s\n",
      "[Parallel(n_jobs=4)]: Done  50 out of  50 | elapsed:    8.0s finished\n"
     ]
    },
    {
     "name": "stdout",
     "output_type": "stream",
     "text": [
      "Train Accuracy - : 0.215\n",
      "Test Accuracy - : 0.119\n"
     ]
    }
   ],
   "source": [
    "results = rfmodel()"
   ]
  },
  {
   "cell_type": "code",
   "execution_count": 7,
   "metadata": {},
   "outputs": [
    {
     "data": {
      "text/plain": [
       "[RandomForestRegressor(max_depth=4, random_state=10),\n",
       " 0.26045709527970123,\n",
       " 0.1043750396644495,\n",
       " screen                0.128777\n",
       " activity              0.169369\n",
       " total_app_time        0.133401\n",
       " circumplex.arousal    0.153867\n",
       " circumplex.valence    0.267484\n",
       " call_sms              0.077064\n",
       " Friday                0.027479\n",
       " Monday                0.003332\n",
       " Saturday              0.009938\n",
       " Sunday                0.005727\n",
       " Thursday              0.017646\n",
       " Tuesday               0.003208\n",
       " Wednesday             0.002708\n",
       " dtype: float64]"
      ]
     },
     "execution_count": 7,
     "metadata": {},
     "output_type": "execute_result"
    }
   ],
   "source": [
    "results"
   ]
  },
  {
   "cell_type": "code",
   "execution_count": 8,
   "metadata": {},
   "outputs": [
    {
     "data": {
      "text/plain": [
       "<matplotlib.axes._subplots.AxesSubplot at 0xb84bb20>"
      ]
     },
     "execution_count": 8,
     "metadata": {},
     "output_type": "execute_result"
    },
    {
     "data": {
      "image/png": "[encoded data removed]",
      "text/plain": [
       "<Figure size 432x288 with 1 Axes>"
      ]
     },
     "metadata": {
      "needs_background": "light"
     },
     "output_type": "display_data"
    }
   ],
   "source": [
    "# visualize top 7 features  ( 3 is third place in list where feature importance stored)\n",
    "results[3].nlargest(7).plot(kind='barh', color = 'darkblue')"
   ]
  },
  {
   "cell_type": "markdown",
   "metadata": {},
   "source": [
    "#### how to access value from results\n",
    " - model = results[0]\n",
    " - mse = results[1]\n",
    " - r2 = results[2]\n",
    " - impfeatures = results[3]"
   ]
  },
  {
   "cell_type": "code",
   "execution_count": 9,
   "metadata": {},
   "outputs": [
    {
     "data": {
      "text/plain": [
       "[RandomForestRegressor(max_depth=4, random_state=10),\n",
       " 0.26045709527970123,\n",
       " 0.1043750396644495,\n",
       " screen                0.128777\n",
       " activity              0.169369\n",
       " total_app_time        0.133401\n",
       " circumplex.arousal    0.153867\n",
       " circumplex.valence    0.267484\n",
       " call_sms              0.077064\n",
       " Friday                0.027479\n",
       " Monday                0.003332\n",
       " Saturday              0.009938\n",
       " Sunday                0.005727\n",
       " Thursday              0.017646\n",
       " Tuesday               0.003208\n",
       " Wednesday             0.002708\n",
       " dtype: float64]"
      ]
     },
     "execution_count": 9,
     "metadata": {},
     "output_type": "execute_result"
    }
   ],
   "source": [
    "results"
   ]
  },
  {
   "cell_type": "code",
   "execution_count": null,
   "metadata": {},
   "outputs": [],
   "source": []
  }
 ],
 "metadata": {
  "kernelspec": {
   "display_name": "Python 3",
   "language": "python",
   "name": "python3"
  },
  "language_info": {
   "codemirror_mode": {
    "name": "ipython",
    "version": 3
   },
   "file_extension": ".py",
   "mimetype": "text/x-python",
   "name": "python",
   "nbconvert_exporter": "python",
   "pygments_lexer": "ipython3",
   "version": "3.8.3"
  }
 },
 "nbformat": 4,
 "nbformat_minor": 5
}
