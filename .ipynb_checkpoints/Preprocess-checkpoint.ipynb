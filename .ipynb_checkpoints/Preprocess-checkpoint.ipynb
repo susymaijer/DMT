{
 "cells": [
  {
   "cell_type": "code",
   "execution_count": 1,
   "metadata": {},
   "outputs": [],
   "source": [
    "import pandas as pd\n",
    "import random\n",
    "import matplotlib.pyplot as plt\n",
    "import seaborn as sns \n",
    "import math"
   ]
  },
  {
   "cell_type": "markdown",
   "metadata": {},
   "source": [
    "TODO things to try:\n",
    "- instead of taking 10%, split data by prop_country_id (idea from #3)\n",
    "- bounding numerical variables, i.e normalising\n",
    "- now i just drop all columns with missing data, but the following is better:\n",
    "  - #2 does something with matching/mismatching historical data and the given hotel data\n",
    "  - #2 sets missing values of competitors to 0\n",
    "  - #1 imputes everything with negative value (??? don't know what he means. probably worst case scenario? or -1?)\n",
    "- normalise price w.r.t search_id or prop_id or search_desintation id, as this can differ really greatly"
   ]
  },
  {
   "cell_type": "code",
   "execution_count": null,
   "metadata": {},
   "outputs": [],
   "source": []
  },
  {
   "cell_type": "code",
   "execution_count": null,
   "metadata": {},
   "outputs": [],
   "source": []
  },
  {
   "cell_type": "markdown",
   "metadata": {},
   "source": [
    "First, we randomly get 10% of the data as it is so big. According to the #1 winner of the competition, this is still enough data to get a really good performance. Also, the #3 has this approach mentioned in their powerpoint."
   ]
  },
  {
   "cell_type": "code",
   "execution_count": 2,
   "metadata": {},
   "outputs": [],
   "source": [
    "train = pd.read_csv(\"data/training_set_VU_DM.csv\")"
   ]
  },
  {
   "cell_type": "code",
   "execution_count": 3,
   "metadata": {},
   "outputs": [
    {
     "name": "stdout",
     "output_type": "stream",
     "text": [
      "There are 199795 searches in the training set and 4958347 data points\n"
     ]
    }
   ],
   "source": [
    "search_ids = train.srch_id.unique()\n",
    "print(f'There are {len(search_ids)} searches in the training set and {len(train)} data points')"
   ]
  },
  {
   "cell_type": "code",
   "execution_count": 4,
   "metadata": {},
   "outputs": [
    {
     "name": "stdout",
     "output_type": "stream",
     "text": [
      "There are 19979 searches in the smaller training set and 496981 data points\n"
     ]
    }
   ],
   "source": [
    "df = train[train.srch_id.isin(random.sample(list(search_ids), int(0.1 * len(search_ids))))]\n",
    "print(f'There are {len(df.srch_id.unique())} searches in the smaller training set and {len(df)} data points')"
   ]
  },
  {
   "cell_type": "markdown",
   "metadata": {},
   "source": [
    "Secondly, we downsample this smaller training set as the data is very imbalanced. We take 5 negatives for every positive instance."
   ]
  },
  {
   "cell_type": "code",
   "execution_count": 5,
   "metadata": {},
   "outputs": [
    {
     "data": {
      "image/png": "[encoded data removed]",
      "text/plain": [
       "<Figure size 432x288 with 1 Axes>"
      ]
     },
     "metadata": {
      "needs_background": "light"
     },
     "output_type": "display_data"
    },
    {
     "data": {
      "image/png": "[encoded data removed]",
      "text/plain": [
       "<Figure size 432x288 with 1 Axes>"
      ]
     },
     "metadata": {
      "needs_background": "light"
     },
     "output_type": "display_data"
    }
   ],
   "source": [
    "plt.hist(df.booking_bool)\n",
    "plt.show()\n",
    "\n",
    "plt.hist(df.click_bool)\n",
    "plt.show()"
   ]
  },
  {
   "cell_type": "code",
   "execution_count": 6,
   "metadata": {},
   "outputs": [
    {
     "name": "stdout",
     "output_type": "stream",
     "text": [
      "On average, there are 1.1128184593823516 clicks/bookings per search\n"
     ]
    }
   ],
   "source": [
    "keep = df[(df.booking_bool==1) | (df.click_bool==1)] # clicked and/or booked\n",
    "avg_keep = keep.groupby('srch_id').size().mean() # average amount of clicks/bools per search\n",
    "print(f'On average, there are {avg_keep} clicks/bookings per search')\n",
    "\n",
    "majority = df[(df.booking_bool==0) & (df.click_bool==0)] # not clicked AND not booked\n",
    "majority_keep = majority.groupby('srch_id').head(int(5*avg_keep)).reset_index(drop=True) # 5 negatives for every positive"
   ]
  },
  {
   "cell_type": "code",
   "execution_count": 7,
   "metadata": {},
   "outputs": [],
   "source": [
    "downsampled = pd.concat([keep, majority_keep], ignore_index=True).sort_values('srch_id').reset_index()"
   ]
  },
  {
   "cell_type": "code",
   "execution_count": 8,
   "metadata": {},
   "outputs": [
    {
     "data": {
      "text/html": [
       "<div>\n",
       "<style scoped>\n",
       "    .dataframe tbody tr th:only-of-type {\n",
       "        vertical-align: middle;\n",
       "    }\n",
       "\n",
       "    .dataframe tbody tr th {\n",
       "        vertical-align: top;\n",
       "    }\n",
       "\n",
       "    .dataframe thead th {\n",
       "        text-align: right;\n",
       "    }\n",
       "</style>\n",
       "<table border=\"1\" class=\"dataframe\">\n",
       "  <thead>\n",
       "    <tr style=\"text-align: right;\">\n",
       "      <th></th>\n",
       "      <th>index</th>\n",
       "      <th>srch_id</th>\n",
       "      <th>date_time</th>\n",
       "      <th>site_id</th>\n",
       "      <th>visitor_location_country_id</th>\n",
       "      <th>visitor_hist_starrating</th>\n",
       "      <th>visitor_hist_adr_usd</th>\n",
       "      <th>prop_country_id</th>\n",
       "      <th>prop_id</th>\n",
       "      <th>prop_starrating</th>\n",
       "      <th>...</th>\n",
       "      <th>comp6_rate_percent_diff</th>\n",
       "      <th>comp7_rate</th>\n",
       "      <th>comp7_inv</th>\n",
       "      <th>comp7_rate_percent_diff</th>\n",
       "      <th>comp8_rate</th>\n",
       "      <th>comp8_inv</th>\n",
       "      <th>comp8_rate_percent_diff</th>\n",
       "      <th>click_bool</th>\n",
       "      <th>gross_bookings_usd</th>\n",
       "      <th>booking_bool</th>\n",
       "    </tr>\n",
       "  </thead>\n",
       "  <tbody>\n",
       "    <tr>\n",
       "      <th>0</th>\n",
       "      <td>0</td>\n",
       "      <td>30</td>\n",
       "      <td>2013-02-11 01:28:38</td>\n",
       "      <td>24</td>\n",
       "      <td>216</td>\n",
       "      <td>NaN</td>\n",
       "      <td>NaN</td>\n",
       "      <td>219</td>\n",
       "      <td>125611</td>\n",
       "      <td>3</td>\n",
       "      <td>...</td>\n",
       "      <td>NaN</td>\n",
       "      <td>NaN</td>\n",
       "      <td>NaN</td>\n",
       "      <td>NaN</td>\n",
       "      <td>0.0</td>\n",
       "      <td>0.0</td>\n",
       "      <td>NaN</td>\n",
       "      <td>1</td>\n",
       "      <td>1831.3</td>\n",
       "      <td>1</td>\n",
       "    </tr>\n",
       "    <tr>\n",
       "      <th>1</th>\n",
       "      <td>22235</td>\n",
       "      <td>30</td>\n",
       "      <td>2013-02-11 01:28:38</td>\n",
       "      <td>24</td>\n",
       "      <td>216</td>\n",
       "      <td>NaN</td>\n",
       "      <td>NaN</td>\n",
       "      <td>219</td>\n",
       "      <td>14504</td>\n",
       "      <td>2</td>\n",
       "      <td>...</td>\n",
       "      <td>NaN</td>\n",
       "      <td>NaN</td>\n",
       "      <td>NaN</td>\n",
       "      <td>NaN</td>\n",
       "      <td>-1.0</td>\n",
       "      <td>0.0</td>\n",
       "      <td>6.0</td>\n",
       "      <td>0</td>\n",
       "      <td>NaN</td>\n",
       "      <td>0</td>\n",
       "    </tr>\n",
       "    <tr>\n",
       "      <th>2</th>\n",
       "      <td>22236</td>\n",
       "      <td>30</td>\n",
       "      <td>2013-02-11 01:28:38</td>\n",
       "      <td>24</td>\n",
       "      <td>216</td>\n",
       "      <td>NaN</td>\n",
       "      <td>NaN</td>\n",
       "      <td>219</td>\n",
       "      <td>15884</td>\n",
       "      <td>2</td>\n",
       "      <td>...</td>\n",
       "      <td>NaN</td>\n",
       "      <td>NaN</td>\n",
       "      <td>NaN</td>\n",
       "      <td>NaN</td>\n",
       "      <td>0.0</td>\n",
       "      <td>0.0</td>\n",
       "      <td>NaN</td>\n",
       "      <td>0</td>\n",
       "      <td>NaN</td>\n",
       "      <td>0</td>\n",
       "    </tr>\n",
       "    <tr>\n",
       "      <th>3</th>\n",
       "      <td>22237</td>\n",
       "      <td>30</td>\n",
       "      <td>2013-02-11 01:28:38</td>\n",
       "      <td>24</td>\n",
       "      <td>216</td>\n",
       "      <td>NaN</td>\n",
       "      <td>NaN</td>\n",
       "      <td>219</td>\n",
       "      <td>18569</td>\n",
       "      <td>4</td>\n",
       "      <td>...</td>\n",
       "      <td>NaN</td>\n",
       "      <td>NaN</td>\n",
       "      <td>NaN</td>\n",
       "      <td>NaN</td>\n",
       "      <td>0.0</td>\n",
       "      <td>0.0</td>\n",
       "      <td>NaN</td>\n",
       "      <td>0</td>\n",
       "      <td>NaN</td>\n",
       "      <td>0</td>\n",
       "    </tr>\n",
       "    <tr>\n",
       "      <th>4</th>\n",
       "      <td>22234</td>\n",
       "      <td>30</td>\n",
       "      <td>2013-02-11 01:28:38</td>\n",
       "      <td>24</td>\n",
       "      <td>216</td>\n",
       "      <td>NaN</td>\n",
       "      <td>NaN</td>\n",
       "      <td>219</td>\n",
       "      <td>13878</td>\n",
       "      <td>3</td>\n",
       "      <td>...</td>\n",
       "      <td>NaN</td>\n",
       "      <td>NaN</td>\n",
       "      <td>NaN</td>\n",
       "      <td>NaN</td>\n",
       "      <td>0.0</td>\n",
       "      <td>0.0</td>\n",
       "      <td>NaN</td>\n",
       "      <td>0</td>\n",
       "      <td>NaN</td>\n",
       "      <td>0</td>\n",
       "    </tr>\n",
       "    <tr>\n",
       "      <th>...</th>\n",
       "      <td>...</td>\n",
       "      <td>...</td>\n",
       "      <td>...</td>\n",
       "      <td>...</td>\n",
       "      <td>...</td>\n",
       "      <td>...</td>\n",
       "      <td>...</td>\n",
       "      <td>...</td>\n",
       "      <td>...</td>\n",
       "      <td>...</td>\n",
       "      <td>...</td>\n",
       "      <td>...</td>\n",
       "      <td>...</td>\n",
       "      <td>...</td>\n",
       "      <td>...</td>\n",
       "      <td>...</td>\n",
       "      <td>...</td>\n",
       "      <td>...</td>\n",
       "      <td>...</td>\n",
       "      <td>...</td>\n",
       "      <td>...</td>\n",
       "    </tr>\n",
       "    <tr>\n",
       "      <th>121608</th>\n",
       "      <td>121611</td>\n",
       "      <td>332777</td>\n",
       "      <td>2013-04-11 10:40:02</td>\n",
       "      <td>16</td>\n",
       "      <td>31</td>\n",
       "      <td>NaN</td>\n",
       "      <td>NaN</td>\n",
       "      <td>219</td>\n",
       "      <td>19823</td>\n",
       "      <td>4</td>\n",
       "      <td>...</td>\n",
       "      <td>NaN</td>\n",
       "      <td>NaN</td>\n",
       "      <td>NaN</td>\n",
       "      <td>NaN</td>\n",
       "      <td>0.0</td>\n",
       "      <td>0.0</td>\n",
       "      <td>NaN</td>\n",
       "      <td>0</td>\n",
       "      <td>NaN</td>\n",
       "      <td>0</td>\n",
       "    </tr>\n",
       "    <tr>\n",
       "      <th>121609</th>\n",
       "      <td>121608</td>\n",
       "      <td>332777</td>\n",
       "      <td>2013-04-11 10:40:02</td>\n",
       "      <td>16</td>\n",
       "      <td>31</td>\n",
       "      <td>NaN</td>\n",
       "      <td>NaN</td>\n",
       "      <td>219</td>\n",
       "      <td>2501</td>\n",
       "      <td>2</td>\n",
       "      <td>...</td>\n",
       "      <td>NaN</td>\n",
       "      <td>NaN</td>\n",
       "      <td>NaN</td>\n",
       "      <td>NaN</td>\n",
       "      <td>0.0</td>\n",
       "      <td>0.0</td>\n",
       "      <td>NaN</td>\n",
       "      <td>0</td>\n",
       "      <td>NaN</td>\n",
       "      <td>0</td>\n",
       "    </tr>\n",
       "    <tr>\n",
       "      <th>121610</th>\n",
       "      <td>121609</td>\n",
       "      <td>332777</td>\n",
       "      <td>2013-04-11 10:40:02</td>\n",
       "      <td>16</td>\n",
       "      <td>31</td>\n",
       "      <td>NaN</td>\n",
       "      <td>NaN</td>\n",
       "      <td>219</td>\n",
       "      <td>10876</td>\n",
       "      <td>3</td>\n",
       "      <td>...</td>\n",
       "      <td>NaN</td>\n",
       "      <td>NaN</td>\n",
       "      <td>NaN</td>\n",
       "      <td>NaN</td>\n",
       "      <td>0.0</td>\n",
       "      <td>0.0</td>\n",
       "      <td>NaN</td>\n",
       "      <td>0</td>\n",
       "      <td>NaN</td>\n",
       "      <td>0</td>\n",
       "    </tr>\n",
       "    <tr>\n",
       "      <th>121611</th>\n",
       "      <td>121610</td>\n",
       "      <td>332777</td>\n",
       "      <td>2013-04-11 10:40:02</td>\n",
       "      <td>16</td>\n",
       "      <td>31</td>\n",
       "      <td>NaN</td>\n",
       "      <td>NaN</td>\n",
       "      <td>219</td>\n",
       "      <td>17592</td>\n",
       "      <td>4</td>\n",
       "      <td>...</td>\n",
       "      <td>NaN</td>\n",
       "      <td>NaN</td>\n",
       "      <td>NaN</td>\n",
       "      <td>NaN</td>\n",
       "      <td>0.0</td>\n",
       "      <td>0.0</td>\n",
       "      <td>NaN</td>\n",
       "      <td>0</td>\n",
       "      <td>NaN</td>\n",
       "      <td>0</td>\n",
       "    </tr>\n",
       "    <tr>\n",
       "      <th>121612</th>\n",
       "      <td>121612</td>\n",
       "      <td>332777</td>\n",
       "      <td>2013-04-11 10:40:02</td>\n",
       "      <td>16</td>\n",
       "      <td>31</td>\n",
       "      <td>NaN</td>\n",
       "      <td>NaN</td>\n",
       "      <td>219</td>\n",
       "      <td>20969</td>\n",
       "      <td>4</td>\n",
       "      <td>...</td>\n",
       "      <td>NaN</td>\n",
       "      <td>NaN</td>\n",
       "      <td>NaN</td>\n",
       "      <td>NaN</td>\n",
       "      <td>0.0</td>\n",
       "      <td>0.0</td>\n",
       "      <td>NaN</td>\n",
       "      <td>0</td>\n",
       "      <td>NaN</td>\n",
       "      <td>0</td>\n",
       "    </tr>\n",
       "  </tbody>\n",
       "</table>\n",
       "<p>121613 rows × 55 columns</p>\n",
       "</div>"
      ],
      "text/plain": [
       "         index  srch_id            date_time  site_id  \\\n",
       "0            0       30  2013-02-11 01:28:38       24   \n",
       "1        22235       30  2013-02-11 01:28:38       24   \n",
       "2        22236       30  2013-02-11 01:28:38       24   \n",
       "3        22237       30  2013-02-11 01:28:38       24   \n",
       "4        22234       30  2013-02-11 01:28:38       24   \n",
       "...        ...      ...                  ...      ...   \n",
       "121608  121611   332777  2013-04-11 10:40:02       16   \n",
       "121609  121608   332777  2013-04-11 10:40:02       16   \n",
       "121610  121609   332777  2013-04-11 10:40:02       16   \n",
       "121611  121610   332777  2013-04-11 10:40:02       16   \n",
       "121612  121612   332777  2013-04-11 10:40:02       16   \n",
       "\n",
       "        visitor_location_country_id  visitor_hist_starrating  \\\n",
       "0                               216                      NaN   \n",
       "1                               216                      NaN   \n",
       "2                               216                      NaN   \n",
       "3                               216                      NaN   \n",
       "4                               216                      NaN   \n",
       "...                             ...                      ...   \n",
       "121608                           31                      NaN   \n",
       "121609                           31                      NaN   \n",
       "121610                           31                      NaN   \n",
       "121611                           31                      NaN   \n",
       "121612                           31                      NaN   \n",
       "\n",
       "        visitor_hist_adr_usd  prop_country_id  prop_id  prop_starrating  ...  \\\n",
       "0                        NaN              219   125611                3  ...   \n",
       "1                        NaN              219    14504                2  ...   \n",
       "2                        NaN              219    15884                2  ...   \n",
       "3                        NaN              219    18569                4  ...   \n",
       "4                        NaN              219    13878                3  ...   \n",
       "...                      ...              ...      ...              ...  ...   \n",
       "121608                   NaN              219    19823                4  ...   \n",
       "121609                   NaN              219     2501                2  ...   \n",
       "121610                   NaN              219    10876                3  ...   \n",
       "121611                   NaN              219    17592                4  ...   \n",
       "121612                   NaN              219    20969                4  ...   \n",
       "\n",
       "        comp6_rate_percent_diff  comp7_rate  comp7_inv  \\\n",
       "0                           NaN         NaN        NaN   \n",
       "1                           NaN         NaN        NaN   \n",
       "2                           NaN         NaN        NaN   \n",
       "3                           NaN         NaN        NaN   \n",
       "4                           NaN         NaN        NaN   \n",
       "...                         ...         ...        ...   \n",
       "121608                      NaN         NaN        NaN   \n",
       "121609                      NaN         NaN        NaN   \n",
       "121610                      NaN         NaN        NaN   \n",
       "121611                      NaN         NaN        NaN   \n",
       "121612                      NaN         NaN        NaN   \n",
       "\n",
       "        comp7_rate_percent_diff  comp8_rate  comp8_inv  \\\n",
       "0                           NaN         0.0        0.0   \n",
       "1                           NaN        -1.0        0.0   \n",
       "2                           NaN         0.0        0.0   \n",
       "3                           NaN         0.0        0.0   \n",
       "4                           NaN         0.0        0.0   \n",
       "...                         ...         ...        ...   \n",
       "121608                      NaN         0.0        0.0   \n",
       "121609                      NaN         0.0        0.0   \n",
       "121610                      NaN         0.0        0.0   \n",
       "121611                      NaN         0.0        0.0   \n",
       "121612                      NaN         0.0        0.0   \n",
       "\n",
       "        comp8_rate_percent_diff  click_bool  gross_bookings_usd  booking_bool  \n",
       "0                           NaN           1              1831.3             1  \n",
       "1                           6.0           0                 NaN             0  \n",
       "2                           NaN           0                 NaN             0  \n",
       "3                           NaN           0                 NaN             0  \n",
       "4                           NaN           0                 NaN             0  \n",
       "...                         ...         ...                 ...           ...  \n",
       "121608                      NaN           0                 NaN             0  \n",
       "121609                      NaN           0                 NaN             0  \n",
       "121610                      NaN           0                 NaN             0  \n",
       "121611                      NaN           0                 NaN             0  \n",
       "121612                      NaN           0                 NaN             0  \n",
       "\n",
       "[121613 rows x 55 columns]"
      ]
     },
     "execution_count": 8,
     "metadata": {},
     "output_type": "execute_result"
    }
   ],
   "source": [
    "downsampled"
   ]
  },
  {
   "cell_type": "code",
   "execution_count": 9,
   "metadata": {},
   "outputs": [
    {
     "data": {
      "image/png": "[encoded data removed]",
      "text/plain": [
       "<Figure size 432x288 with 1 Axes>"
      ]
     },
     "metadata": {
      "needs_background": "light"
     },
     "output_type": "display_data"
    },
    {
     "data": {
      "image/png": "[encoded data removed]",
      "text/plain": [
       "<Figure size 432x288 with 1 Axes>"
      ]
     },
     "metadata": {
      "needs_background": "light"
     },
     "output_type": "display_data"
    }
   ],
   "source": [
    "plt.hist(downsampled.booking_bool)\n",
    "plt.show()\n",
    "\n",
    "plt.hist(downsampled.click_bool)\n",
    "plt.show()"
   ]
  },
  {
   "cell_type": "code",
   "execution_count": 10,
   "metadata": {},
   "outputs": [],
   "source": [
    "downsampled.to_csv(\"data/training_set_VU_DM_small_downsampled.csv\")"
   ]
  },
  {
   "cell_type": "markdown",
   "metadata": {},
   "source": [
    "Missing value imputation"
   ]
  },
  {
   "cell_type": "code",
   "execution_count": 11,
   "metadata": {},
   "outputs": [
    {
     "data": {
      "text/plain": [
       "Text(0.5, 1.0, 'Missing value % per Variables')"
      ]
     },
     "execution_count": 11,
     "metadata": {},
     "output_type": "execute_result"
    },
    {
     "data": {
      "image/png": "[encoded data removed]",
      "text/plain": [
       "<Figure size 1440x720 with 1 Axes>"
      ]
     },
     "metadata": {
      "needs_background": "light"
     },
     "output_type": "display_data"
    }
   ],
   "source": [
    "df = downsampled\n",
    "missing = (df.isna().sum()/df.shape[0]*100) # missing percentages\n",
    "\n",
    "# plot missing \n",
    "plt.figure(figsize=(20,10))\n",
    "missing.sort_values().plot(kind='bar')\n",
    "plt.title('Missing value % per Variables')"
   ]
  },
  {
   "cell_type": "code",
   "execution_count": 12,
   "metadata": {},
   "outputs": [
    {
     "data": {
      "text/plain": [
       "visitor_hist_starrating      94.839368\n",
       "visitor_hist_adr_usd         94.804832\n",
       "srch_query_affinity_score    93.924992\n",
       "comp1_rate                   97.668012\n",
       "comp1_inv                    97.480533\n",
       "comp1_rate_percent_diff      98.174537\n",
       "comp2_rate                   61.432577\n",
       "comp2_rate_percent_diff      89.032423\n",
       "comp3_rate                   70.729281\n",
       "comp3_inv                    68.298619\n",
       "comp3_rate_percent_diff      90.540485\n",
       "comp4_rate                   93.814806\n",
       "comp4_inv                    93.087088\n",
       "comp4_rate_percent_diff      97.432018\n",
       "comp5_rate_percent_diff      83.642374\n",
       "comp6_rate                   95.132922\n",
       "comp6_inv                    94.679845\n",
       "comp6_rate_percent_diff      98.082442\n",
       "comp7_rate                   93.527008\n",
       "comp7_inv                    92.661969\n",
       "comp7_rate_percent_diff      97.187801\n",
       "comp8_rate                   63.586952\n",
       "comp8_inv                    62.063266\n",
       "comp8_rate_percent_diff      88.036641\n",
       "gross_bookings_usd           88.631972\n",
       "dtype: float64"
      ]
     },
     "execution_count": 12,
     "metadata": {},
     "output_type": "execute_result"
    }
   ],
   "source": [
    "discard = missing[missing>60]\n",
    "discard"
   ]
  },
  {
   "cell_type": "code",
   "execution_count": 13,
   "metadata": {},
   "outputs": [],
   "source": [
    "df.drop(discard.index, axis=1, inplace=True)"
   ]
  },
  {
   "cell_type": "code",
   "execution_count": 14,
   "metadata": {},
   "outputs": [
    {
     "data": {
      "text/plain": [
       "Text(0.5, 1.0, 'Missing value % per Variables')"
      ]
     },
     "execution_count": 14,
     "metadata": {},
     "output_type": "execute_result"
    },
    {
     "data": {
      "image/png": "[encoded data removed]",
      "text/plain": [
       "<Figure size 1440x720 with 1 Axes>"
      ]
     },
     "metadata": {
      "needs_background": "light"
     },
     "output_type": "display_data"
    }
   ],
   "source": [
    "missing = (df.isna().sum()/df.shape[0]*100) # missing percentages\n",
    "\n",
    "# plot missing \n",
    "plt.figure(figsize=(20,10))\n",
    "missing.sort_values().plot(kind='bar')\n",
    "plt.title('Missing value % per Variables')"
   ]
  },
  {
   "cell_type": "code",
   "execution_count": 15,
   "metadata": {},
   "outputs": [
    {
     "data": {
      "text/html": [
       "<div>\n",
       "<style scoped>\n",
       "    .dataframe tbody tr th:only-of-type {\n",
       "        vertical-align: middle;\n",
       "    }\n",
       "\n",
       "    .dataframe tbody tr th {\n",
       "        vertical-align: top;\n",
       "    }\n",
       "\n",
       "    .dataframe thead th {\n",
       "        text-align: right;\n",
       "    }\n",
       "</style>\n",
       "<table border=\"1\" class=\"dataframe\">\n",
       "  <thead>\n",
       "    <tr style=\"text-align: right;\">\n",
       "      <th></th>\n",
       "      <th>index</th>\n",
       "      <th>srch_id</th>\n",
       "      <th>site_id</th>\n",
       "      <th>visitor_location_country_id</th>\n",
       "      <th>prop_country_id</th>\n",
       "      <th>prop_id</th>\n",
       "      <th>prop_starrating</th>\n",
       "      <th>prop_review_score</th>\n",
       "      <th>prop_brand_bool</th>\n",
       "      <th>prop_location_score1</th>\n",
       "      <th>...</th>\n",
       "      <th>srch_children_count</th>\n",
       "      <th>srch_room_count</th>\n",
       "      <th>srch_saturday_night_bool</th>\n",
       "      <th>orig_destination_distance</th>\n",
       "      <th>random_bool</th>\n",
       "      <th>comp2_inv</th>\n",
       "      <th>comp5_rate</th>\n",
       "      <th>comp5_inv</th>\n",
       "      <th>click_bool</th>\n",
       "      <th>booking_bool</th>\n",
       "    </tr>\n",
       "  </thead>\n",
       "  <tbody>\n",
       "    <tr>\n",
       "      <th>count</th>\n",
       "      <td>121613.000000</td>\n",
       "      <td>121613.000000</td>\n",
       "      <td>121613.000000</td>\n",
       "      <td>121613.000000</td>\n",
       "      <td>121613.000000</td>\n",
       "      <td>121613.000000</td>\n",
       "      <td>121613.000000</td>\n",
       "      <td>121383.000000</td>\n",
       "      <td>121613.000000</td>\n",
       "      <td>121613.000000</td>\n",
       "      <td>...</td>\n",
       "      <td>121613.000000</td>\n",
       "      <td>121613.000000</td>\n",
       "      <td>121613.000000</td>\n",
       "      <td>81428.000000</td>\n",
       "      <td>121613.000000</td>\n",
       "      <td>49617.000000</td>\n",
       "      <td>52297.000000</td>\n",
       "      <td>55691.000000</td>\n",
       "      <td>121613.000000</td>\n",
       "      <td>121613.000000</td>\n",
       "    </tr>\n",
       "    <tr>\n",
       "      <th>mean</th>\n",
       "      <td>60806.000000</td>\n",
       "      <td>166045.506574</td>\n",
       "      <td>10.053604</td>\n",
       "      <td>173.106938</td>\n",
       "      <td>172.301374</td>\n",
       "      <td>30742.700764</td>\n",
       "      <td>3.167655</td>\n",
       "      <td>3.762257</td>\n",
       "      <td>0.624859</td>\n",
       "      <td>2.800688</td>\n",
       "      <td>...</td>\n",
       "      <td>0.378068</td>\n",
       "      <td>1.128531</td>\n",
       "      <td>0.507775</td>\n",
       "      <td>1291.317013</td>\n",
       "      <td>0.306349</td>\n",
       "      <td>0.041982</td>\n",
       "      <td>0.024151</td>\n",
       "      <td>0.051858</td>\n",
       "      <td>0.182818</td>\n",
       "      <td>0.113680</td>\n",
       "    </tr>\n",
       "    <tr>\n",
       "      <th>std</th>\n",
       "      <td>35106.793481</td>\n",
       "      <td>96046.880668</td>\n",
       "      <td>7.651538</td>\n",
       "      <td>67.127328</td>\n",
       "      <td>68.943264</td>\n",
       "      <td>32755.973043</td>\n",
       "      <td>1.091762</td>\n",
       "      <td>1.074146</td>\n",
       "      <td>0.484161</td>\n",
       "      <td>1.542255</td>\n",
       "      <td>...</td>\n",
       "      <td>0.755954</td>\n",
       "      <td>0.448898</td>\n",
       "      <td>0.499942</td>\n",
       "      <td>2004.742359</td>\n",
       "      <td>0.460978</td>\n",
       "      <td>0.244067</td>\n",
       "      <td>0.525444</td>\n",
       "      <td>0.271870</td>\n",
       "      <td>0.386519</td>\n",
       "      <td>0.317424</td>\n",
       "    </tr>\n",
       "    <tr>\n",
       "      <th>min</th>\n",
       "      <td>0.000000</td>\n",
       "      <td>30.000000</td>\n",
       "      <td>1.000000</td>\n",
       "      <td>2.000000</td>\n",
       "      <td>2.000000</td>\n",
       "      <td>1.000000</td>\n",
       "      <td>0.000000</td>\n",
       "      <td>0.000000</td>\n",
       "      <td>0.000000</td>\n",
       "      <td>0.000000</td>\n",
       "      <td>...</td>\n",
       "      <td>0.000000</td>\n",
       "      <td>1.000000</td>\n",
       "      <td>0.000000</td>\n",
       "      <td>0.010000</td>\n",
       "      <td>0.000000</td>\n",
       "      <td>-1.000000</td>\n",
       "      <td>-1.000000</td>\n",
       "      <td>-1.000000</td>\n",
       "      <td>0.000000</td>\n",
       "      <td>0.000000</td>\n",
       "    </tr>\n",
       "    <tr>\n",
       "      <th>25%</th>\n",
       "      <td>30403.000000</td>\n",
       "      <td>83192.000000</td>\n",
       "      <td>5.000000</td>\n",
       "      <td>100.000000</td>\n",
       "      <td>100.000000</td>\n",
       "      <td>8679.000000</td>\n",
       "      <td>3.000000</td>\n",
       "      <td>3.500000</td>\n",
       "      <td>0.000000</td>\n",
       "      <td>1.610000</td>\n",
       "      <td>...</td>\n",
       "      <td>0.000000</td>\n",
       "      <td>1.000000</td>\n",
       "      <td>0.000000</td>\n",
       "      <td>142.855000</td>\n",
       "      <td>0.000000</td>\n",
       "      <td>0.000000</td>\n",
       "      <td>0.000000</td>\n",
       "      <td>0.000000</td>\n",
       "      <td>0.000000</td>\n",
       "      <td>0.000000</td>\n",
       "    </tr>\n",
       "    <tr>\n",
       "      <th>50%</th>\n",
       "      <td>60806.000000</td>\n",
       "      <td>165665.000000</td>\n",
       "      <td>5.000000</td>\n",
       "      <td>219.000000</td>\n",
       "      <td>219.000000</td>\n",
       "      <td>18420.000000</td>\n",
       "      <td>3.000000</td>\n",
       "      <td>4.000000</td>\n",
       "      <td>1.000000</td>\n",
       "      <td>2.710000</td>\n",
       "      <td>...</td>\n",
       "      <td>0.000000</td>\n",
       "      <td>1.000000</td>\n",
       "      <td>1.000000</td>\n",
       "      <td>386.520000</td>\n",
       "      <td>0.000000</td>\n",
       "      <td>0.000000</td>\n",
       "      <td>0.000000</td>\n",
       "      <td>0.000000</td>\n",
       "      <td>0.000000</td>\n",
       "      <td>0.000000</td>\n",
       "    </tr>\n",
       "    <tr>\n",
       "      <th>75%</th>\n",
       "      <td>91209.000000</td>\n",
       "      <td>249408.000000</td>\n",
       "      <td>14.000000</td>\n",
       "      <td>219.000000</td>\n",
       "      <td>219.000000</td>\n",
       "      <td>38542.000000</td>\n",
       "      <td>4.000000</td>\n",
       "      <td>4.500000</td>\n",
       "      <td>1.000000</td>\n",
       "      <td>3.950000</td>\n",
       "      <td>...</td>\n",
       "      <td>0.000000</td>\n",
       "      <td>1.000000</td>\n",
       "      <td>1.000000</td>\n",
       "      <td>1453.477500</td>\n",
       "      <td>1.000000</td>\n",
       "      <td>0.000000</td>\n",
       "      <td>0.000000</td>\n",
       "      <td>0.000000</td>\n",
       "      <td>0.000000</td>\n",
       "      <td>0.000000</td>\n",
       "    </tr>\n",
       "    <tr>\n",
       "      <th>max</th>\n",
       "      <td>121612.000000</td>\n",
       "      <td>332777.000000</td>\n",
       "      <td>34.000000</td>\n",
       "      <td>230.000000</td>\n",
       "      <td>230.000000</td>\n",
       "      <td>140816.000000</td>\n",
       "      <td>5.000000</td>\n",
       "      <td>5.000000</td>\n",
       "      <td>1.000000</td>\n",
       "      <td>6.950000</td>\n",
       "      <td>...</td>\n",
       "      <td>8.000000</td>\n",
       "      <td>8.000000</td>\n",
       "      <td>1.000000</td>\n",
       "      <td>11640.920000</td>\n",
       "      <td>1.000000</td>\n",
       "      <td>1.000000</td>\n",
       "      <td>1.000000</td>\n",
       "      <td>1.000000</td>\n",
       "      <td>1.000000</td>\n",
       "      <td>1.000000</td>\n",
       "    </tr>\n",
       "  </tbody>\n",
       "</table>\n",
       "<p>8 rows × 29 columns</p>\n",
       "</div>"
      ],
      "text/plain": [
       "               index        srch_id        site_id  \\\n",
       "count  121613.000000  121613.000000  121613.000000   \n",
       "mean    60806.000000  166045.506574      10.053604   \n",
       "std     35106.793481   96046.880668       7.651538   \n",
       "min         0.000000      30.000000       1.000000   \n",
       "25%     30403.000000   83192.000000       5.000000   \n",
       "50%     60806.000000  165665.000000       5.000000   \n",
       "75%     91209.000000  249408.000000      14.000000   \n",
       "max    121612.000000  332777.000000      34.000000   \n",
       "\n",
       "       visitor_location_country_id  prop_country_id        prop_id  \\\n",
       "count                121613.000000    121613.000000  121613.000000   \n",
       "mean                    173.106938       172.301374   30742.700764   \n",
       "std                      67.127328        68.943264   32755.973043   \n",
       "min                       2.000000         2.000000       1.000000   \n",
       "25%                     100.000000       100.000000    8679.000000   \n",
       "50%                     219.000000       219.000000   18420.000000   \n",
       "75%                     219.000000       219.000000   38542.000000   \n",
       "max                     230.000000       230.000000  140816.000000   \n",
       "\n",
       "       prop_starrating  prop_review_score  prop_brand_bool  \\\n",
       "count    121613.000000      121383.000000    121613.000000   \n",
       "mean          3.167655           3.762257         0.624859   \n",
       "std           1.091762           1.074146         0.484161   \n",
       "min           0.000000           0.000000         0.000000   \n",
       "25%           3.000000           3.500000         0.000000   \n",
       "50%           3.000000           4.000000         1.000000   \n",
       "75%           4.000000           4.500000         1.000000   \n",
       "max           5.000000           5.000000         1.000000   \n",
       "\n",
       "       prop_location_score1  ...  srch_children_count  srch_room_count  \\\n",
       "count         121613.000000  ...        121613.000000    121613.000000   \n",
       "mean               2.800688  ...             0.378068         1.128531   \n",
       "std                1.542255  ...             0.755954         0.448898   \n",
       "min                0.000000  ...             0.000000         1.000000   \n",
       "25%                1.610000  ...             0.000000         1.000000   \n",
       "50%                2.710000  ...             0.000000         1.000000   \n",
       "75%                3.950000  ...             0.000000         1.000000   \n",
       "max                6.950000  ...             8.000000         8.000000   \n",
       "\n",
       "       srch_saturday_night_bool  orig_destination_distance    random_bool  \\\n",
       "count             121613.000000               81428.000000  121613.000000   \n",
       "mean                   0.507775                1291.317013       0.306349   \n",
       "std                    0.499942                2004.742359       0.460978   \n",
       "min                    0.000000                   0.010000       0.000000   \n",
       "25%                    0.000000                 142.855000       0.000000   \n",
       "50%                    1.000000                 386.520000       0.000000   \n",
       "75%                    1.000000                1453.477500       1.000000   \n",
       "max                    1.000000               11640.920000       1.000000   \n",
       "\n",
       "          comp2_inv    comp5_rate     comp5_inv     click_bool   booking_bool  \n",
       "count  49617.000000  52297.000000  55691.000000  121613.000000  121613.000000  \n",
       "mean       0.041982      0.024151      0.051858       0.182818       0.113680  \n",
       "std        0.244067      0.525444      0.271870       0.386519       0.317424  \n",
       "min       -1.000000     -1.000000     -1.000000       0.000000       0.000000  \n",
       "25%        0.000000      0.000000      0.000000       0.000000       0.000000  \n",
       "50%        0.000000      0.000000      0.000000       0.000000       0.000000  \n",
       "75%        0.000000      0.000000      0.000000       0.000000       0.000000  \n",
       "max        1.000000      1.000000      1.000000       1.000000       1.000000  \n",
       "\n",
       "[8 rows x 29 columns]"
      ]
     },
     "execution_count": 15,
     "metadata": {},
     "output_type": "execute_result"
    }
   ],
   "source": [
    "df.describe()"
   ]
  },
  {
   "cell_type": "code",
   "execution_count": 16,
   "metadata": {},
   "outputs": [],
   "source": [
    "impute = df.copy()\n",
    "\n",
    "# hotel properties: impute with worst case scenario. Stolen from #2 and #3\n",
    "impute[['prop_review_score', 'prop_location_score2']] = impute[['prop_review_score','prop_location_score2']].fillna(value=0)"
   ]
  },
  {
   "cell_type": "code",
   "execution_count": 18,
   "metadata": {},
   "outputs": [
    {
     "data": {
      "text/plain": [
       "Text(0.5, 1.0, 'Missing value % per Variables')"
      ]
     },
     "execution_count": 18,
     "metadata": {},
     "output_type": "execute_result"
    },
    {
     "data": {
      "image/png": "[encoded data removed]",
      "text/plain": [
       "<Figure size 1440x720 with 1 Axes>"
      ]
     },
     "metadata": {
      "needs_background": "light"
     },
     "output_type": "display_data"
    }
   ],
   "source": [
    "missing = (impute.isna().sum()/impute.shape[0]*100) # missing percentages\n",
    "\n",
    "# plot missing \n",
    "plt.figure(figsize=(20,10))\n",
    "missing.sort_values().plot(kind='bar')\n",
    "plt.title('Missing value % per Variables')"
   ]
  },
  {
   "cell_type": "code",
   "execution_count": null,
   "metadata": {},
   "outputs": [],
   "source": []
  },
  {
   "cell_type": "markdown",
   "metadata": {},
   "source": [
    "Create new target, i.e relevance??? So the metric asin NDCG? 5 if booked, 1 if clicked, else 0?"
   ]
  },
  {
   "cell_type": "code",
   "execution_count": null,
   "metadata": {},
   "outputs": [],
   "source": []
  }
 ],
 "metadata": {
  "kernelspec": {
   "display_name": "Python 3",
   "language": "python",
   "name": "python3"
  },
  "language_info": {
   "codemirror_mode": {
    "name": "ipython",
    "version": 3
   },
   "file_extension": ".py",
   "mimetype": "text/x-python",
   "name": "python",
   "nbconvert_exporter": "python",
   "pygments_lexer": "ipython3",
   "version": "3.8.5"
  }
 },
 "nbformat": 4,
 "nbformat_minor": 4
}
