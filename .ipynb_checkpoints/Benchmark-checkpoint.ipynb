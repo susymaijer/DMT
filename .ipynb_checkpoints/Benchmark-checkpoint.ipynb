{
 "cells": [
  {
   "cell_type": "code",
   "execution_count": 1,
   "metadata": {},
   "outputs": [],
   "source": [
    "import pandas as pd\n",
    "import numpy as np\n",
    "from matplotlib import pyplot as plt\n",
    "import seaborn as sns \n",
    "from sklearn.metrics import mean_squared_error, r2_score"
   ]
  },
  {
   "cell_type": "markdown",
   "metadata": {},
   "source": [
    "Make benchmark performance model"
   ]
  },
  {
   "cell_type": "code",
   "execution_count": 2,
   "metadata": {},
   "outputs": [],
   "source": [
    "df = pd.read_csv('data/data_arima.csv', index_col=1)[['mood', 'benchmark']] ## todo change: do data that RF uses\n",
    "df = df[~df.mood.isna() & ~df.benchmark.isna()] ## todo: remove after using data that RF uses\n",
    "benchmark = df.groupby('id').apply(lambda x: mean_squared_error(x.mood, x.benchmark)).to_frame('mse')\n",
    "benchmark['r2'] = df.groupby('id').apply(lambda x: r2_score(x.mood, x.benchmark))\n",
    "benchmark['corr'] = df.apply(lambda x: abs(x.mood - x.benchmark) < 0.5, axis=1).groupby('id').apply(lambda x: x.sum() / x.count())\n",
    "benchmark\n",
    "benchmark.to_csv('results/benchmark.csv')"
   ]
  },
  {
   "cell_type": "code",
   "execution_count": null,
   "metadata": {},
   "outputs": [],
   "source": []
  }
 ],
 "metadata": {
  "kernelspec": {
   "display_name": "Python 3",
   "language": "python",
   "name": "python3"
  },
  "language_info": {
   "codemirror_mode": {
    "name": "ipython",
    "version": 3
   },
   "file_extension": ".py",
   "mimetype": "text/x-python",
   "name": "python",
   "nbconvert_exporter": "python",
   "pygments_lexer": "ipython3",
   "version": "3.8.3"
  }
 },
 "nbformat": 4,
 "nbformat_minor": 4
}
