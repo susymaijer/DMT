{
 "cells": [
  {
   "cell_type": "code",
   "execution_count": 1,
   "metadata": {},
   "outputs": [],
   "source": [
    "import pandas as pd \n",
    "import numpy as np \n",
    "import  seaborn as sns\n",
    "import matplotlib.pyplot as plt\n",
    "from sklearn.preprocessing import StandardScaler\n",
    "from sklearn.model_selection import train_test_split, RandomizedSearchCV\n",
    "from sklearn.ensemble import RandomForestRegressor \n",
    "from sklearn.metrics import mean_squared_error, r2_score\n",
    "from datetime import datetime\n",
    "import warnings\n",
    "warnings.filterwarnings('ignore')"
   ]
  },
  {
   "cell_type": "code",
   "execution_count": 2,
   "metadata": {},
   "outputs": [],
   "source": [
    "filename = 'data/RF_lag_3_original'"
   ]
  },
  {
   "cell_type": "code",
   "execution_count": 3,
   "metadata": {},
   "outputs": [
    {
     "name": "stdout",
     "output_type": "stream",
     "text": [
      "(1267, 11)\n"
     ]
    },
    {
     "data": {
      "text/html": [
       "<div>\n",
       "<style scoped>\n",
       "    .dataframe tbody tr th:only-of-type {\n",
       "        vertical-align: middle;\n",
       "    }\n",
       "\n",
       "    .dataframe tbody tr th {\n",
       "        vertical-align: top;\n",
       "    }\n",
       "\n",
       "    .dataframe thead th {\n",
       "        text-align: right;\n",
       "    }\n",
       "</style>\n",
       "<table border=\"1\" class=\"dataframe\">\n",
       "  <thead>\n",
       "    <tr style=\"text-align: right;\">\n",
       "      <th></th>\n",
       "      <th>id</th>\n",
       "      <th>time</th>\n",
       "      <th>mood_next_day</th>\n",
       "      <th>screen</th>\n",
       "      <th>activity</th>\n",
       "      <th>total_app_time</th>\n",
       "      <th>circumplex.arousal</th>\n",
       "      <th>circumplex.valence</th>\n",
       "      <th>call_sms</th>\n",
       "      <th>mood</th>\n",
       "      <th>is_weekday</th>\n",
       "    </tr>\n",
       "  </thead>\n",
       "  <tbody>\n",
       "    <tr>\n",
       "      <th>0</th>\n",
       "      <td>AS14.01</td>\n",
       "      <td>2014-02-25</td>\n",
       "      <td>6.250000</td>\n",
       "      <td>11883.724018</td>\n",
       "      <td>0.091654</td>\n",
       "      <td>11060.902622</td>\n",
       "      <td>-0.232593</td>\n",
       "      <td>0.685556</td>\n",
       "      <td>2.333333</td>\n",
       "      <td>7.021481</td>\n",
       "      <td>0.666667</td>\n",
       "    </tr>\n",
       "    <tr>\n",
       "      <th>1</th>\n",
       "      <td>AS14.01</td>\n",
       "      <td>2014-02-26</td>\n",
       "      <td>6.333333</td>\n",
       "      <td>11883.724018</td>\n",
       "      <td>0.091654</td>\n",
       "      <td>11060.902622</td>\n",
       "      <td>-0.250000</td>\n",
       "      <td>0.750000</td>\n",
       "      <td>3.000000</td>\n",
       "      <td>6.250000</td>\n",
       "      <td>0.666667</td>\n",
       "    </tr>\n",
       "    <tr>\n",
       "      <th>2</th>\n",
       "      <td>AS14.01</td>\n",
       "      <td>2014-03-20</td>\n",
       "      <td>6.200000</td>\n",
       "      <td>2275.944000</td>\n",
       "      <td>0.081548</td>\n",
       "      <td>1202.738000</td>\n",
       "      <td>-0.232593</td>\n",
       "      <td>0.685556</td>\n",
       "      <td>1.666667</td>\n",
       "      <td>7.021481</td>\n",
       "      <td>1.000000</td>\n",
       "    </tr>\n",
       "  </tbody>\n",
       "</table>\n",
       "</div>"
      ],
      "text/plain": [
       "        id        time  mood_next_day        screen  activity  total_app_time  \\\n",
       "0  AS14.01  2014-02-25       6.250000  11883.724018  0.091654    11060.902622   \n",
       "1  AS14.01  2014-02-26       6.333333  11883.724018  0.091654    11060.902622   \n",
       "2  AS14.01  2014-03-20       6.200000   2275.944000  0.081548     1202.738000   \n",
       "\n",
       "   circumplex.arousal  circumplex.valence  call_sms      mood  is_weekday  \n",
       "0           -0.232593            0.685556  2.333333  7.021481    0.666667  \n",
       "1           -0.250000            0.750000  3.000000  6.250000    0.666667  \n",
       "2           -0.232593            0.685556  1.666667  7.021481    1.000000  "
      ]
     },
     "execution_count": 3,
     "metadata": {},
     "output_type": "execute_result"
    }
   ],
   "source": [
    "bigdf = pd.read_csv(filename, sep = \"\\t\")\n",
    "print(bigdf.shape)\n",
    "bigdf.head(n=3)"
   ]
  },
  {
   "cell_type": "code",
   "execution_count": 4,
   "metadata": {},
   "outputs": [],
   "source": [
    "#Globalmodel "
   ]
  },
  {
   "cell_type": "code",
   "execution_count": 5,
   "metadata": {},
   "outputs": [],
   "source": [
    "# list of columns you want to drop from x matrix ( this is just example) always call df as df \n",
    "dropcols = ['id', 'time', 'mood_next_day'] \n",
    "target = 'mood_next_day' # target you want to predict \n",
    "test_size = 0.3 # 30 % data as test set "
   ]
  },
  {
   "cell_type": "code",
   "execution_count": 6,
   "metadata": {},
   "outputs": [
    {
     "name": "stdout",
     "output_type": "stream",
     "text": [
      "{'n_estimators': [10, 20, 30, 40, 50, 60, 70, 80, 90, 100], 'max_depth': [2, 3, 4], 'max_features': ['auto', 'sqrt']}\n"
     ]
    }
   ],
   "source": [
    "# Define your hyperparameters\n",
    "n_estimaters = [int(x) for x in np.linspace(start = 10 , stop = 100 , num = 10)]\n",
    "max_depth = [2,3,4]\n",
    "max_features = ['auto', 'sqrt']\n",
    "\n",
    "#set parameter grid for hyper parameter tuning \n",
    "param_grid = {\"n_estimators\" : n_estimaters,\n",
    "             \"max_depth\" : max_depth,\n",
    "             \"max_features\" : max_features}\n",
    "print(param_grid)"
   ]
  },
  {
   "cell_type": "code",
   "execution_count": 7,
   "metadata": {},
   "outputs": [],
   "source": [
    "\n",
    "# these function is access within rfmodel but you can use it separatetly\n",
    "#train test split \n",
    "def get_train_test(df, dropcols, target, test_size):\n",
    "    \"\"\"this function will take raw dataframe \n",
    "    and gives you train and test for model building \"\"\"\n",
    "    X = df.drop(dropcols, axis=1)\n",
    "    y = df[target]\n",
    "    X_train, X_test, y_train, y_test = train_test_split(X, y,\n",
    "                                                        test_size=test_size,\n",
    "                                                        random_state=10)\n",
    "    return X_train, X_test, y_train, y_test \n",
    "\n",
    "#parameter tuning \n",
    "\n",
    "def param_tuning(X_train, X_test, y_train, y_test):\n",
    "    \"\"\" this function will return best parameters\"\"\"\n",
    "    rfr = RandomForestRegressor() # initialize model with no parameters \n",
    "    rf_tune = RandomizedSearchCV(rfr, param_distributions=param_grid,\n",
    "                              cv = 5, verbose =2 , n_jobs=4)\n",
    "    rf_tune.fit(X_train, y_train)\n",
    "    print(f'Train Accuracy - : {rf_tune.score(X_train, y_train):.3f}')\n",
    "    print(f'Test Accuracy - : {rf_tune.score(X_test, y_test):.3f}')\n",
    "    return rf_tune.best_params_\n",
    "#how to run \n",
    "#best_param = param_tuning(X_train, X_test, y_train, y_test)\n",
    "\n",
    "# final model you should run this command only\n",
    "def rfmodel():\n",
    "    '''run rf model and hyperparameter'''\n",
    "    X_train, X_test, y_train, y_test = get_train_test(df=df,\n",
    "                                                      dropcols =dropcols,\n",
    "                                                      target = target,\n",
    "                                                      test_size = test_size)\n",
    "    best_params = param_tuning(X_train, X_test, y_train, y_test)\n",
    "    \n",
    "    #fit best model \n",
    "    n_estimator = best_params['n_estimators']\n",
    "    max_feature = best_params['max_features']\n",
    "    max_dept = best_params['max_depth']\n",
    "    bestmodel = RandomForestRegressor(n_estimators=n_estimator,\n",
    "                                      max_features=max_feature,\n",
    "                                      max_depth = max_dept,\n",
    "                                      random_state = 10)\n",
    "    bestmodel.fit(X_train, y_train)\n",
    "    y_pred = bestmodel.predict(X_test)\n",
    "    #get performance stats \n",
    "    mse = mean_squared_error(y_test, y_pred)\n",
    "    r2 = r2_score(y_test, y_pred)\n",
    "    #get feature importance \n",
    "    feat_importance = pd.Series(bestmodel.feature_importances_, \n",
    "                                 index=X_train.columns)\n",
    "    #feat_importance.nlargest(X_train.columns).plot(kind='barh', color = 'darkblue')\n",
    "    \n",
    "    return [bestmodel, mse, r2, feat_importance] # this return list of factors\n",
    "\n",
    " # how to run results = rfmodel()   # access model results[0], access mse = results[1]"
   ]
  },
  {
   "cell_type": "markdown",
   "metadata": {},
   "source": [
    "# DO quick check"
   ]
  },
  {
   "cell_type": "markdown",
   "metadata": {},
   "source": [
    "#### Run global model "
   ]
  },
  {
   "cell_type": "code",
   "execution_count": null,
   "metadata": {},
   "outputs": [
    {
     "name": "stdout",
     "output_type": "stream",
     "text": [
      "Fitting 5 folds for each of 10 candidates, totalling 50 fits\n"
     ]
    },
    {
     "name": "stderr",
     "output_type": "stream",
     "text": [
      "[Parallel(n_jobs=4)]: Using backend LokyBackend with 4 concurrent workers.\n"
     ]
    }
   ],
   "source": [
    "#global model quick check \n",
    "df = bigdf.copy()\n",
    "results = rfmodel()"
   ]
  },
  {
   "cell_type": "code",
   "execution_count": null,
   "metadata": {},
   "outputs": [],
   "source": [
    "#global results \n",
    "results # access mse = results[1]"
   ]
  },
  {
   "cell_type": "markdown",
   "metadata": {},
   "source": [
    "##### Run Individual model "
   ]
  },
  {
   "cell_type": "code",
   "execution_count": null,
   "metadata": {},
   "outputs": [],
   "source": [
    "#Individual level model \n",
    "# quick check ( per person model )\n",
    "mse = {}\n",
    "for ids in bigdf.id.value_counts().index:\n",
    "    print(ids)\n",
    "    df = bigdf[bigdf.id==ids]\n",
    "    results = rfmodel()\n",
    "    mse[ids] = results[1]\n",
    "    \n",
    "\n",
    "pd.DataFrame(list(mse.items()),columns = ['id','mse'])['mse'].mean()"
   ]
  }
 ],
 "metadata": {
  "kernelspec": {
   "display_name": "Python 3",
   "language": "python",
   "name": "python3"
  },
  "language_info": {
   "codemirror_mode": {
    "name": "ipython",
    "version": 3
   },
   "file_extension": ".py",
   "mimetype": "text/x-python",
   "name": "python",
   "nbconvert_exporter": "python",
   "pygments_lexer": "ipython3",
   "version": "3.8.3"
  }
 },
 "nbformat": 4,
 "nbformat_minor": 5
}
