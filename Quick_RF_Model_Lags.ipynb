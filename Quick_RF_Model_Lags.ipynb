{
 "cells": [
  {
   "cell_type": "code",
   "execution_count": 1,
   "id": "bigger-small",
   "metadata": {},
   "outputs": [],
   "source": [
    "import pandas as pd \n",
    "import numpy as np \n",
    "import  seaborn as sns\n",
    "import matplotlib.pyplot as plt\n",
    "from sklearn.preprocessing import StandardScaler\n",
    "from sklearn.model_selection import train_test_split, RandomizedSearchCV\n",
    "from sklearn.ensemble import RandomForestRegressor \n",
    "from sklearn.metrics import mean_squared_error, r2_score\n",
    "from datetime import datetime\n",
    "import warnings\n",
    "warnings.filterwarnings('ignore')"
   ]
  },
  {
   "cell_type": "code",
   "execution_count": 2,
   "id": "hydraulic-force",
   "metadata": {},
   "outputs": [],
   "source": [
    "filename = 'data/RF_lag_3'"
   ]
  },
  {
   "cell_type": "code",
   "execution_count": 3,
   "id": "wanted-desperate",
   "metadata": {},
   "outputs": [
    {
     "name": "stdout",
     "output_type": "stream",
     "text": [
      "(1258, 18)\n"
     ]
    },
    {
     "data": {
      "text/html": [
       "<div>\n",
       "<style scoped>\n",
       "    .dataframe tbody tr th:only-of-type {\n",
       "        vertical-align: middle;\n",
       "    }\n",
       "\n",
       "    .dataframe tbody tr th {\n",
       "        vertical-align: top;\n",
       "    }\n",
       "\n",
       "    .dataframe thead th {\n",
       "        text-align: right;\n",
       "    }\n",
       "</style>\n",
       "<table border=\"1\" class=\"dataframe\">\n",
       "  <thead>\n",
       "    <tr style=\"text-align: right;\">\n",
       "      <th></th>\n",
       "      <th>id</th>\n",
       "      <th>time</th>\n",
       "      <th>mood_next_day</th>\n",
       "      <th>screen</th>\n",
       "      <th>activity</th>\n",
       "      <th>total_app_time</th>\n",
       "      <th>circumplex.arousal</th>\n",
       "      <th>circumplex.valence</th>\n",
       "      <th>call_sms</th>\n",
       "      <th>mood</th>\n",
       "      <th>is_weekday</th>\n",
       "      <th>Friday</th>\n",
       "      <th>Monday</th>\n",
       "      <th>Saturday</th>\n",
       "      <th>Sunday</th>\n",
       "      <th>Thursday</th>\n",
       "      <th>Tuesday</th>\n",
       "      <th>Wednesday</th>\n",
       "    </tr>\n",
       "  </thead>\n",
       "  <tbody>\n",
       "    <tr>\n",
       "      <th>0</th>\n",
       "      <td>AS14.01</td>\n",
       "      <td>2014-02-25</td>\n",
       "      <td>6.250000</td>\n",
       "      <td>11883.724018</td>\n",
       "      <td>0.091654</td>\n",
       "      <td>11060.902622</td>\n",
       "      <td>-0.232593</td>\n",
       "      <td>0.685556</td>\n",
       "      <td>2.333333</td>\n",
       "      <td>7.021481</td>\n",
       "      <td>0.666667</td>\n",
       "      <td>0.333333</td>\n",
       "      <td>0.0</td>\n",
       "      <td>0.333333</td>\n",
       "      <td>0.0</td>\n",
       "      <td>0.000000</td>\n",
       "      <td>0.333333</td>\n",
       "      <td>0.000000</td>\n",
       "    </tr>\n",
       "    <tr>\n",
       "      <th>1</th>\n",
       "      <td>AS14.01</td>\n",
       "      <td>2014-02-26</td>\n",
       "      <td>6.333333</td>\n",
       "      <td>11883.724018</td>\n",
       "      <td>0.091654</td>\n",
       "      <td>11060.902622</td>\n",
       "      <td>-0.250000</td>\n",
       "      <td>0.750000</td>\n",
       "      <td>3.000000</td>\n",
       "      <td>6.250000</td>\n",
       "      <td>0.666667</td>\n",
       "      <td>0.000000</td>\n",
       "      <td>0.0</td>\n",
       "      <td>0.333333</td>\n",
       "      <td>0.0</td>\n",
       "      <td>0.000000</td>\n",
       "      <td>0.333333</td>\n",
       "      <td>0.333333</td>\n",
       "    </tr>\n",
       "    <tr>\n",
       "      <th>2</th>\n",
       "      <td>AS14.01</td>\n",
       "      <td>2014-03-20</td>\n",
       "      <td>6.200000</td>\n",
       "      <td>2275.944000</td>\n",
       "      <td>0.081548</td>\n",
       "      <td>1202.738000</td>\n",
       "      <td>-0.232593</td>\n",
       "      <td>0.685556</td>\n",
       "      <td>1.666667</td>\n",
       "      <td>7.021481</td>\n",
       "      <td>1.000000</td>\n",
       "      <td>0.000000</td>\n",
       "      <td>0.0</td>\n",
       "      <td>0.000000</td>\n",
       "      <td>0.0</td>\n",
       "      <td>0.333333</td>\n",
       "      <td>0.333333</td>\n",
       "      <td>0.333333</td>\n",
       "    </tr>\n",
       "  </tbody>\n",
       "</table>\n",
       "</div>"
      ],
      "text/plain": [
       "        id        time  mood_next_day        screen  activity  total_app_time  \\\n",
       "0  AS14.01  2014-02-25       6.250000  11883.724018  0.091654    11060.902622   \n",
       "1  AS14.01  2014-02-26       6.333333  11883.724018  0.091654    11060.902622   \n",
       "2  AS14.01  2014-03-20       6.200000   2275.944000  0.081548     1202.738000   \n",
       "\n",
       "   circumplex.arousal  circumplex.valence  call_sms      mood  is_weekday  \\\n",
       "0           -0.232593            0.685556  2.333333  7.021481    0.666667   \n",
       "1           -0.250000            0.750000  3.000000  6.250000    0.666667   \n",
       "2           -0.232593            0.685556  1.666667  7.021481    1.000000   \n",
       "\n",
       "     Friday  Monday  Saturday  Sunday  Thursday   Tuesday  Wednesday  \n",
       "0  0.333333     0.0  0.333333     0.0  0.000000  0.333333   0.000000  \n",
       "1  0.000000     0.0  0.333333     0.0  0.000000  0.333333   0.333333  \n",
       "2  0.000000     0.0  0.000000     0.0  0.333333  0.333333   0.333333  "
      ]
     },
     "execution_count": 3,
     "metadata": {},
     "output_type": "execute_result"
    }
   ],
   "source": [
    "bigdf = pd.read_csv(filename, sep = \"\\t\")\n",
    "print(bigdf.shape)\n",
    "bigdf.head(n=3)"
   ]
  },
  {
   "cell_type": "code",
   "execution_count": 4,
   "id": "complete-scottish",
   "metadata": {},
   "outputs": [],
   "source": [
    "#Globalmodel "
   ]
  },
  {
   "cell_type": "code",
   "execution_count": 5,
   "id": "silent-muscle",
   "metadata": {},
   "outputs": [],
   "source": [
    "# list of columns you want to drop from x matrix ( this is just example) always call df as df \n",
    "dropcols = ['id', 'time', 'mood_next_day'] \n",
    "target = 'mood_next_day' # target you want to predict \n",
    "test_size = 0.3 # 30 % data as test set "
   ]
  },
  {
   "cell_type": "code",
   "execution_count": 6,
   "id": "growing-hungary",
   "metadata": {},
   "outputs": [
    {
     "name": "stdout",
     "output_type": "stream",
     "text": [
      "{'n_estimators': [10, 20, 30, 40, 50, 60, 70, 80, 90, 100], 'max_depth': [2, 3, 4], 'max_features': ['auto', 'sqrt']}\n"
     ]
    }
   ],
   "source": [
    "# Define your hyperparameters\n",
    "n_estimaters = [int(x) for x in np.linspace(start = 10 , stop = 100 , num = 10)]\n",
    "max_depth = [2,3,4]\n",
    "max_features = ['auto', 'sqrt']\n",
    "\n",
    "#set parameter grid for hyper parameter tuning \n",
    "param_grid = {\"n_estimators\" : n_estimaters,\n",
    "             \"max_depth\" : max_depth,\n",
    "             \"max_features\" : max_features}\n",
    "print(param_grid)"
   ]
  },
  {
   "cell_type": "code",
   "execution_count": 7,
   "id": "mature-rough",
   "metadata": {},
   "outputs": [],
   "source": [
    "\n",
    "# these function is access within rfmodel but you can use it separatetly\n",
    "#train test split \n",
    "def get_train_test(df, dropcols, target, test_size):\n",
    "    \"\"\"this function will take raw dataframe \n",
    "    and gives you train and test for model building \"\"\"\n",
    "    X = df.drop(dropcols, axis=1)\n",
    "    y = df[target]\n",
    "    X_train, X_test, y_train, y_test = train_test_split(X, y,\n",
    "                                                        test_size=test_size,\n",
    "                                                        random_state=10)\n",
    "    return X_train, X_test, y_train, y_test \n",
    "\n",
    "#parameter tuning \n",
    "\n",
    "def param_tuning(X_train, X_test, y_train, y_test):\n",
    "    \"\"\" this function will return best parameters\"\"\"\n",
    "    rfr = RandomForestRegressor() # initialize model with no parameters \n",
    "    rf_tune = RandomizedSearchCV(rfr, param_distributions=param_grid,\n",
    "                              cv = 5, verbose =2 , n_jobs=4)\n",
    "    rf_tune.fit(X_train, y_train)\n",
    "    print(f'Train Accuracy - : {rf_tune.score(X_train, y_train):.3f}')\n",
    "    print(f'Test Accuracy - : {rf_tune.score(X_test, y_test):.3f}')\n",
    "    return rf_tune.best_params_\n",
    "#how to run \n",
    "#best_param = param_tuning(X_train, X_test, y_train, y_test)\n",
    "\n",
    "# final model you should run this command only\n",
    "def rfmodel():\n",
    "    '''run rf model and hyperparameter'''\n",
    "    X_train, X_test, y_train, y_test = get_train_test(df=df,\n",
    "                                                      dropcols =dropcols,\n",
    "                                                      target = target,\n",
    "                                                      test_size = test_size)\n",
    "    best_params = param_tuning(X_train, X_test, y_train, y_test)\n",
    "    \n",
    "    #fit best model \n",
    "    n_estimator = best_params['n_estimators']\n",
    "    max_feature = best_params['max_features']\n",
    "    max_dept = best_params['max_depth']\n",
    "    bestmodel = RandomForestRegressor(n_estimators=n_estimator,\n",
    "                                      max_features=max_feature,\n",
    "                                      max_depth = max_dept,\n",
    "                                      random_state = 10)\n",
    "    bestmodel.fit(X_train, y_train)\n",
    "    y_pred = bestmodel.predict(X_test)\n",
    "    #get performance stats \n",
    "    mse = mean_squared_error(y_test, y_pred)\n",
    "    r2 = r2_score(y_test, y_pred)\n",
    "    #get feature importance \n",
    "    feat_importance = pd.Series(bestmodel.feature_importances_, \n",
    "                                 index=X_train.columns)\n",
    "    #feat_importance.nlargest(X_train.columns).plot(kind='barh', color = 'darkblue')\n",
    "    \n",
    "    return [bestmodel, mse, r2, feat_importance] # this return list of factors\n",
    "\n",
    " # how to run results = rfmodel()   # access model results[0], access mse = results[1]"
   ]
  },
  {
   "cell_type": "markdown",
   "id": "comic-investigation",
   "metadata": {},
   "source": [
    "# DO quick check"
   ]
  },
  {
   "cell_type": "markdown",
   "id": "settled-execution",
   "metadata": {},
   "source": [
    "#### Run global model "
   ]
  },
  {
   "cell_type": "code",
   "execution_count": 8,
   "id": "grand-insertion",
   "metadata": {},
   "outputs": [
    {
     "name": "stdout",
     "output_type": "stream",
     "text": [
      "Fitting 5 folds for each of 10 candidates, totalling 50 fits\n",
      "Train Accuracy - : 0.383\n",
      "Test Accuracy - : 0.217\n"
     ]
    }
   ],
   "source": [
    "#global model quick check \n",
    "df = bigdf.copy()\n",
    "results = rfmodel()"
   ]
  },
  {
   "cell_type": "code",
   "execution_count": 9,
   "id": "suburban-greensboro",
   "metadata": {},
   "outputs": [
    {
     "data": {
      "text/plain": [
       "[RandomForestRegressor(max_depth=4, n_estimators=30, random_state=10),\n",
       " 0.4197271449258702,\n",
       " 0.21880681906475496,\n",
       " screen                0.027840\n",
       " activity              0.083470\n",
       " total_app_time        0.032725\n",
       " circumplex.arousal    0.049272\n",
       " circumplex.valence    0.084628\n",
       " call_sms              0.045171\n",
       " mood                  0.623339\n",
       " is_weekday            0.006491\n",
       " Friday                0.000473\n",
       " Monday                0.006441\n",
       " Saturday              0.011824\n",
       " Sunday                0.005130\n",
       " Thursday              0.020686\n",
       " Tuesday               0.002509\n",
       " Wednesday             0.000000\n",
       " dtype: float64]"
      ]
     },
     "execution_count": 9,
     "metadata": {},
     "output_type": "execute_result"
    }
   ],
   "source": [
    "#global results \n",
    "results # access mse = results[1]"
   ]
  },
  {
   "cell_type": "markdown",
   "id": "intensive-zealand",
   "metadata": {},
   "source": [
    "##### Run Individual model "
   ]
  },
  {
   "cell_type": "code",
   "execution_count": 10,
   "id": "average-precipitation",
   "metadata": {},
   "outputs": [
    {
     "name": "stdout",
     "output_type": "stream",
     "text": [
      "AS14.26\n",
      "Fitting 5 folds for each of 10 candidates, totalling 50 fits\n",
      "Train Accuracy - : 0.657\n",
      "Test Accuracy - : 0.421\n",
      "AS14.08\n",
      "Fitting 5 folds for each of 10 candidates, totalling 50 fits\n",
      "Train Accuracy - : 0.495\n",
      "Test Accuracy - : 0.224\n",
      "AS14.15\n",
      "Fitting 5 folds for each of 10 candidates, totalling 50 fits\n",
      "Train Accuracy - : 0.425\n",
      "Test Accuracy - : -0.347\n",
      "AS14.17\n",
      "Fitting 5 folds for each of 10 candidates, totalling 50 fits\n",
      "Train Accuracy - : 0.428\n",
      "Test Accuracy - : -0.234\n",
      "AS14.24\n",
      "Fitting 5 folds for each of 10 candidates, totalling 50 fits\n",
      "Train Accuracy - : 0.380\n",
      "Test Accuracy - : 0.019\n",
      "AS14.16\n",
      "Fitting 5 folds for each of 10 candidates, totalling 50 fits\n",
      "Train Accuracy - : 0.662\n",
      "Test Accuracy - : -0.371\n",
      "AS14.13\n",
      "Fitting 5 folds for each of 10 candidates, totalling 50 fits\n",
      "Train Accuracy - : 0.657\n",
      "Test Accuracy - : 0.166\n",
      "AS14.05\n",
      "Fitting 5 folds for each of 10 candidates, totalling 50 fits\n",
      "Train Accuracy - : 0.747\n",
      "Test Accuracy - : -0.114\n",
      "AS14.07\n",
      "Fitting 5 folds for each of 10 candidates, totalling 50 fits\n",
      "Train Accuracy - : 0.515\n",
      "Test Accuracy - : -1.104\n",
      "AS14.01\n",
      "Fitting 5 folds for each of 10 candidates, totalling 50 fits\n",
      "Train Accuracy - : 0.836\n",
      "Test Accuracy - : 0.120\n",
      "AS14.30\n",
      "Fitting 5 folds for each of 10 candidates, totalling 50 fits\n",
      "Train Accuracy - : 0.335\n",
      "Test Accuracy - : -0.117\n",
      "AS14.03\n",
      "Fitting 5 folds for each of 10 candidates, totalling 50 fits\n",
      "Train Accuracy - : 0.668\n",
      "Test Accuracy - : 0.165\n",
      "AS14.20\n",
      "Fitting 5 folds for each of 10 candidates, totalling 50 fits\n",
      "Train Accuracy - : 0.692\n",
      "Test Accuracy - : -0.179\n",
      "AS14.19\n",
      "Fitting 5 folds for each of 10 candidates, totalling 50 fits\n",
      "Train Accuracy - : 0.449\n",
      "Test Accuracy - : 0.018\n",
      "AS14.09\n",
      "Fitting 5 folds for each of 10 candidates, totalling 50 fits\n",
      "Train Accuracy - : 0.741\n",
      "Test Accuracy - : 0.034\n",
      "AS14.06\n",
      "Fitting 5 folds for each of 10 candidates, totalling 50 fits\n",
      "Train Accuracy - : 0.395\n",
      "Test Accuracy - : -0.223\n",
      "AS14.14\n",
      "Fitting 5 folds for each of 10 candidates, totalling 50 fits\n",
      "Train Accuracy - : 0.752\n",
      "Test Accuracy - : -0.027\n",
      "AS14.33\n",
      "Fitting 5 folds for each of 10 candidates, totalling 50 fits\n",
      "Train Accuracy - : 0.662\n",
      "Test Accuracy - : -0.323\n",
      "AS14.31\n",
      "Fitting 5 folds for each of 10 candidates, totalling 50 fits\n",
      "Train Accuracy - : 0.413\n",
      "Test Accuracy - : -0.173\n",
      "AS14.27\n",
      "Fitting 5 folds for each of 10 candidates, totalling 50 fits\n",
      "Train Accuracy - : 0.640\n",
      "Test Accuracy - : -0.443\n",
      "AS14.29\n",
      "Fitting 5 folds for each of 10 candidates, totalling 50 fits\n",
      "Train Accuracy - : 0.452\n",
      "Test Accuracy - : -0.096\n",
      "AS14.02\n",
      "Fitting 5 folds for each of 10 candidates, totalling 50 fits\n",
      "Train Accuracy - : 0.829\n",
      "Test Accuracy - : -0.088\n",
      "AS14.12\n",
      "Fitting 5 folds for each of 10 candidates, totalling 50 fits\n",
      "Train Accuracy - : 0.691\n",
      "Test Accuracy - : -0.536\n",
      "AS14.23\n",
      "Fitting 5 folds for each of 10 candidates, totalling 50 fits\n",
      "Train Accuracy - : 0.532\n",
      "Test Accuracy - : -0.024\n",
      "AS14.28\n",
      "Fitting 5 folds for each of 10 candidates, totalling 50 fits\n",
      "Train Accuracy - : 0.864\n",
      "Test Accuracy - : -0.472\n",
      "AS14.32\n",
      "Fitting 5 folds for each of 10 candidates, totalling 50 fits\n",
      "Train Accuracy - : 0.459\n",
      "Test Accuracy - : -0.050\n",
      "AS14.25\n",
      "Fitting 5 folds for each of 10 candidates, totalling 50 fits\n",
      "Train Accuracy - : 0.598\n",
      "Test Accuracy - : -0.902\n"
     ]
    },
    {
     "data": {
      "text/plain": [
       "0.38977617289865746"
      ]
     },
     "execution_count": 10,
     "metadata": {},
     "output_type": "execute_result"
    }
   ],
   "source": [
    "#Individual level model \n",
    "# quick check ( per person model )\n",
    "mse = {}\n",
    "for ids in bigdf.id.value_counts().index:\n",
    "    print(ids)\n",
    "    df = bigdf[bigdf.id==ids]\n",
    "    results = rfmodel()\n",
    "    mse[ids] = results[1]\n",
    "    \n",
    "\n",
    "pd.DataFrame(list(mse.items()),columns = ['id','mse'])['mse'].mean()"
   ]
  }
 ],
 "metadata": {
  "kernelspec": {
   "display_name": "Python 3",
   "language": "python",
   "name": "python3"
  },
  "language_info": {
   "codemirror_mode": {
    "name": "ipython",
    "version": 3
   },
   "file_extension": ".py",
   "mimetype": "text/x-python",
   "name": "python",
   "nbconvert_exporter": "python",
   "pygments_lexer": "ipython3",
   "version": "3.8.5"
  }
 },
 "nbformat": 4,
 "nbformat_minor": 5
}
